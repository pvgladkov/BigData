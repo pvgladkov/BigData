{
 "metadata": {
  "name": "",
  "signature": "sha256:f5f336cb83bfe6713c5580e9200bd5acaf40bc93a03a5ee9c2cee89827f49259"
 },
 "nbformat": 3,
 "nbformat_minor": 0,
 "worksheets": [
  {
   "cells": [
    {
     "cell_type": "markdown",
     "metadata": {},
     "source": [
      "\u0422\u0435\u043f\u0435\u0440\u044c \u0440\u0430\u0441\u0441\u043c\u043e\u0442\u0440\u0438\u043c Deel Learning \u043f\u043e\u0434\u0445\u043e\u0434 - \u0430 \u0438\u043c\u0435\u043d\u043d\u043e \u043f\u043e\u0441\u043c\u043e\u0442\u0440\u0438\u043c \u043d\u0430 word2vec (\u0436\u0435\u043b\u0430\u044e\u0449\u0438\u0435 \u043c\u043e\u0433\u0443\u0442 \u0434\u043e\u0434\u0435\u043b\u0430\u0442\u044c \u043f\u0440\u0438\u043c\u0435\u0440 \u0434\u043e\u043c\u0430)<br>\n",
      "\u041f\u043e\u0434\u0440\u043e\u0431\u043d\u043e \u0442\u0430\u043a\u0436\u0435 \u044d\u0442\u0430 \u0437\u0430\u0434\u0430\u0447\u0430 \u0442\u0430\u043a\u0436\u0435 \u0441\u0435\u0433\u043e\u0434\u043d\u044f \u0432\u0435\u0447\u0435\u0440\u043e\u043c \u0431\u0443\u0434\u0435\u0442 \u0440\u0430\u0441\u0441\u043c\u043e\u0442\u0440\u0435\u043d\u0430 \u043d\u0430 MLClass.ru <br>\n",
      "\u0417\u0410\u041c\u0415\u0427\u0410\u041d\u0418\u0415: \u043d\u0435 \u043f\u044b\u0442\u0430\u0439\u0442\u0435\u0441\u044c \u044d\u0442\u043e \u043f\u043e\u0432\u0442\u043e\u0440\u0438\u0442\u044c \u0432 \u0434\u043e\u043c\u0430\u0448\u043d\u0435\u0439 \u0437\u0430\u0434\u0430\u0447\u0435, \u0442.\u043a. \u0442\u0430\u043c \u044d\u0442\u043e \u043d\u0435 \u0440\u0430\u0431\u043e\u0442\u0430\u0435\u0442! "
     ]
    },
    {
     "cell_type": "code",
     "collapsed": false,
     "input": [
      "import pandas as pd"
     ],
     "language": "python",
     "metadata": {},
     "outputs": [],
     "prompt_number": 1
    },
    {
     "cell_type": "code",
     "collapsed": false,
     "input": [
      "train = pd.read_csv(\"/Users/akrot/Desktop/bagw/labeledTrainData.tsv\", header = 0, delimiter = \"\\t\", quoting = 3, encoding=\"utf-8\")\n",
      "test = pd.read_csv('/Users/akrot/Desktop/bagw/testData.tsv', header = 0, delimiter = '\\t', quoting = 3, encoding=\"utf-8\")\n",
      "unlabeled_train = pd.read_csv(\"/Users/akrot/Desktop/bagw/unlabeledTrainData.tsv\", header = 0, delimiter = \"\\t\", quoting = 3, encoding=\"utf-8\")"
     ],
     "language": "python",
     "metadata": {},
     "outputs": [],
     "prompt_number": 3
    },
    {
     "cell_type": "markdown",
     "metadata": {},
     "source": [
      "\u041e\u043f\u044f\u0442\u044c \u0436\u0435, \u043f\u0438\u0448\u0435\u043c \u0444\u0443\u043d\u043a\u0446\u0438\u044e \u043f\u0440\u0435\u043e\u0431\u0440\u0430\u0437\u043e\u0432\u0430\u043d\u0438\u044f \u043d\u0430 \u0438\u0437 \u0442\u0435\u043a\u0441\u0442\u0430 \u0432 wordlist"
     ]
    },
    {
     "cell_type": "code",
     "collapsed": false,
     "input": [
      "from bs4 import BeautifulSoup\n",
      "import re\n",
      "from nltk.corpus import stopwords\n",
      "\n",
      "def review_to_wordlist(review, remove_stopwords = False):\n",
      "    review_text = BeautifulSoup(review).get_text()\n",
      "    review_text = re.sub('[^a-zA-Z]', ' ', review_text)\n",
      "    \n",
      "    words = review_text.lower().split()\n",
      "    \n",
      "    if remove_stopwords:\n",
      "        stops = set(stopwords.words('english'))\n",
      "        words = [w for w in words if not w in stops]\n",
      "        \n",
      "    return words"
     ],
     "language": "python",
     "metadata": {},
     "outputs": [],
     "prompt_number": 4
    },
    {
     "cell_type": "markdown",
     "metadata": {},
     "source": [
      "\u041e\u0442\u043b\u0438\u0447\u0438\u0442\u0435\u043b\u044c\u043d\u043e\u0439 \u043e\u0441\u043e\u0431\u0435\u043d\u043d\u043e\u0441\u0442\u044c\u044e \u0437\u0434\u0435\u0441\u044c \u044f\u0432\u043b\u044f\u0435\u0442\u0441\u044f \u0442\u043e, \u0447\u0442\u043e \u043d\u0443\u0436\u043d\u043e \u043d\u0430 \u0432\u0445\u043e\u0434 \u043f\u043e\u0434\u0430\u0432\u0430\u0442\u044c \u043f\u0440\u0435\u0434\u043e\u043b\u0436\u0435\u043d\u0438\u044f, \u0442.\u043a. \u0432 \u043d\u0438\u0445 \u0441\u043e\u0434\u0435\u0440\u0436\u0438\u0442\u0441\u044f \u0432\u0441\u044f \u0438\u043d\u0444\u043e\u0440\u043c\u0430\u0446\u0438\u044f \u043e \u0441\u0432\u044f\u0437\u044f\u0445 \u043c\u0435\u0436\u0434\u0443 \u0441\u043b\u043e\u0432\u0430\u043c\u0438"
     ]
    },
    {
     "cell_type": "code",
     "collapsed": false,
     "input": [
      "import nltk.data\n",
      "\n",
      "tokenizer = nltk.data.load('tokenizers/punkt/english.pickle')"
     ],
     "language": "python",
     "metadata": {},
     "outputs": [],
     "prompt_number": 6
    },
    {
     "cell_type": "code",
     "collapsed": false,
     "input": [
      "def review_to_sentences(review, tokenizer, remove_stopwords = False):\n",
      "    raw_sentences = tokenizer.tokenize(review.strip())\n",
      "    \n",
      "    sentences = []\n",
      "    for raw_sentence in raw_sentences:\n",
      "        if len(raw_sentence) > 0:\n",
      "            sentences.append(review_to_wordlist(raw_sentence, remove_stopwords))\n",
      "            \n",
      "            \n",
      "    return sentences"
     ],
     "language": "python",
     "metadata": {},
     "outputs": [],
     "prompt_number": 7
    },
    {
     "cell_type": "code",
     "collapsed": false,
     "input": [
      "sentences = []\n",
      "\n",
      "for review in train['review']:\n",
      "    sentences += review_to_sentences(review, tokenizer)\n",
      "    \n",
      "for review in unlabeled_train['review']:\n",
      "    sentences += review_to_sentences(review, tokenizer)"
     ],
     "language": "python",
     "metadata": {},
     "outputs": [
      {
       "output_type": "stream",
       "stream": "stderr",
       "text": [
        "/Users/akrot/anaconda/lib/python2.7/site-packages/bs4/__init__.py:182: UserWarning: \".\" looks like a filename, not markup. You should probably open this file and pass the filehandle into Beautiful Soup.\n",
        "  '\"%s\" looks like a filename, not markup. You should probably open this file and pass the filehandle into Beautiful Soup.' % markup)\n",
        "/Users/akrot/anaconda/lib/python2.7/site-packages/bs4/__init__.py:189: UserWarning: \"http://www.happierabroad.com\"\" looks like a URL. Beautiful Soup is not an HTTP client. You should probably use an HTTP client to get the document behind the URL, and feed that document to Beautiful Soup.\n",
        "  '\"%s\" looks like a URL. Beautiful Soup is not an HTTP client. You should probably use an HTTP client to get the document behind the URL, and feed that document to Beautiful Soup.' % markup)\n"
       ]
      },
      {
       "output_type": "stream",
       "stream": "stderr",
       "text": [
        "/Users/akrot/anaconda/lib/python2.7/site-packages/bs4/__init__.py:189: UserWarning: \"http://www.archive.org/details/LovefromaStranger\"\" looks like a URL. Beautiful Soup is not an HTTP client. You should probably use an HTTP client to get the document behind the URL, and feed that document to Beautiful Soup.\n",
        "  '\"%s\" looks like a URL. Beautiful Soup is not an HTTP client. You should probably use an HTTP client to get the document behind the URL, and feed that document to Beautiful Soup.' % markup)\n",
        "/Users/akrot/anaconda/lib/python2.7/site-packages/bs4/__init__.py:189: UserWarning: \"http://www.loosechangeguide.com/LooseChangeGuide.html\"\" looks like a URL. Beautiful Soup is not an HTTP client. You should probably use an HTTP client to get the document behind the URL, and feed that document to Beautiful Soup.\n",
        "  '\"%s\" looks like a URL. Beautiful Soup is not an HTTP client. You should probably use an HTTP client to get the document behind the URL, and feed that document to Beautiful Soup.' % markup)\n"
       ]
      },
      {
       "output_type": "stream",
       "stream": "stderr",
       "text": [
        "/Users/akrot/anaconda/lib/python2.7/site-packages/bs4/__init__.py:189: UserWarning: \"http://www.msnbc.msn.com/id/4972055/site/newsweek/\"\" looks like a URL. Beautiful Soup is not an HTTP client. You should probably use an HTTP client to get the document behind the URL, and feed that document to Beautiful Soup.\n",
        "  '\"%s\" looks like a URL. Beautiful Soup is not an HTTP client. You should probably use an HTTP client to get the document behind the URL, and feed that document to Beautiful Soup.' % markup)\n",
        "/Users/akrot/anaconda/lib/python2.7/site-packages/bs4/__init__.py:182: UserWarning: \"..\" looks like a filename, not markup. You should probably open this file and pass the filehandle into Beautiful Soup.\n",
        "  '\"%s\" looks like a filename, not markup. You should probably open this file and pass the filehandle into Beautiful Soup.' % markup)\n"
       ]
      },
      {
       "output_type": "stream",
       "stream": "stderr",
       "text": [
        "/Users/akrot/anaconda/lib/python2.7/site-packages/bs4/__init__.py:189: UserWarning: \"http://www.youtube.com/watch?v=a0KSqelmgN8\"\" looks like a URL. Beautiful Soup is not an HTTP client. You should probably use an HTTP client to get the document behind the URL, and feed that document to Beautiful Soup.\n",
        "  '\"%s\" looks like a URL. Beautiful Soup is not an HTTP client. You should probably use an HTTP client to get the document behind the URL, and feed that document to Beautiful Soup.' % markup)\n",
        "/Users/akrot/anaconda/lib/python2.7/site-packages/bs4/__init__.py:189: UserWarning: \"http://jake-weird.blogspot.com/2007/08/beneath.html\"\" looks like a URL. Beautiful Soup is not an HTTP client. You should probably use an HTTP client to get the document behind the URL, and feed that document to Beautiful Soup.\n",
        "  '\"%s\" looks like a URL. Beautiful Soup is not an HTTP client. You should probably use an HTTP client to get the document behind the URL, and feed that document to Beautiful Soup.' % markup)\n"
       ]
      }
     ],
     "prompt_number": 8
    },
    {
     "cell_type": "code",
     "collapsed": false,
     "input": [
      "from gensim.models import word2vec"
     ],
     "language": "python",
     "metadata": {},
     "outputs": [
      {
       "ename": "ImportError",
       "evalue": "No module named gensim.models",
       "output_type": "pyerr",
       "traceback": [
        "\u001b[0;31m---------------------------------------------------------------------------\u001b[0m\n\u001b[0;31mImportError\u001b[0m                               Traceback (most recent call last)",
        "\u001b[0;32m<ipython-input-9-dd1f6d00d6fc>\u001b[0m in \u001b[0;36m<module>\u001b[0;34m()\u001b[0m\n\u001b[0;32m----> 1\u001b[0;31m \u001b[0;32mfrom\u001b[0m \u001b[0mgensim\u001b[0m\u001b[0;34m.\u001b[0m\u001b[0mmodels\u001b[0m \u001b[0;32mimport\u001b[0m \u001b[0mword2vec\u001b[0m\u001b[0;34m\u001b[0m\u001b[0m\n\u001b[0m",
        "\u001b[0;31mImportError\u001b[0m: No module named gensim.models"
       ]
      }
     ],
     "prompt_number": 9
    },
    {
     "cell_type": "code",
     "collapsed": false,
     "input": [
      "import logging\n",
      "logging.basicConfig(format='%(asctime)s : %(levelname)s : %(message)s',\\\n",
      "    level=logging.INFO)"
     ],
     "language": "python",
     "metadata": {},
     "outputs": []
    },
    {
     "cell_type": "code",
     "collapsed": false,
     "input": [
      "# Set values for various parameters\n",
      "num_features = 300    # Word vector dimensionality                      \n",
      "min_word_count = 40   # Minimum word count                        \n",
      "num_workers = 4       # Number of threads to run in parallel\n",
      "context = 10          # Context window size                                                                                    \n",
      "downsampling = 1e-3   # Downsample setting for frequent words"
     ],
     "language": "python",
     "metadata": {},
     "outputs": []
    },
    {
     "cell_type": "code",
     "collapsed": false,
     "input": [
      "from gensim.models import word2vec"
     ],
     "language": "python",
     "metadata": {},
     "outputs": [],
     "prompt_number": 25
    },
    {
     "cell_type": "code",
     "collapsed": false,
     "input": [
      "model = word2vec.Word2Vec(sentences, workers=num_workers,\n",
      "            size=num_features, min_count = min_word_count, \n",
      "            window = context, sample = downsampling)"
     ],
     "language": "python",
     "metadata": {},
     "outputs": [],
     "prompt_number": 26
    },
    {
     "cell_type": "code",
     "collapsed": false,
     "input": [
      "model.doesnt_match(\"man woman child kitchen\".split())"
     ],
     "language": "python",
     "metadata": {},
     "outputs": [
      {
       "metadata": {},
       "output_type": "pyout",
       "prompt_number": 28,
       "text": [
        "'kitchen'"
       ]
      }
     ],
     "prompt_number": 28
    },
    {
     "cell_type": "code",
     "collapsed": false,
     "input": [
      "model.doesnt_match(\"france england germany berlin\".split())"
     ],
     "language": "python",
     "metadata": {},
     "outputs": [
      {
       "metadata": {},
       "output_type": "pyout",
       "prompt_number": 29,
       "text": [
        "'berlin'"
       ]
      }
     ],
     "prompt_number": 29
    },
    {
     "cell_type": "code",
     "collapsed": false,
     "input": [
      "model.most_similar(\"awful\")"
     ],
     "language": "python",
     "metadata": {},
     "outputs": [
      {
       "metadata": {},
       "output_type": "pyout",
       "prompt_number": 34,
       "text": [
        "[(u'terrible', 0.6733024716377258),\n",
        " (u'dreadful', 0.6370775103569031),\n",
        " (u'horrible', 0.6247358322143555),\n",
        " (u'atrocious', 0.5955365300178528),\n",
        " (u'horrendous', 0.5673501491546631),\n",
        " (u'abysmal', 0.5282211303710938),\n",
        " (u'laughable', 0.5262706875801086),\n",
        " (u'amateurish', 0.5180505514144897),\n",
        " (u'appalling', 0.5011991262435913),\n",
        " (u'lousy', 0.4972895681858063)]"
       ]
      }
     ],
     "prompt_number": 34
    },
    {
     "cell_type": "code",
     "collapsed": false,
     "input": [
      "model.init_sims(replace=True)"
     ],
     "language": "python",
     "metadata": {},
     "outputs": [],
     "prompt_number": 35
    },
    {
     "cell_type": "code",
     "collapsed": false,
     "input": [
      "model_name = \"300features_40minwords_10context\"\n",
      "model.save(\"/Users/akrot/Desktop/w2v/\" + model_name)"
     ],
     "language": "python",
     "metadata": {},
     "outputs": [],
     "prompt_number": 36
    },
    {
     "cell_type": "code",
     "collapsed": false,
     "input": [
      "model.syn0.shape"
     ],
     "language": "python",
     "metadata": {},
     "outputs": [
      {
       "metadata": {},
       "output_type": "pyout",
       "prompt_number": 37,
       "text": [
        "(16490, 300)"
       ]
      }
     ],
     "prompt_number": 37
    },
    {
     "cell_type": "code",
     "collapsed": false,
     "input": [
      "model['flower']"
     ],
     "language": "python",
     "metadata": {},
     "outputs": [
      {
       "metadata": {},
       "output_type": "pyout",
       "prompt_number": 38,
       "text": [
        "array([  1.75461099e-02,   6.90309033e-02,  -4.08159662e-03,\n",
        "         5.12605766e-03,   2.05330923e-02,  -5.31286262e-02,\n",
        "         5.54647818e-02,  -9.91873220e-02,  -6.99129775e-02,\n",
        "         1.49603322e-01,  -7.38605298e-03,  -7.55292401e-02,\n",
        "         3.69760208e-02,  -3.16381082e-02,  -1.62595566e-02,\n",
        "        -3.40443775e-02,   2.73951096e-03,  -1.38859153e-01,\n",
        "         3.48560978e-04,   5.89070171e-02,  -7.45852068e-02,\n",
        "        -8.61026719e-02,   5.67487217e-02,  -3.98886186e-04,\n",
        "        -1.66126534e-01,  -7.09783360e-02,  -7.46116042e-03,\n",
        "        -7.85042122e-02,   1.82418581e-02,  -4.09875065e-02,\n",
        "        -8.37129653e-02,  -1.57913771e-02,  -1.02487691e-02,\n",
        "        -7.36483112e-02,  -9.40421654e-04,   2.26701479e-02,\n",
        "         1.32371724e-01,   6.81970501e-03,  -1.51493736e-02,\n",
        "        -4.90431935e-02,   7.00754896e-02,   3.12211234e-02,\n",
        "        -3.80320549e-02,  -5.72548248e-02,   1.20862387e-03,\n",
        "        -2.89694453e-03,   1.87821481e-02,   6.24732003e-02,\n",
        "        -2.78090145e-02,  -2.36623324e-02,   3.78728309e-03,\n",
        "         8.16614777e-02,   4.76610810e-02,  -7.95278549e-02,\n",
        "         4.12994251e-02,   1.01207778e-01,   3.46609131e-02,\n",
        "         9.29680616e-02,  -6.50745854e-02,   6.87171966e-02,\n",
        "        -9.34397394e-04,   5.27891926e-02,   1.62203871e-02,\n",
        "         3.26086991e-02,   5.35181612e-02,  -6.86271489e-02,\n",
        "        -1.29940407e-02,   8.73715654e-02,   9.60164890e-02,\n",
        "        -1.34236226e-02,   5.26484922e-02,   9.83308721e-03,\n",
        "        -5.07098138e-02,  -4.21214066e-02,  -4.24007587e-02,\n",
        "         2.60285437e-02,   1.87066458e-02,   6.34606369e-03,\n",
        "         4.08887900e-02,   7.31386896e-03,  -1.74679402e-02,\n",
        "        -1.05641022e-01,  -2.87153684e-02,  -3.97420451e-02,\n",
        "        -2.51074117e-02,   7.38011897e-02,  -4.59328853e-02,\n",
        "         4.88592200e-02,   7.70688877e-02,  -7.88053498e-03,\n",
        "        -3.70049812e-02,  -1.53890783e-02,   1.08063724e-02,\n",
        "        -3.62606160e-03,   3.27546038e-02,   1.29432231e-02,\n",
        "        -1.32951796e-01,  -2.33759023e-02,   6.74676225e-02,\n",
        "         5.55124097e-02,   2.33599287e-03,  -4.27454151e-02,\n",
        "         2.41067018e-02,  -1.23662772e-02,   8.12180489e-02,\n",
        "        -2.23210212e-02,  -4.48960923e-02,  -7.08131352e-03,\n",
        "        -8.19197074e-02,  -3.98174226e-02,   6.79792836e-02,\n",
        "        -7.37380758e-02,   1.33679779e-02,   1.03453565e-02,\n",
        "        -1.52025996e-02,  -4.48573343e-02,  -3.92910019e-02,\n",
        "        -2.74397712e-02,   1.06905282e-01,  -5.35628535e-02,\n",
        "        -5.99331819e-02,   8.76053795e-02,  -8.80336687e-02,\n",
        "         3.97398807e-02,   5.85566312e-02,   3.52739356e-02,\n",
        "        -8.39076843e-03,  -3.39443199e-02,  -3.49196885e-03,\n",
        "        -3.90146971e-02,   5.95880952e-03,  -5.36076091e-02,\n",
        "         3.02897207e-02,  -4.90900781e-03,  -3.99433710e-02,\n",
        "         7.65036494e-02,  -1.71991047e-02,   9.72944722e-02,\n",
        "         5.32880500e-02,  -4.77575175e-02,   3.23972106e-02,\n",
        "        -7.06393085e-03,   5.50055727e-02,  -3.27303372e-02,\n",
        "        -2.40304531e-03,  -4.98646125e-02,  -5.62316813e-02,\n",
        "         9.16052982e-03,  -8.12914371e-02,   1.89669579e-02,\n",
        "        -2.07003877e-02,  -7.71549111e-03,  -4.59009111e-02,\n",
        "        -4.39550122e-03,  -1.15200626e-02,   6.20342419e-02,\n",
        "        -1.68432295e-01,   3.14657204e-02,  -2.91027091e-02,\n",
        "         1.93128083e-02,  -1.04887813e-01,   6.78736940e-02,\n",
        "        -3.90103646e-02,  -3.85568254e-02,  -3.05925459e-02,\n",
        "        -9.63873696e-03,   1.56593118e-02,   5.03368713e-02,\n",
        "         4.91222814e-02,   3.80618311e-02,  -4.22764942e-02,\n",
        "         9.53074172e-02,   1.13593852e-02,   7.21573178e-03,\n",
        "        -9.71978158e-03,  -1.46174831e-02,   7.53329620e-02,\n",
        "        -3.78494971e-02,  -2.78987959e-02,  -7.54398480e-02,\n",
        "        -4.80125286e-03,  -1.30090445e-01,  -9.87539068e-02,\n",
        "         2.02120729e-02,  -3.49410176e-02,   2.44594272e-02,\n",
        "         5.85435852e-02,   5.63311577e-03,  -1.19617020e-04,\n",
        "        -7.12767541e-02,   8.80350173e-03,  -1.06999591e-01,\n",
        "         2.17167363e-02,   1.17078640e-01,   2.02541854e-02,\n",
        "         3.26628760e-02,  -2.73402818e-02,   2.10036356e-02,\n",
        "         1.25007257e-01,  -5.58533669e-02,  -2.78181359e-02,\n",
        "        -4.22646888e-02,  -5.50200045e-02,  -3.55551243e-02,\n",
        "        -8.71564895e-02,   8.50154608e-02,   5.84309781e-03,\n",
        "         4.02455144e-02,  -1.78361535e-02,   5.39928675e-02,\n",
        "         8.03979710e-02,  -4.49165776e-02,   1.81547552e-02,\n",
        "        -3.31036933e-02,   8.53532478e-02,   2.62907054e-02,\n",
        "        -2.28656102e-02,  -1.32468432e-01,   7.81053901e-02,\n",
        "        -3.63696851e-02,   3.46874781e-02,  -4.68116142e-02,\n",
        "        -7.49084353e-02,  -4.64100577e-02,   8.30909889e-03,\n",
        "         5.23270573e-03,   1.24244303e-01,   1.52891567e-02,\n",
        "        -8.18122402e-02,  -1.83557235e-02,  -1.90815646e-02,\n",
        "         8.91743600e-02,  -1.92670226e-02,  -9.81922373e-02,\n",
        "        -1.78940352e-02,  -5.61031662e-02,   1.44316256e-01,\n",
        "        -1.18408844e-01,   1.22480057e-02,   9.93775763e-03,\n",
        "         1.77007038e-02,  -8.05013701e-02,  -8.62088650e-02,\n",
        "         3.35594118e-02,   5.26695661e-02,   9.50787440e-02,\n",
        "         4.08831164e-02,   2.78301220e-02,   9.31719840e-02,\n",
        "         2.09630486e-02,  -1.31479800e-01,  -4.61573564e-02,\n",
        "         1.61140841e-02,   5.50656617e-02,   6.12238310e-02,\n",
        "         5.03249001e-03,  -2.63773799e-02,   2.81435605e-02,\n",
        "        -1.01413220e-01,   7.58343562e-02,   9.10892785e-02,\n",
        "         1.67317446e-02,   1.32954330e-03,  -3.35590132e-02,\n",
        "         4.04474325e-02,   1.17267901e-02,   6.85358271e-02,\n",
        "         1.05982266e-01,   5.83246909e-02,   2.65908148e-02,\n",
        "        -7.54287317e-02,  -1.70927662e-02,  -1.71127226e-02,\n",
        "        -1.05621524e-01,  -5.05690053e-02,   6.93216845e-02,\n",
        "        -1.00081213e-01,  -4.70649377e-02,   4.01769318e-02,\n",
        "        -8.39363709e-02,  -8.70259926e-02,   3.48768011e-02,\n",
        "         1.21003799e-02,  -1.04646333e-01,  -3.08475029e-02,\n",
        "        -1.05398804e-01,  -2.86409836e-02,   3.78204212e-02,\n",
        "         4.31413203e-02,   3.26267071e-02,  -8.90386570e-03,\n",
        "        -1.39990645e-02,  -1.06656617e-02,  -2.68273149e-02,\n",
        "        -2.12321077e-02,   8.04431960e-02,  -4.65863384e-02,\n",
        "        -4.21396531e-02,   2.45941449e-02,   4.04238626e-02], dtype=float32)"
       ]
      }
     ],
     "prompt_number": 38
    },
    {
     "cell_type": "code",
     "collapsed": false,
     "input": [],
     "language": "python",
     "metadata": {},
     "outputs": []
    }
   ],
   "metadata": {}
  }
 ]
}