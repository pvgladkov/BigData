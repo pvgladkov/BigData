{
 "metadata": {
  "name": "",
  "signature": "sha256:f3140af411e600de9566bd56519b9c016d96cc49601b413688541f1c6421beaf"
 },
 "nbformat": 3,
 "nbformat_minor": 0,
 "worksheets": [
  {
   "cells": [
    {
     "cell_type": "markdown",
     "metadata": {},
     "source": [
      "\u0412 \u0437\u0430\u0434\u0430\u0447\u0435 \u043d\u0435\u043e\u0431\u0445\u043e\u0434\u0438\u043c\u043e \u043d\u0430\u0443\u0447\u0438\u0442\u044c\u0441\u044f \u043e\u043f\u0440\u0435\u0434\u0435\u043b\u044f\u0442\u044c, \u0443\u0442\u043e\u043d\u0435\u0442 \u043b\u0438 \u043f\u043e\u0441\u0435\u0442\u0438\u0442\u0435\u043b\u044c \u0422\u0438\u0442\u0430\u043d\u0438\u043a\u0430 \u0438\u043b\u0438 \u043d\u0435\u0442 \u043f\u043e \u043d\u0430\u043b\u0438\u0447\u0438\u044e (\u043d\u0435 \u0432\u0441\u0435\u0433\u0434\u0430 \u0445\u043e\u0440\u043e\u0448\u043e \u0437\u0430\u043f\u043e\u043b\u043d\u0435\u043d\u043d\u044b\u0445) \u043f\u0440\u0438\u0437\u043d\u0430\u043a\u043e\u0432.\n",
      "\n",
      "train.csv \u2014 \u043d\u0430\u0431\u043e\u0440 \u0434\u0430\u043d\u043d\u044b\u0445 \u043d\u0430 \u043e\u0441\u043d\u043e\u0432\u0430\u043d\u0438\u0438 \u043a\u043e\u0442\u043e\u0440\u043e\u0433\u043e \u0431\u0443\u0434\u0435\u0442 \u0441\u0442\u0440\u043e\u0438\u0442\u044c\u0441\u044f \u043c\u043e\u0434\u0435\u043b\u044c (\u043e\u0431\u0443\u0447\u0430\u044e\u0449\u0430\u044f \u0432\u044b\u0431\u043e\u0440\u043a\u0430)<br>\n",
      "test.csv \u2014 \u043d\u0430\u0431\u043e\u0440 \u0434\u0430\u043d\u043d\u044b\u0445 \u0434\u043b\u044f \u043f\u0440\u043e\u0432\u0435\u0440\u043a\u0438 \u043c\u043e\u0434\u0435\u043b\u0438\n",
      "\n",
      "\u0414\u043b\u044f \u043a\u0430\u0436\u0434\u043e\u0433\u043e \u043f\u0430\u0441\u0441\u0430\u0436\u0438\u0440\u0430 \u0438\u0437\u0432\u0435\u0441\u0442\u043d\u044b \u0441\u043b\u0435\u0434\u0443\u044e\u0449\u0438\u0435 \u043f\u0440\u0438\u0437\u043d\u0430\u043a\u0438\n",
      "\n",
      "PassengerId \u2014 \u0438\u0434\u0435\u043d\u0442\u0438\u0444\u0438\u043a\u0430\u0442\u043e\u0440 \u043f\u0430\u0441\u0441\u0430\u0436\u0438\u0440\u0430<br>\n",
      "Survival \u2014 \u043f\u043e\u043b\u0435 \u0432 \u043a\u043e\u0442\u043e\u0440\u043e\u043c \u0443\u043a\u0430\u0437\u0430\u043d\u043e \u0441\u043f\u0430\u0441\u0441\u044f \u0447\u0435\u043b\u043e\u0432\u0435\u043a (1) \u0438\u043b\u0438 \u043d\u0435\u0442 (0)<br>\n",
      "Pclass \u2014 \u0441\u043e\u0434\u0435\u0440\u0436\u0438\u0442 \u0441\u043e\u0446\u0438\u0430\u043b\u044c\u043d\u043e-\u044d\u043a\u043e\u043d\u043e\u043c\u0438\u0447\u0435\u0441\u043a\u0438\u0439 \u0441\u0442\u0430\u0442\u0443\u0441 (\u0432\u044b\u0441\u043e\u043a\u0438\u0439, \u0441\u0440\u0435\u0434\u043d\u0438\u0439, \u043d\u0438\u0437\u043a\u0438\u0439)<br>\n",
      "Name \u2014 \u0438\u043c\u044f \u043f\u0430\u0441\u0441\u0430\u0436\u0438\u0440\u0430<br>\n",
      "Sex \u2014 \u043f\u043e\u043b \u043f\u0430\u0441\u0441\u0430\u0436\u0438\u0440\u0430<br>\n",
      "Age \u2014 \u0432\u043e\u0437\u0440\u0430\u0441\u0442<br>\n",
      "SibSp \u2014 \u0441\u043e\u0434\u0435\u0440\u0436\u0438\u0442 \u0438\u043d\u0444\u043e\u0440\u043c\u0430\u0446\u0438\u044e \u043e \u043a\u043e\u043b\u0438\u0447\u0435\u0441\u0442\u0432\u0435 \u0440\u043e\u0434\u0441\u0442\u0432\u0435\u043d\u043d\u0438\u043a\u043e\u0432 2-\u0433\u043e \u043f\u043e\u0440\u044f\u0434\u043a\u0430 (\u043c\u0443\u0436, \u0436\u0435\u043d\u0430, \u0431\u0440\u0430\u0442\u044c\u044f, \u0441\u0435\u0442\u0440\u044b)<br>\n",
      "Parch \u2014 \u0441\u043e\u0434\u0435\u0440\u0436\u0438\u0442 \u0438\u043d\u0444\u043e\u0440\u043c\u0430\u0446\u0438\u044e \u043e \u043a\u043e\u043b\u0438\u0447\u0435\u0441\u0442\u0432\u0435 \u0440\u043e\u0434\u0441\u0442\u0432\u0435\u043d\u043d\u0438\u043a\u043e\u0432 \u043d\u0430 \u0431\u043e\u0440\u0442\u0443 1-\u0433\u043e \u043f\u043e\u0440\u044f\u0434\u043a\u0430 (\u043c\u0430\u0442\u044c, \u043e\u0442\u0435\u0446, \u0434\u0435\u0442\u0438)<br>\n",
      "Ticket \u2014 \u043d\u043e\u043c\u0435\u0440 \u0431\u0438\u043b\u0435\u0442\u0430<br>\n",
      "Fare \u2014 \u0446\u0435\u043d\u0430 \u0431\u0438\u043b\u0435\u0442\u0430<br>\n",
      "Cabin \u2014 \u043a\u0430\u044e\u0442\u0430<br>\n",
      "Embarked \u2014 \u043f\u043e\u0440\u0442 \u043f\u043e\u0441\u0430\u0434\u043a\u0438 (C \u2014 Cherbourg, Q \u2014 Queenstown, S \u2014 Southampton)<br>\n",
      "\n",
      "\u0414\u043b\u044f \u043d\u0430\u0447\u0430\u043b\u0430 \u0441 \u043f\u043e\u043c\u043e\u0449\u044c\u044e Pandas \u043f\u043e\u0441\u043c\u043e\u0442\u0440\u0438\u043c \u043d\u0430 \u0434\u0430\u043d\u043d\u044b\u0435"
     ]
    },
    {
     "cell_type": "code",
     "collapsed": false,
     "input": [
      "import pandas as pd\n",
      "\n",
      "train = pd.read_csv('train.csv')\n",
      "test = pd.read_csv('test.csv')\n",
      "drop_fields = ['PassengerId','Name','Ticket','Cabin', 'SibSp', 'Embarked', 'Parch']"
     ],
     "language": "python",
     "metadata": {},
     "outputs": [],
     "prompt_number": 157
    },
    {
     "cell_type": "code",
     "collapsed": false,
     "input": [
      "train.head()"
     ],
     "language": "python",
     "metadata": {},
     "outputs": [
      {
       "html": [
        "<div style=\"max-height:1000px;max-width:1500px;overflow:auto;\">\n",
        "<table border=\"1\" class=\"dataframe\">\n",
        "  <thead>\n",
        "    <tr style=\"text-align: right;\">\n",
        "      <th></th>\n",
        "      <th>PassengerId</th>\n",
        "      <th>Survived</th>\n",
        "      <th>Pclass</th>\n",
        "      <th>Name</th>\n",
        "      <th>Sex</th>\n",
        "      <th>Age</th>\n",
        "      <th>SibSp</th>\n",
        "      <th>Parch</th>\n",
        "      <th>Ticket</th>\n",
        "      <th>Fare</th>\n",
        "      <th>Cabin</th>\n",
        "      <th>Embarked</th>\n",
        "    </tr>\n",
        "  </thead>\n",
        "  <tbody>\n",
        "    <tr>\n",
        "      <th>0</th>\n",
        "      <td> 1</td>\n",
        "      <td> 0</td>\n",
        "      <td> 3</td>\n",
        "      <td>                           Braund, Mr. Owen Harris</td>\n",
        "      <td>   male</td>\n",
        "      <td> 22</td>\n",
        "      <td> 1</td>\n",
        "      <td> 0</td>\n",
        "      <td>        A/5 21171</td>\n",
        "      <td>  7.2500</td>\n",
        "      <td>  NaN</td>\n",
        "      <td> S</td>\n",
        "    </tr>\n",
        "    <tr>\n",
        "      <th>1</th>\n",
        "      <td> 2</td>\n",
        "      <td> 1</td>\n",
        "      <td> 1</td>\n",
        "      <td> Cumings, Mrs. John Bradley (Florence Briggs Th...</td>\n",
        "      <td> female</td>\n",
        "      <td> 38</td>\n",
        "      <td> 1</td>\n",
        "      <td> 0</td>\n",
        "      <td>         PC 17599</td>\n",
        "      <td> 71.2833</td>\n",
        "      <td>  C85</td>\n",
        "      <td> C</td>\n",
        "    </tr>\n",
        "    <tr>\n",
        "      <th>2</th>\n",
        "      <td> 3</td>\n",
        "      <td> 1</td>\n",
        "      <td> 3</td>\n",
        "      <td>                            Heikkinen, Miss. Laina</td>\n",
        "      <td> female</td>\n",
        "      <td> 26</td>\n",
        "      <td> 0</td>\n",
        "      <td> 0</td>\n",
        "      <td> STON/O2. 3101282</td>\n",
        "      <td>  7.9250</td>\n",
        "      <td>  NaN</td>\n",
        "      <td> S</td>\n",
        "    </tr>\n",
        "    <tr>\n",
        "      <th>3</th>\n",
        "      <td> 4</td>\n",
        "      <td> 1</td>\n",
        "      <td> 1</td>\n",
        "      <td>      Futrelle, Mrs. Jacques Heath (Lily May Peel)</td>\n",
        "      <td> female</td>\n",
        "      <td> 35</td>\n",
        "      <td> 1</td>\n",
        "      <td> 0</td>\n",
        "      <td>           113803</td>\n",
        "      <td> 53.1000</td>\n",
        "      <td> C123</td>\n",
        "      <td> S</td>\n",
        "    </tr>\n",
        "    <tr>\n",
        "      <th>4</th>\n",
        "      <td> 5</td>\n",
        "      <td> 0</td>\n",
        "      <td> 3</td>\n",
        "      <td>                          Allen, Mr. William Henry</td>\n",
        "      <td>   male</td>\n",
        "      <td> 35</td>\n",
        "      <td> 0</td>\n",
        "      <td> 0</td>\n",
        "      <td>           373450</td>\n",
        "      <td>  8.0500</td>\n",
        "      <td>  NaN</td>\n",
        "      <td> S</td>\n",
        "    </tr>\n",
        "  </tbody>\n",
        "</table>\n",
        "</div>"
       ],
       "metadata": {},
       "output_type": "pyout",
       "prompt_number": 158,
       "text": [
        "   PassengerId  Survived  Pclass  \\\n",
        "0            1         0       3   \n",
        "1            2         1       1   \n",
        "2            3         1       3   \n",
        "3            4         1       1   \n",
        "4            5         0       3   \n",
        "\n",
        "                                                Name     Sex  Age  SibSp  \\\n",
        "0                            Braund, Mr. Owen Harris    male   22      1   \n",
        "1  Cumings, Mrs. John Bradley (Florence Briggs Th...  female   38      1   \n",
        "2                             Heikkinen, Miss. Laina  female   26      0   \n",
        "3       Futrelle, Mrs. Jacques Heath (Lily May Peel)  female   35      1   \n",
        "4                           Allen, Mr. William Henry    male   35      0   \n",
        "\n",
        "   Parch            Ticket     Fare Cabin Embarked  \n",
        "0      0         A/5 21171   7.2500   NaN        S  \n",
        "1      0          PC 17599  71.2833   C85        C  \n",
        "2      0  STON/O2. 3101282   7.9250   NaN        S  \n",
        "3      0            113803  53.1000  C123        S  \n",
        "4      0            373450   8.0500   NaN        S  "
       ]
      }
     ],
     "prompt_number": 158
    },
    {
     "cell_type": "code",
     "collapsed": false,
     "input": [
      "train.info()"
     ],
     "language": "python",
     "metadata": {},
     "outputs": [
      {
       "output_type": "stream",
       "stream": "stdout",
       "text": [
        "<class 'pandas.core.frame.DataFrame'>\n",
        "Int64Index: 891 entries, 0 to 890\n",
        "Data columns (total 12 columns):\n",
        "PassengerId    891 non-null int64\n",
        "Survived       891 non-null int64\n",
        "Pclass         891 non-null int64\n",
        "Name           891 non-null object\n",
        "Sex            891 non-null object\n",
        "Age            714 non-null float64\n",
        "SibSp          891 non-null int64\n",
        "Parch          891 non-null int64\n",
        "Ticket         891 non-null object\n",
        "Fare           891 non-null float64\n",
        "Cabin          204 non-null object\n",
        "Embarked       889 non-null object\n",
        "dtypes: float64(2), int64(5), object(5)\n",
        "memory usage: 90.5+ KB\n"
       ]
      }
     ],
     "prompt_number": 159
    },
    {
     "cell_type": "markdown",
     "metadata": {},
     "source": [
      "\u041c\u043e\u0436\u043d\u043e \u043f\u0440\u0435\u0434\u043f\u043e\u043b\u043e\u0436\u0438\u0442\u044c, \u0447\u0442\u043e \u0447\u0435\u043c \u0432\u044b\u0448\u0435 \u0441\u043e\u0446\u0438\u0430\u043b\u044c\u043d\u044b\u0439 \u0441\u0442\u0430\u0442\u0443\u0441, \u0442\u0435\u043c \u0431\u043e\u043b\u044c\u0448\u0435 \u0432\u0435\u0440\u043e\u044f\u0442\u043d\u043e\u0441\u0442\u044c \u0441\u043f\u0430\u0441\u0435\u043d\u0438\u044f. \u0414\u0430\u0432\u0430\u0439\u0442\u0435 \u043f\u043e\u0441\u043c\u043e\u0442\u0440\u0438\u043c, \u0434\u0435\u0439\u0441\u0442\u0432\u0438\u0442\u0435\u043b\u044c\u043d\u043e \u043b\u0438 \u044d\u0442\u043e \u0442\u0430\u043a. \u0414\u043b\u044f \u044d\u0442\u043e\u0433\u043e \u043f\u043e\u0441\u0442\u0440\u043e\u0438\u043c \u0441\u0432\u043e\u0434\u043d\u0443\u044e. "
     ]
    },
    {
     "cell_type": "code",
     "collapsed": false,
     "input": [
      "%matplotlib inline\n",
      "import matplotlib.pyplot as plt\n",
      "\n",
      "train.pivot_table('PassengerId', 'Pclass', 'Survived', 'count').plot(kind='bar', stacked=True)"
     ],
     "language": "python",
     "metadata": {},
     "outputs": [
      {
       "metadata": {},
       "output_type": "pyout",
       "prompt_number": 160,
       "text": [
        "<matplotlib.axes._subplots.AxesSubplot at 0x7f7ab201d490>"
       ]
      },
      {
       "metadata": {},
       "output_type": "display_data",
       "png": "[encoded data removed]",
       "text": [
        "<matplotlib.figure.Figure at 0x7f7ab201d7d0>"
       ]
      }
     ],
     "prompt_number": 160
    },
    {
     "cell_type": "markdown",
     "metadata": {},
     "source": [
      "\u0422\u0435\u043f\u0435\u0440\u044c \u043f\u043e\u0441\u043c\u043e\u0442\u0440\u0438\u043c, \u043a\u0430\u043a \u0432\u043b\u0438\u044f\u0435\u0442 \u043a\u043e\u043b-\u0432\u043e \u0440\u043e\u0434\u0441\u0442\u0432\u0435\u043d\u043d\u0438\u043a\u043e\u0432 \u043d\u0430 \u0446\u0435\u043b\u0435\u0432\u0443\u044e \u043f\u0435\u0440\u0435\u043c\u0435\u043d\u043d\u0443\u044e. \u0414\u043b\u044f \u044d\u0442\u043e\u0433\u043e \u043f\u043e\u0441\u0442\u0440\u043e\u0438\u043c \u0442\u0430\u043a\u0436\u0435 \u0441\u0432\u043e\u0434\u043d\u044b\u0435:"
     ]
    },
    {
     "cell_type": "code",
     "collapsed": false,
     "input": [
      "fig, axes = plt.subplots(ncols=2)\n",
      "train.pivot_table('PassengerId', ['SibSp'], 'Survived', 'count').plot(ax=axes[0], title='SibSp')\n",
      "train.pivot_table('PassengerId', ['Parch'], 'Survived', 'count').plot(ax=axes[1], title='Parch')"
     ],
     "language": "python",
     "metadata": {},
     "outputs": [
      {
       "metadata": {},
       "output_type": "pyout",
       "prompt_number": 161,
       "text": [
        "<matplotlib.axes._subplots.AxesSubplot at 0x7f7ab1f45890>"
       ]
      },
      {
       "metadata": {},
       "output_type": "display_data",
       "png": "[encoded data removed]",
       "text": [
        "<matplotlib.figure.Figure at 0x7f7ab2038ed0>"
       ]
      }
     ],
     "prompt_number": 161
    },
    {
     "cell_type": "markdown",
     "metadata": {},
     "source": [
      "\u0414\u0435\u0439\u0441\u0442\u0432\u0438\u0442\u0435\u043b\u044c\u043d\u043e, \u0441\u0440\u0435\u0434\u0438 \u043b\u044e\u0434\u0435\u0439, \u0443 \u043a\u043e\u0433\u043e \u0431\u043e\u043b\u044c\u0448\u0435 1 \u0440\u043e\u0434\u0441\u0442\u0432\u0435\u043d\u043d\u0438\u043a\u0430 \u0441\u043f\u0430\u0441\u043b\u0438\u0441\u044c \u043d\u0435 \u043c\u043d\u043e\u0433\u0438\u0435 - \u043d\u0430\u0432\u0435\u0440\u043d\u043e\u0435, \u044d\u0442\u043e \u0441\u0432\u044f\u0437\u0430\u043d\u043e \u0441 \u0442\u0435\u043c, \u0447\u0442\u043e \u043b\u044e\u0434\u0438 \u043d\u0430\u0447\u0438\u043d\u0430\u044e\u0442 \u0441\u043f\u0430\u0441\u0430\u0442\u044c \u0441\u0432\u043e\u0438\u0445 \u0431\u043b\u0438\u0437\u043a\u0438\u0445 \u0438 \u0442\u043e\u043d\u0443\u0442 \u0432\u043c\u0435\u0441\u0442\u0435 \u0441 \u043d\u0438\u043c\u0438"
     ]
    },
    {
     "cell_type": "markdown",
     "metadata": {},
     "source": [
      "\u041f\u043e\u0441\u043c\u043e\u0442\u0440\u0438\u043c \u0442\u0435\u043f\u0435\u0440\u044c, \u0432\u0441\u0435 \u043b\u0438 \u0445\u043e\u0440\u043e\u0448\u043e \u0441 \u0434\u0430\u043d\u043d\u044b\u043c\u0438, \u0435\u0441\u0442\u044c \u043b\u0438 \u0432 \u043d\u0438\u0445 \u043f\u0440\u043e\u043f\u0443\u0441\u043a\u0438. \u041e\u0447\u0435\u043d\u044c \u043f\u043e\u043b\u0435\u0437\u043d\u043e \u0434\u043b\u044f \u044d\u0442\u043e\u0433\u043e \u0438\u0441\u043f\u043e\u043b\u044c\u0437\u043e\u0432\u0430\u0442\u044c info() \u0438 describe()"
     ]
    },
    {
     "cell_type": "code",
     "collapsed": false,
     "input": [
      "train.info()"
     ],
     "language": "python",
     "metadata": {},
     "outputs": [
      {
       "output_type": "stream",
       "stream": "stdout",
       "text": [
        "<class 'pandas.core.frame.DataFrame'>\n",
        "Int64Index: 891 entries, 0 to 890\n",
        "Data columns (total 12 columns):\n",
        "PassengerId    891 non-null int64\n",
        "Survived       891 non-null int64\n",
        "Pclass         891 non-null int64\n",
        "Name           891 non-null object\n",
        "Sex            891 non-null object\n",
        "Age            714 non-null float64\n",
        "SibSp          891 non-null int64\n",
        "Parch          891 non-null int64\n",
        "Ticket         891 non-null object\n",
        "Fare           891 non-null float64\n",
        "Cabin          204 non-null object\n",
        "Embarked       889 non-null object\n",
        "dtypes: float64(2), int64(5), object(5)\n",
        "memory usage: 90.5+ KB\n"
       ]
      }
     ],
     "prompt_number": 162
    },
    {
     "cell_type": "code",
     "collapsed": false,
     "input": [
      "train.describe()"
     ],
     "language": "python",
     "metadata": {},
     "outputs": [
      {
       "html": [
        "<div style=\"max-height:1000px;max-width:1500px;overflow:auto;\">\n",
        "<table border=\"1\" class=\"dataframe\">\n",
        "  <thead>\n",
        "    <tr style=\"text-align: right;\">\n",
        "      <th></th>\n",
        "      <th>PassengerId</th>\n",
        "      <th>Survived</th>\n",
        "      <th>Pclass</th>\n",
        "      <th>Age</th>\n",
        "      <th>SibSp</th>\n",
        "      <th>Parch</th>\n",
        "      <th>Fare</th>\n",
        "    </tr>\n",
        "  </thead>\n",
        "  <tbody>\n",
        "    <tr>\n",
        "      <th>count</th>\n",
        "      <td> 891.000000</td>\n",
        "      <td> 891.000000</td>\n",
        "      <td> 891.000000</td>\n",
        "      <td> 714.000000</td>\n",
        "      <td> 891.000000</td>\n",
        "      <td> 891.000000</td>\n",
        "      <td> 891.000000</td>\n",
        "    </tr>\n",
        "    <tr>\n",
        "      <th>mean</th>\n",
        "      <td> 446.000000</td>\n",
        "      <td>   0.383838</td>\n",
        "      <td>   2.308642</td>\n",
        "      <td>  29.699118</td>\n",
        "      <td>   0.523008</td>\n",
        "      <td>   0.381594</td>\n",
        "      <td>  32.204208</td>\n",
        "    </tr>\n",
        "    <tr>\n",
        "      <th>std</th>\n",
        "      <td> 257.353842</td>\n",
        "      <td>   0.486592</td>\n",
        "      <td>   0.836071</td>\n",
        "      <td>  14.526497</td>\n",
        "      <td>   1.102743</td>\n",
        "      <td>   0.806057</td>\n",
        "      <td>  49.693429</td>\n",
        "    </tr>\n",
        "    <tr>\n",
        "      <th>min</th>\n",
        "      <td>   1.000000</td>\n",
        "      <td>   0.000000</td>\n",
        "      <td>   1.000000</td>\n",
        "      <td>   0.420000</td>\n",
        "      <td>   0.000000</td>\n",
        "      <td>   0.000000</td>\n",
        "      <td>   0.000000</td>\n",
        "    </tr>\n",
        "    <tr>\n",
        "      <th>25%</th>\n",
        "      <td> 223.500000</td>\n",
        "      <td>   0.000000</td>\n",
        "      <td>   2.000000</td>\n",
        "      <td>  20.125000</td>\n",
        "      <td>   0.000000</td>\n",
        "      <td>   0.000000</td>\n",
        "      <td>   7.910400</td>\n",
        "    </tr>\n",
        "    <tr>\n",
        "      <th>50%</th>\n",
        "      <td> 446.000000</td>\n",
        "      <td>   0.000000</td>\n",
        "      <td>   3.000000</td>\n",
        "      <td>  28.000000</td>\n",
        "      <td>   0.000000</td>\n",
        "      <td>   0.000000</td>\n",
        "      <td>  14.454200</td>\n",
        "    </tr>\n",
        "    <tr>\n",
        "      <th>75%</th>\n",
        "      <td> 668.500000</td>\n",
        "      <td>   1.000000</td>\n",
        "      <td>   3.000000</td>\n",
        "      <td>  38.000000</td>\n",
        "      <td>   1.000000</td>\n",
        "      <td>   0.000000</td>\n",
        "      <td>  31.000000</td>\n",
        "    </tr>\n",
        "    <tr>\n",
        "      <th>max</th>\n",
        "      <td> 891.000000</td>\n",
        "      <td>   1.000000</td>\n",
        "      <td>   3.000000</td>\n",
        "      <td>  80.000000</td>\n",
        "      <td>   8.000000</td>\n",
        "      <td>   6.000000</td>\n",
        "      <td> 512.329200</td>\n",
        "    </tr>\n",
        "  </tbody>\n",
        "</table>\n",
        "</div>"
       ],
       "metadata": {},
       "output_type": "pyout",
       "prompt_number": 163,
       "text": [
        "       PassengerId    Survived      Pclass         Age       SibSp  \\\n",
        "count   891.000000  891.000000  891.000000  714.000000  891.000000   \n",
        "mean    446.000000    0.383838    2.308642   29.699118    0.523008   \n",
        "std     257.353842    0.486592    0.836071   14.526497    1.102743   \n",
        "min       1.000000    0.000000    1.000000    0.420000    0.000000   \n",
        "25%     223.500000    0.000000    2.000000   20.125000    0.000000   \n",
        "50%     446.000000    0.000000    3.000000   28.000000    0.000000   \n",
        "75%     668.500000    1.000000    3.000000   38.000000    1.000000   \n",
        "max     891.000000    1.000000    3.000000   80.000000    8.000000   \n",
        "\n",
        "            Parch        Fare  \n",
        "count  891.000000  891.000000  \n",
        "mean     0.381594   32.204208  \n",
        "std      0.806057   49.693429  \n",
        "min      0.000000    0.000000  \n",
        "25%      0.000000    7.910400  \n",
        "50%      0.000000   14.454200  \n",
        "75%      0.000000   31.000000  \n",
        "max      6.000000  512.329200  "
       ]
      }
     ],
     "prompt_number": 163
    },
    {
     "cell_type": "markdown",
     "metadata": {},
     "source": [
      "\u0412\u0438\u0434\u0438\u043c, \u0447\u0442\u043e \u043d\u043e\u043c\u0435\u0440\u0430 \u043a\u0430\u044e\u0442 \u0437\u0430\u043f\u043e\u043b\u043d\u0435\u043d\u044b \u043e\u0447\u0435\u043d\u044c \u043f\u043b\u043e\u0445\u043e, \u0432\u043e\u0437\u0440\u0430\u0441\u0442 \u043c\u043e\u0436\u043d\u043e \u043f\u043e\u043f\u044b\u0442\u0430\u0442\u044c\u0441\u044f \u043a\u0430\u043a-\u0442\u043e \u0432\u043e\u0441\u0441\u0442\u0430\u043d\u043e\u0432\u0438\u0442\u044c: \u0435\u0441\u0442\u044c 2 \u0432\u0430\u0440\u0438\u0430\u043d\u0442\u0430 - \u0437\u0430\u043f\u043e\u043b\u043d\u0438\u0442\u044c \u043c\u0435\u0434\u0438\u0430\u043d\u043d\u044b\u043c \u0437\u043d\u0430\u0447\u0435\u043d\u0438\u0435\u043c \u0438\u043b\u0438 \u0436\u0435 \u043d\u0430\u0442\u0440\u0435\u043d\u0438\u0440\u043e\u0432\u0430\u0442\u044c \u043a\u043b\u0430\u0441\u0441\u0438\u0444\u0438\u043a\u0430\u0442\u043e\u0440 \u043f\u043e \u0434\u0440\u0443\u0433\u0438\u043c \u043f\u0440\u0438\u0437\u043d\u0430\u043a\u0430\u043c. \u041f\u043e\u0441\u0442\u0443\u043f\u0438\u043c \u043f\u0440\u043e\u0441\u0442\u044b\u043c \u043f\u0443\u0442\u0435\u043c - \u0437\u0430\u043f\u043e\u043b\u043d\u0438\u043c \u043c\u0435\u0434\u0438\u0430\u043d\u043d\u044b\u043c \u0437\u043d\u0430\u0447\u0435\u043d\u0438\u0435\u043c"
     ]
    },
    {
     "cell_type": "code",
     "collapsed": false,
     "input": [
      "train.Age[train.Age.isnull()] = train.Age.median()\n",
      "test.Fare[test.Fare.isnull()] = test.Fare.median()"
     ],
     "language": "python",
     "metadata": {},
     "outputs": [],
     "prompt_number": 164
    },
    {
     "cell_type": "markdown",
     "metadata": {},
     "source": [
      "\u041e\u0441\u0442\u0430\u043b\u0441\u044f \u0435\u0449\u0435 \u043f\u043e\u0440\u0442 \u043f\u043e\u0441\u0430\u0434\u043a\u0438 - \u0442\u0430\u043c \u0432\u0441\u0435\u0433\u043e 2 \u0437\u043d\u0430\u0447\u0435\u043d\u0438\u044f \u043d\u0435 \u0437\u0430\u043f\u043e\u043b\u043d\u0435\u043d\u044b. \u0414\u0430\u0432\u0430\u0439\u0442\u0435 \u043f\u0440\u0438\u0441\u0432\u043e\u0438\u043c \u044d\u0442\u0438 \u043f\u0430\u0441\u0441\u0430\u0436\u0438\u0440\u0430\u043c \u043f\u043e\u0440\u0442 \u0432 \u043a\u043e\u0442\u043e\u0440\u043e\u043c \u0441\u0435\u043b\u043e \u0431\u043e\u043b\u044c\u0448\u0435 \u0432\u0441\u0435\u0433\u043e \u043b\u044e\u0434\u0435\u0439:"
     ]
    },
    {
     "cell_type": "code",
     "collapsed": false,
     "input": [
      "# MaxPassEmbarked = train.groupby('Embarked').count()['PassengerId']\n",
      "# train.Embarked[train.Embarked.isnull()] = MaxPassEmbarked[MaxPassEmbarked == MaxPassEmbarked.max()].index[0]"
     ],
     "language": "python",
     "metadata": {},
     "outputs": [],
     "prompt_number": 165
    },
    {
     "cell_type": "markdown",
     "metadata": {},
     "source": [
      "\u0422\u0435\u043f\u0435\u0440\u044c \u043f\u043e\u0441\u043c\u043e\u0442\u0440\u0438\u043c \u043d\u0430 \u043e\u0441\u0442\u0430\u0432\u0448\u0438\u0435\u0441\u044f \u0434\u0430\u043d\u043d\u044b\u0435. \u0412\u0430\u0436\u043d\u043e \u043f\u043e\u043d\u0438\u043c\u0430\u0442\u044c, \u0447\u0442\u043e \u043d\u0435\u043d\u0443\u0436\u043d\u044b\u0435 \u043f\u0440\u0438\u0437\u043d\u0430\u043a\u0438 \u043d\u0443\u0436\u043d\u043e \u043e\u0442\u0431\u0440\u0430\u0441\u044b\u0432\u0430\u0442\u044c - \u0442.\u043a. \u043e\u043d\u0438 \u0434\u043e\u0431\u0430\u0432\u043b\u044f\u044e\u0442 \u0448\u0443\u043c. <br>\n",
      "\u0423 \u043d\u0430\u0441 \u043e\u0441\u0442\u0430\u043b\u0438\u0441\u044c: \u0418\u043c\u044f (\u0438\u0437 \u043d\u0435\u0433\u043e \u043c\u043e\u0436\u043d\u043e \u043f\u043e\u043f\u0440\u043e\u0431\u043e\u0432\u0430\u0442\u044c \u0432\u044b\u0442\u0430\u0449\u0438\u0442\u044c \u043f\u043e\u043b - \u0443\u043f\u0440\u0430\u0436\u043d\u0435\u043d\u0438\u0435 \u043d\u0430 \u0434\u043e\u043c), \u041d\u043e\u043c\u0435\u0440 \u0431\u0438\u043b\u0435\u0442\u0430 (\u0442\u0443\u0442 \u0440\u0430\u0434\u0438 \u0438\u043d\u0442\u0435\u0440\u0435\u0441\u0430 \u043c\u043e\u0436\u043d\u043e \u043f\u0440\u043e\u0432\u0435\u0440\u0438\u0442\u044c \u043d\u0430 \u043a\u0430\u043a\u0443\u044e-\u043d\u0438\u0431\u0443\u0434\u044c \u0447\u0435\u0442\u043d\u043e\u0441\u0442\u044c, \u043d\u0430\u043f\u0440\u0438\u043c\u0435\u0440), \u041d\u043e\u043c\u0435\u0440 \u043a\u0430\u044e\u0442\u044b (\u0442\u043e\u0436\u0435 \u0432 \u043d\u0443\u043c\u0435\u0440\u043e\u043b\u043e\u0433\u0438\u044e \u043d\u0435 \u0432\u0435\u0440\u0438\u043c)    "
     ]
    },
    {
     "cell_type": "code",
     "collapsed": false,
     "input": [
      "train = train.drop(drop_fields, axis=1)"
     ],
     "language": "python",
     "metadata": {},
     "outputs": [],
     "prompt_number": 166
    },
    {
     "cell_type": "markdown",
     "metadata": {},
     "source": [
      "\u0422\u0435\u043f\u0435\u0440\u044c \u043f\u043e\u0441\u043c\u043e\u0442\u0440\u0438\u043c \u043d\u0430 \u0442\u043e, \u0447\u0442\u043e \u043e\u0441\u0442\u0430\u043b\u043e\u0441\u044c"
     ]
    },
    {
     "cell_type": "code",
     "collapsed": false,
     "input": [
      "train.head()\n",
      "train.info()"
     ],
     "language": "python",
     "metadata": {},
     "outputs": [
      {
       "output_type": "stream",
       "stream": "stdout",
       "text": [
        "<class 'pandas.core.frame.DataFrame'>\n",
        "Int64Index: 891 entries, 0 to 890\n",
        "Data columns (total 5 columns):\n",
        "Survived    891 non-null int64\n",
        "Pclass      891 non-null int64\n",
        "Sex         891 non-null object\n",
        "Age         891 non-null float64\n",
        "Fare        891 non-null float64\n",
        "dtypes: float64(2), int64(2), object(1)\n",
        "memory usage: 41.8+ KB\n"
       ]
      }
     ],
     "prompt_number": 167
    },
    {
     "cell_type": "markdown",
     "metadata": {},
     "source": [
      "\u0427\u0442\u043e \u0434\u0435\u043b\u0430\u0442\u044c \u0441 \u043a\u0430\u0442\u0435\u0433\u043e\u0440\u0438\u0430\u043b\u044c\u043d\u044b\u043c\u0438 \u043f\u0435\u0440\u0435\u043c\u0435\u043d\u043d\u044b\u043c? \u0418\u0445 \u043d\u0443\u0436\u043d\u043e \u0437\u0430\u043a\u043e\u0434\u0438\u0440\u043e\u0432\u0430\u0442\u044c - \u0432 sklearn \u0434\u043b\u044f \u044d\u0442\u043e\u0433\u043e \u0443\u0436\u0435 \u0435\u0441\u0442\u044c LabelEncoder"
     ]
    },
    {
     "cell_type": "code",
     "collapsed": false,
     "input": [
      "from sklearn.preprocessing import LabelEncoder\n",
      "label = LabelEncoder()\n",
      "dicts = {}\n",
      "\n",
      "# \u043a\u043e\u0434\u0438\u0440\u0443\u0435\u043c \u043f\u043e\u043b \n",
      "label.fit(train.Sex.drop_duplicates()) #\u0437\u0430\u0434\u0430\u0435\u043c \u0441\u043f\u0438\u0441\u043e\u043a \u0437\u043d\u0430\u0447\u0435\u043d\u0438\u0439 \u0434\u043b\u044f \u043a\u043e\u0434\u0438\u0440\u043e\u0432\u0430\u043d\u0438\u044f\n",
      "dicts['Sex'] = list(label.classes_)\n",
      "train.Sex = label.transform(train.Sex) #\u0437\u0430\u043c\u0435\u043d\u044f\u0435\u043c \u0437\u043d\u0430\u0447\u0435\u043d\u0438\u044f \u0438\u0437 \u0441\u043f\u0438\u0441\u043a\u0430 \u043a\u043e\u0434\u0430\u043c\u0438 \u0437\u0430\u043a\u043e\u0434\u0438\u0440\u043e\u0432\u0430\u043d\u043d\u044b\u0445 \u044d\u043b\u0435\u043c\u0435\u043d\u0442\u043e\u0432 \n",
      "\n",
      "# \u043a\u043e\u0434\u0438\u0440\u0443\u0435\u043c \u043f\u043e\u0440\u0442 \u043f\u043e\u0441\u0430\u0434\u043a\u0438\n",
      "# label.fit(train.Embarked.drop_duplicates())\n",
      "# dicts['Embarked'] = list(label.classes_)\n",
      "# train.Embarked = label.transform(train.Embarked)"
     ],
     "language": "python",
     "metadata": {},
     "outputs": [],
     "prompt_number": 168
    },
    {
     "cell_type": "code",
     "collapsed": false,
     "input": [
      "train.head()"
     ],
     "language": "python",
     "metadata": {},
     "outputs": [
      {
       "html": [
        "<div style=\"max-height:1000px;max-width:1500px;overflow:auto;\">\n",
        "<table border=\"1\" class=\"dataframe\">\n",
        "  <thead>\n",
        "    <tr style=\"text-align: right;\">\n",
        "      <th></th>\n",
        "      <th>Survived</th>\n",
        "      <th>Pclass</th>\n",
        "      <th>Sex</th>\n",
        "      <th>Age</th>\n",
        "      <th>Fare</th>\n",
        "    </tr>\n",
        "  </thead>\n",
        "  <tbody>\n",
        "    <tr>\n",
        "      <th>0</th>\n",
        "      <td> 0</td>\n",
        "      <td> 3</td>\n",
        "      <td> 1</td>\n",
        "      <td> 22</td>\n",
        "      <td>  7.2500</td>\n",
        "    </tr>\n",
        "    <tr>\n",
        "      <th>1</th>\n",
        "      <td> 1</td>\n",
        "      <td> 1</td>\n",
        "      <td> 0</td>\n",
        "      <td> 38</td>\n",
        "      <td> 71.2833</td>\n",
        "    </tr>\n",
        "    <tr>\n",
        "      <th>2</th>\n",
        "      <td> 1</td>\n",
        "      <td> 3</td>\n",
        "      <td> 0</td>\n",
        "      <td> 26</td>\n",
        "      <td>  7.9250</td>\n",
        "    </tr>\n",
        "    <tr>\n",
        "      <th>3</th>\n",
        "      <td> 1</td>\n",
        "      <td> 1</td>\n",
        "      <td> 0</td>\n",
        "      <td> 35</td>\n",
        "      <td> 53.1000</td>\n",
        "    </tr>\n",
        "    <tr>\n",
        "      <th>4</th>\n",
        "      <td> 0</td>\n",
        "      <td> 3</td>\n",
        "      <td> 1</td>\n",
        "      <td> 35</td>\n",
        "      <td>  8.0500</td>\n",
        "    </tr>\n",
        "  </tbody>\n",
        "</table>\n",
        "</div>"
       ],
       "metadata": {},
       "output_type": "pyout",
       "prompt_number": 169,
       "text": [
        "   Survived  Pclass  Sex  Age     Fare\n",
        "0         0       3    1   22   7.2500\n",
        "1         1       1    0   38  71.2833\n",
        "2         1       3    0   26   7.9250\n",
        "3         1       1    0   35  53.1000\n",
        "4         0       3    1   35   8.0500"
       ]
      }
     ],
     "prompt_number": 169
    },
    {
     "cell_type": "markdown",
     "metadata": {},
     "source": [
      "\u0422\u0435\u043f\u0435\u0440\u044c, \u0442\u043e\u0436\u0435 \u0441\u0430\u043c\u043e\u0435 \u043d\u0430\u043c \u043d\u0443\u0436\u043d\u043e \u0441\u0434\u0435\u043b\u0430\u0442\u044c \u0441 test.csv - \u0443\u0434\u0430\u043b\u0438\u0442\u044c \u0442\u0435 \u0436\u0435 \u0441\u0442\u043e\u043b\u0431\u0446\u044b \u0438 \u0441\u0434\u0435\u043b\u0430\u0442\u044c \u0442\u0435 \u0436\u0435 \u043f\u0440\u0435\u043e\u0431\u0440\u0430\u0437\u043e\u0432\u0430\u043d\u0438\u044f. \u041d\u0430 \u043f\u0440\u0430\u043a\u0442\u0438\u043a\u0435 \u043b\u0443\u0447\u0448\u0435 \u0441\u0440\u0430\u0437\u0443 \u043f\u0438\u0441\u0430\u0442\u044c \u0434\u043b\u044f \u044d\u0442\u043e\u0433\u043e \u043e\u0442\u0434\u0435\u043b\u044c\u043d\u0443\u044e \u0444\u0443\u043d\u043a\u0446\u0438\u044e"
     ]
    },
    {
     "cell_type": "code",
     "collapsed": false,
     "input": [
      "test.Age[test.Age.isnull()] = test.Age.mean()\n",
      "test.Fare[test.Fare.isnull()] = test.Fare.median() #\u0437\u0430\u043f\u043e\u043b\u043d\u044f\u0435\u043c \u043f\u0443\u0441\u0442\u044b\u0435 \u0437\u043d\u0430\u0447\u0435\u043d\u0438\u044f \u0441\u0440\u0435\u0434\u043d\u0435\u0439 \u0446\u0435\u043d\u043e\u0439 \u0431\u0438\u043b\u0435\u0442\u0430\n",
      "\n",
      "# MaxPassEmbarked = test.groupby('Embarked').count()['PassengerId']\n",
      "# test.Embarked[test.Embarked.isnull()] = MaxPassEmbarked[MaxPassEmbarked == MaxPassEmbarked.max()].index[0]\n",
      "\n",
      "result = pd.DataFrame(test.PassengerId)\n",
      "\n",
      "test = test.drop(drop_fields,axis=1)\n",
      "\n",
      "label.fit(dicts['Sex'])\n",
      "test.Sex = label.transform(test.Sex)\n",
      "\n",
      "# label.fit(dicts['Embarked'])\n",
      "# test.Embarked = label.transform(test.Embarked)"
     ],
     "language": "python",
     "metadata": {},
     "outputs": [],
     "prompt_number": 170
    },
    {
     "cell_type": "code",
     "collapsed": false,
     "input": [
      "test.head()"
     ],
     "language": "python",
     "metadata": {},
     "outputs": [
      {
       "html": [
        "<div style=\"max-height:1000px;max-width:1500px;overflow:auto;\">\n",
        "<table border=\"1\" class=\"dataframe\">\n",
        "  <thead>\n",
        "    <tr style=\"text-align: right;\">\n",
        "      <th></th>\n",
        "      <th>Pclass</th>\n",
        "      <th>Sex</th>\n",
        "      <th>Age</th>\n",
        "      <th>Fare</th>\n",
        "    </tr>\n",
        "  </thead>\n",
        "  <tbody>\n",
        "    <tr>\n",
        "      <th>0</th>\n",
        "      <td> 3</td>\n",
        "      <td> 1</td>\n",
        "      <td> 34.5</td>\n",
        "      <td>  7.8292</td>\n",
        "    </tr>\n",
        "    <tr>\n",
        "      <th>1</th>\n",
        "      <td> 3</td>\n",
        "      <td> 0</td>\n",
        "      <td> 47.0</td>\n",
        "      <td>  7.0000</td>\n",
        "    </tr>\n",
        "    <tr>\n",
        "      <th>2</th>\n",
        "      <td> 2</td>\n",
        "      <td> 1</td>\n",
        "      <td> 62.0</td>\n",
        "      <td>  9.6875</td>\n",
        "    </tr>\n",
        "    <tr>\n",
        "      <th>3</th>\n",
        "      <td> 3</td>\n",
        "      <td> 1</td>\n",
        "      <td> 27.0</td>\n",
        "      <td>  8.6625</td>\n",
        "    </tr>\n",
        "    <tr>\n",
        "      <th>4</th>\n",
        "      <td> 3</td>\n",
        "      <td> 0</td>\n",
        "      <td> 22.0</td>\n",
        "      <td> 12.2875</td>\n",
        "    </tr>\n",
        "  </tbody>\n",
        "</table>\n",
        "</div>"
       ],
       "metadata": {},
       "output_type": "pyout",
       "prompt_number": 171,
       "text": [
        "   Pclass  Sex   Age     Fare\n",
        "0       3    1  34.5   7.8292\n",
        "1       3    0  47.0   7.0000\n",
        "2       2    1  62.0   9.6875\n",
        "3       3    1  27.0   8.6625\n",
        "4       3    0  22.0  12.2875"
       ]
      }
     ],
     "prompt_number": 171
    },
    {
     "cell_type": "markdown",
     "metadata": {},
     "source": [
      "\u0412\u0441\u0435, 80% \u0440\u0430\u0431\u043e\u0442\u044b \u043c\u044b \u0441\u0434\u0435\u043b\u0430\u043b\u0438: \u0442\u0435\u043f\u0435\u0440\u044c \u043c\u044b \u0438\u043c\u0435\u0435\u043c \u043c\u0430\u0442\u0440\u0438\u0446\u0443 \u043e\u0431\u044c\u0435\u043a\u0442-\u043f\u0440\u0438\u0437\u043d\u0430\u043a, \u043a\u043e\u0442\u043e\u0440\u0443\u044e \u043c\u043e\u0436\u043d\u043e \"\u0441\u043a\u0430\u0440\u043c\u043b\u0438\u0432\u0430\u0442\u044c\" \u043d\u0430 \u0432\u0445\u043e\u0434 \u0440\u0430\u0437\u043b\u0438\u0447\u043d\u044b\u043c \u0430\u043b\u0433\u043e\u0440\u0438\u0442\u043c\u0430\u043c \u043c\u0430\u0448\u0438\u043d\u043d\u043e\u0433\u043e \u043e\u0431\u0443\u0447\u0435\u043d\u0438\u044f<br>\n",
      "\u0411\u0443\u0434\u0435\u043c \u043f\u0440\u043e\u0431\u043e\u0432\u0430\u0442\u044c SVM, KNeighbors, RandomForest, log-regression"
     ]
    },
    {
     "cell_type": "code",
     "collapsed": false,
     "input": [
      "from sklearn import cross_validation, svm\n",
      "from sklearn.neighbors import KNeighborsClassifier\n",
      "from sklearn.ensemble import RandomForestClassifier\n",
      "from sklearn.linear_model import LogisticRegression\n",
      "from sklearn.metrics import roc_curve, auc\n",
      "import pylab as pl"
     ],
     "language": "python",
     "metadata": {},
     "outputs": [],
     "prompt_number": 172
    },
    {
     "cell_type": "markdown",
     "metadata": {},
     "source": [
      "\u0414\u043b\u044f \u0443\u0434\u043e\u0431\u0441\u0442\u0432\u0430 (\u0442\u0443\u0442 \u043a\u043e\u043c\u0443 \u043a\u0430\u043a \u043d\u0440\u0430\u0432\u0438\u0442\u0441\u044f, \u0435\u0441\u043b\u0438 \u0432 \u0433\u043e\u043b\u043e\u0432\u0435 \u0432\u0441\u0435 \u0434\u0435\u0440\u0436\u0438\u0442\u0435 - \u043c\u043e\u0436\u043d\u043e \u043d\u0435 \u0434\u0435\u043b\u0430\u0442\u044c) \u0432\u044b\u0434\u0435\u043b\u0438\u043c \u043e\u0442\u0434\u0435\u043b\u044c\u043d\u043e \u0446\u0435\u043b\u0435\u0432\u0443\u044e \u043f\u0435\u0440\u0435\u043c\u0435\u043d\u043d\u0443\u044e."
     ]
    },
    {
     "cell_type": "code",
     "collapsed": false,
     "input": [
      "train_target = train.Survived\n",
      "train_features = train.drop(['Survived'], axis=1) #\u0438\u0437 \u0438\u0441\u0445\u043e\u0434\u043d\u044b\u0445 \u0434\u0430\u043d\u043d\u044b\u0445 \u0443\u0431\u0438\u0440\u0430\u0435\u043c Id \u043f\u0430\u0441\u0441\u0430\u0436\u0438\u0440\u0430 \u0438 \u0444\u043b\u0430\u0433 \u0441\u043f\u0430\u0441\u0441\u044f \u043e\u043d \u0438\u043b\u0438 \u043d\u0435\u0442\n",
      "kfold = 5 #\u043a\u043e\u043b\u0438\u0447\u0435\u0441\u0442\u0432\u043e \u043f\u043e\u0434\u0432\u044b\u0431\u043e\u0440\u043e\u043a \u0434\u043b\u044f \u0432\u0430\u043b\u0438\u0434\u0430\u0446\u0438\u0438\n",
      "itog_val = {} #\u0441\u043f\u0438\u0441\u043e\u043a \u0434\u043b\u044f \u0437\u0430\u043f\u0438\u0441\u0438 \u0440\u0435\u0437\u0443\u043b\u044c\u0442\u0430\u0442\u043e\u0432 \u043a\u0440\u043e\u0441\u0441 \u0432\u0430\u043b\u0438\u0434\u0430\u0446\u0438\u0438 \u0440\u0430\u0437\u043d\u044b\u0445 \u0430\u043b\u0433\u043e\u0440\u0438\u0442\u043c\u043e\u0432"
     ],
     "language": "python",
     "metadata": {},
     "outputs": [],
     "prompt_number": 173
    },
    {
     "cell_type": "code",
     "collapsed": false,
     "input": [
      "model_rfc = RandomForestClassifier(n_estimators = 80) #\u0432 \u043f\u0430\u0440\u0430\u043c\u0435\u0442\u0440\u0435 \u043f\u0435\u0440\u0435\u0434\u0430\u0435\u043c \u043a\u043e\u043b-\u0432\u043e \u0434\u0435\u0440\u0435\u0432\u044c\u0435\u0432\n",
      "model_knc = KNeighborsClassifier(n_neighbors = 18) #\u0432 \u043f\u0430\u0440\u0430\u043c\u0435\u0442\u0440\u0435 \u043f\u0435\u0440\u0435\u0434\u0430\u0435\u043c \u043a\u043e\u043b-\u0432\u043e \u0441\u043e\u0441\u0435\u0434\u0435\u0439\n",
      "model_lr = LogisticRegression(penalty='l1', tol=0.01) \n",
      "model_svc = svm.SVC() #\u043f\u043e \u0443\u043c\u043e\u043b\u0447\u0430\u043d\u0438\u044e kernek='rbf'"
     ],
     "language": "python",
     "metadata": {},
     "outputs": [],
     "prompt_number": 174
    },
    {
     "cell_type": "markdown",
     "metadata": {},
     "source": [
      "\u0414\u0435\u043b\u0430\u0435\u043c \u0441\u043a\u043e\u043b\u044c\u0437\u044f\u0449\u0438\u0439 \u043a\u043e\u043d\u0442\u0440\u043e\u043b\u044c"
     ]
    },
    {
     "cell_type": "code",
     "collapsed": false,
     "input": [
      "scores = cross_validation.cross_val_score(model_rfc, train_features, train_target, cv = kfold)\n",
      "itog_val['RandomForestClassifier'] = scores.mean()\n",
      "scores = cross_validation.cross_val_score(model_knc, train_features, train_target, cv = kfold)\n",
      "itog_val['KNeighborsClassifier'] = scores.mean()\n",
      "scores = cross_validation.cross_val_score(model_lr, train_features, train_target, cv = kfold)\n",
      "itog_val['LogisticRegression'] = scores.mean()\n",
      "scores = cross_validation.cross_val_score(model_svc, train_features, train_target, cv = kfold)\n",
      "itog_val['SVC'] = scores.mean()"
     ],
     "language": "python",
     "metadata": {},
     "outputs": [],
     "prompt_number": 175
    },
    {
     "cell_type": "code",
     "collapsed": false,
     "input": [
      "pd.DataFrame.from_dict(data = itog_val, orient='index').plot(kind='bar', legend=False)"
     ],
     "language": "python",
     "metadata": {},
     "outputs": [
      {
       "metadata": {},
       "output_type": "pyout",
       "prompt_number": 176,
       "text": [
        "<matplotlib.axes._subplots.AxesSubplot at 0x7f7ab24553d0>"
       ]
      },
      {
       "metadata": {},
       "output_type": "display_data",
       "png": "[encoded data removed]",
       "text": [
        "<matplotlib.figure.Figure at 0x7f7ab24d6790>"
       ]
      }
     ],
     "prompt_number": 176
    },
    {
     "cell_type": "markdown",
     "metadata": {},
     "source": [
      "\u0414\u043b\u044f \u043f\u043e\u0441\u0442\u0440\u043e\u0435\u043d\u0438\u044f ROC-\u043a\u0440\u0438\u0432\u044b\u0445 \u043d\u0430\u043c \u043d\u0430\u0434\u043e \u0440\u0443\u043a\u0430\u043c\u0438 (\u0441 \u043f\u043e\u043c\u043e\u0449\u044c\u044e \u0444\u0443\u043d\u043a\u0446\u0438\u0438 train_test_split \u043c\u043e\u0434\u0443\u043b\u044f cross_validation) \u0434\u0435\u043b\u0438\u0442\u044c \u043d\u0430 \u043e\u0431\u0443\u0447\u0430\u044e\u0449\u0443\u044e \u0438 \u043f\u0440\u043e\u0432\u0435\u0440\u043e\u0447\u043d\u0443\u044e \u0432\u044b\u0431\u043e\u0440\u043a\u0438<br>\n",
      "\u041d\u0430 \u0432\u044b\u0445\u043e\u0434\u0435 \u043f\u043e\u043b\u0443\u0447\u0438\u043c:<br>\n",
      "\u043d\u043e\u0432\u044b\u0439 \u043e\u0431\u0443\u0447\u0430\u044e\u0449\u0438\u0439 \u043c\u0430\u0441\u0441\u0438\u0432 \u043f\u0440\u0438\u0437\u043d\u0430\u043a\u043e\u0432<br>\n",
      "\u043f\u0440\u043e\u0432\u0435\u0440\u043e\u0447\u043d\u044b\u0439 \u043c\u0430\u0441\u0441\u0438\u0432 \u043f\u0440\u0438\u0437\u043d\u0430\u043a\u043e\u0432<br>\n",
      "\u043d\u043e\u0432\u044b\u0439 \u043c\u0430\u0441\u0441\u0438\u0432 \u0446\u0435\u043b\u0435\u0432\u043e\u0439 \u043f\u0435\u0440\u0435\u043c\u0435\u043d\u043d\u043e\u0439<br>\n",
      "\u043f\u0440\u043e\u0432\u0435\u0440\u043e\u0447\u043d\u044b\u0439 \u043c\u0430\u0441\u0441\u0438\u0432 \u0446\u0435\u043b\u0435\u0432\u043e\u0439 \u043f\u0435\u0440\u0435\u043c\u0435\u043d\u043d\u043e\u0439"
     ]
    },
    {
     "cell_type": "code",
     "collapsed": false,
     "input": [
      "ROCtrainTRN, ROCtestTRN, ROCtrainTRG, ROCtestTRG = cross_validation.train_test_split(train_features, train_target, test_size=0.2) "
     ],
     "language": "python",
     "metadata": {},
     "outputs": [],
     "prompt_number": 177
    },
    {
     "cell_type": "code",
     "collapsed": false,
     "input": [
      "pl.clf()\n",
      "plt.figure(figsize=(8,6))\n",
      "#SVC\n",
      "model_svc.probability = True\n",
      "probas = model_svc.fit(ROCtrainTRN, ROCtrainTRG).predict_proba(ROCtestTRN)\n",
      "fpr, tpr, thresholds = roc_curve(ROCtestTRG, probas[:, 1])\n",
      "roc_auc  = auc(fpr, tpr)\n",
      "pl.plot(fpr, tpr, label='%s ROC (area = %0.2f)' % ('SVC', roc_auc))\n",
      "#RandomForestClassifier\n",
      "probas = model_rfc.fit(ROCtrainTRN, ROCtrainTRG).predict_proba(ROCtestTRN)\n",
      "fpr, tpr, thresholds = roc_curve(ROCtestTRG, probas[:, 1])\n",
      "roc_auc  = auc(fpr, tpr)\n",
      "pl.plot(fpr, tpr, label='%s ROC (area = %0.2f)' % ('RandonForest',roc_auc))\n",
      "#KNeighborsClassifier\n",
      "probas = model_knc.fit(ROCtrainTRN, ROCtrainTRG).predict_proba(ROCtestTRN)\n",
      "fpr, tpr, thresholds = roc_curve(ROCtestTRG, probas[:, 1])\n",
      "roc_auc  = auc(fpr, tpr)\n",
      "pl.plot(fpr, tpr, label='%s ROC (area = %0.2f)' % ('KNeighborsClassifier',roc_auc))\n",
      "#LogisticRegression\n",
      "probas = model_lr.fit(ROCtrainTRN, ROCtrainTRG).predict_proba(ROCtestTRN)\n",
      "fpr, tpr, thresholds = roc_curve(ROCtestTRG, probas[:, 1])\n",
      "roc_auc  = auc(fpr, tpr)\n",
      "pl.plot(fpr, tpr, label='%s ROC (area = %0.2f)' % ('LogisticRegression',roc_auc))\n",
      "pl.plot([0, 1], [0, 1], 'k--')\n",
      "pl.xlim([0.0, 1.0])\n",
      "pl.ylim([0.0, 1.0])\n",
      "pl.xlabel('False Positive Rate')\n",
      "pl.ylabel('True Positive Rate')\n",
      "pl.legend(loc=0, fontsize='small')\n",
      "pl.show()"
     ],
     "language": "python",
     "metadata": {},
     "outputs": [
      {
       "metadata": {},
       "output_type": "display_data",
       "text": [
        "<matplotlib.figure.Figure at 0x7f7ab20dfc90>"
       ]
      },
      {
       "metadata": {},
       "output_type": "display_data",
       "png": "[encoded data removed]",
       "text": [
        "<matplotlib.figure.Figure at 0x7f7ab20dfc50>"
       ]
      }
     ],
     "prompt_number": 178
    },
    {
     "cell_type": "markdown",
     "metadata": {},
     "source": [
      "\u0427\u0435\u043c \u0432\u044b\u0448\u0435 \u043b\u0435\u0436\u0438\u0442 ROC-\u043a\u0440\u0438\u0432\u0430\u044f - \u0442\u0435\u043c \u043b\u0443\u0447\u0448\u0435 - \u0432\u0438\u0434\u0438\u043c, \u0447\u0442\u043e \u0442\u0443\u0442 \u0442\u043e\u0436\u0435 RandomForest \u0440\u0430\u0431\u043e\u0442\u0430\u0435\u0442 \u043e\u0447\u0435\u043d\u044c \u0445\u043e\u0440\u043e\u0448\u043e - \u043e\u0441\u0442\u0430\u0432\u043b\u044f\u0435\u043c \u0435\u0433\u043e \u0432 \u043a\u0430\u0447\u0435\u0441\u0442\u0432\u0435 \u043a\u043b\u0430\u0441\u0441\u0438\u0444\u0438\u043a\u0430\u0442\u043e\u0440\u0430"
     ]
    },
    {
     "cell_type": "markdown",
     "metadata": {},
     "source": [
      "\u0412\u0441\u0435, \u043e\u0441\u0442\u0430\u043b\u043e\u0441\u044c \u0432\u044b\u0437\u0432\u0430\u0442\u044c predict \u0434\u043b\u044f \u043a\u0430\u0436\u0434\u043e\u0433\u043e \u043e\u0431\u044c\u0435\u043a\u0442\u0430 \u0438\u0437 \u0442\u0435\u0441\u0442\u043e\u0432\u043e\u0439 \u0432\u044b\u0431\u043e\u0440\u043a\u0438 \u0438 \u0437\u0430\u0441\u0430\u0431\u043c\u0438\u0442\u0438\u0442\u044c \u0440\u0435\u0437\u0443\u043b\u044c\u0442\u0430\u0442"
     ]
    },
    {
     "cell_type": "code",
     "collapsed": false,
     "input": [
      "model_rfc.fit(train_features, train_target)\n",
      "result.insert(1,'Survived', model_rfc.predict(test))\n",
      "result.to_csv('ans.csv', index=False)"
     ],
     "language": "python",
     "metadata": {},
     "outputs": [],
     "prompt_number": 179
    },
    {
     "cell_type": "code",
     "collapsed": false,
     "input": [],
     "language": "python",
     "metadata": {},
     "outputs": [],
     "prompt_number": 179
    },
    {
     "cell_type": "code",
     "collapsed": false,
     "input": [],
     "language": "python",
     "metadata": {},
     "outputs": [],
     "prompt_number": 179
    }
   ],
   "metadata": {}
  }
 ]
}