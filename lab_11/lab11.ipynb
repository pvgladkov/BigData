{
 "cells": [
  {
   "cell_type": "code",
   "execution_count": 1,
   "metadata": {
    "collapsed": false
   },
   "outputs": [
    {
     "name": "stdout",
     "output_type": "stream",
     "text": [
      "Welcome to\n",
      "      ____              __\n",
      "     / __/__  ___ _____/ /__\n",
      "    _\\ \\/ _ \\/ _ `/ __/  '_/\n",
      "   /__ / .__/\\_,_/_/ /_/\\_\\   version 1.3.0\n",
      "      /_/\n",
      "\n",
      "Using Python version 2.7.6 (default, Mar 22 2014 22:59:56)\n",
      "SparkContext available as sc, HiveContext available as sqlCtx.\n"
     ]
    }
   ],
   "source": [
    "import os\n",
    "execfile(os.path.join(os.environ[\"SPARK_HOME\"], 'python/pyspark/shell.py'))"
   ]
  },
  {
   "cell_type": "code",
   "execution_count": 2,
   "metadata": {
    "collapsed": true
   },
   "outputs": [],
   "source": [
    "# исходные данные \n",
    "user_id = 387"
   ]
  },
  {
   "cell_type": "code",
   "execution_count": 3,
   "metadata": {
    "collapsed": false
   },
   "outputs": [
    {
     "data": {
      "text/plain": [
       "u'196\\t242\\t3\\t881250949'"
      ]
     },
     "execution_count": 3,
     "metadata": {},
     "output_type": "execute_result"
    }
   ],
   "source": [
    "# файл с оценками\n",
    "# user id | item id | rating | timestamp\n",
    "user_marks_src = sc.textFile(\"/recsys/ml-100k/u.data\")\n",
    "user_marks_src.first()"
   ]
  },
  {
   "cell_type": "code",
   "execution_count": 4,
   "metadata": {
    "collapsed": false
   },
   "outputs": [
    {
     "data": {
      "text/plain": [
       "u'1|Toy Story (1995)|01-Jan-1995||http://us.imdb.com/M/title-exact?Toy%20Story%20(1995)|0|0|0|1|1|1|0|0|0|0|0|0|0|0|0|0|0|0|0'"
      ]
     },
     "execution_count": 4,
     "metadata": {},
     "output_type": "execute_result"
    }
   ],
   "source": [
    "# файл с фильмами\n",
    "film_data_src = sc.textFile(\"/recsys/ml-100k/u.item\")\n",
    "film_data_src.first()"
   ]
  },
  {
   "cell_type": "code",
   "execution_count": 5,
   "metadata": {
    "collapsed": false
   },
   "outputs": [
    {
     "data": {
      "text/plain": [
       "[(1, u'Toy Story (1995)'),\n",
       " (2, u'GoldenEye (1995)'),\n",
       " (3, u'Four Rooms (1995)'),\n",
       " (4, u'Get Shorty (1995)'),\n",
       " (5, u'Copycat (1995)')]"
      ]
     },
     "execution_count": 5,
     "metadata": {},
     "output_type": "execute_result"
    }
   ],
   "source": [
    "# id, name\n",
    "film_data = film_data_src.map(lambda x: (int(x.split('|')[0]), x.split('|')[1]))\n",
    "film_data.take(5)"
   ]
  },
  {
   "cell_type": "code",
   "execution_count": 6,
   "metadata": {
    "collapsed": false
   },
   "outputs": [
    {
     "data": {
      "text/plain": [
       "[196, 242, 3, 881250949]"
      ]
     },
     "execution_count": 6,
     "metadata": {},
     "output_type": "execute_result"
    }
   ],
   "source": [
    "# user id | item id | rating | timestamp\n",
    "user_marks = user_marks_src.map(lambda x: [int(i) for i in x.split('\\t')])\n",
    "user_marks.first()"
   ]
  },
  {
   "cell_type": "markdown",
   "metadata": {},
   "source": [
    "##Часть1. Найдем основные характеристики данных movielens"
   ]
  },
  {
   "cell_type": "markdown",
   "metadata": {},
   "source": [
    "####Количество всех пользователей и количество всех фильмов в данных"
   ]
  },
  {
   "cell_type": "code",
   "execution_count": 7,
   "metadata": {
    "collapsed": false
   },
   "outputs": [
    {
     "name": "stdout",
     "output_type": "stream",
     "text": [
      "943\n"
     ]
    }
   ],
   "source": [
    "# общее кол-во пользователей\n",
    "user_count = user_marks.map(lambda x: x[0]).distinct().count()\n",
    "print user_count"
   ]
  },
  {
   "cell_type": "code",
   "execution_count": 8,
   "metadata": {
    "collapsed": false
   },
   "outputs": [
    {
     "name": "stdout",
     "output_type": "stream",
     "text": [
      "1682\n"
     ]
    }
   ],
   "source": [
    "# кол-во фильмов\n",
    "film_count = film_data.count()\n",
    "print film_count"
   ]
  },
  {
   "cell_type": "markdown",
   "metadata": {},
   "source": [
    "####Сколько пользователь в среднем ставит рейтингов? (количество рейтингов/количество пользователей) – average_user_ratings"
   ]
  },
  {
   "cell_type": "code",
   "execution_count": 9,
   "metadata": {
    "collapsed": false
   },
   "outputs": [
    {
     "name": "stdout",
     "output_type": "stream",
     "text": [
      "106.0445\n"
     ]
    }
   ],
   "source": [
    "average_user_ratings = round(float(user_marks.count()) / user_count, 4)\n",
    "print average_user_ratings"
   ]
  },
  {
   "cell_type": "markdown",
   "metadata": {},
   "source": [
    "####Сколько фильм в среднем имеет рейтингов (количество рейтингов/количество фильмов)? – average_film_ratings"
   ]
  },
  {
   "cell_type": "code",
   "execution_count": 10,
   "metadata": {
    "collapsed": false
   },
   "outputs": [
    {
     "name": "stdout",
     "output_type": "stream",
     "text": [
      "59.453\n"
     ]
    }
   ],
   "source": [
    "average_film_ratings = round(float(user_marks.count()) / film_count, 4)\n",
    "print average_film_ratings"
   ]
  },
  {
   "cell_type": "markdown",
   "metadata": {},
   "source": [
    "####Процент заполненных ячеек в данных (количество рейтингов/(количество пользователей*количество фильмов)) – completeness"
   ]
  },
  {
   "cell_type": "code",
   "execution_count": 11,
   "metadata": {
    "collapsed": false
   },
   "outputs": [
    {
     "name": "stdout",
     "output_type": "stream",
     "text": [
      "0.063\n"
     ]
    }
   ],
   "source": [
    "completeness = round(float(user_marks.count()) / (user_count*film_count), 4)\n",
    "print completeness"
   ]
  },
  {
   "cell_type": "markdown",
   "metadata": {},
   "source": [
    "##Часть 2. User-user CF"
   ]
  },
  {
   "cell_type": "markdown",
   "metadata": {},
   "source": [
    "####Средний рейтинг для каждого пользователя"
   ]
  },
  {
   "cell_type": "code",
   "execution_count": 12,
   "metadata": {
    "collapsed": false
   },
   "outputs": [
    {
     "data": {
      "text/plain": [
       "[(2, 62), (4, 24), (6, 211)]"
      ]
     },
     "execution_count": 12,
     "metadata": {},
     "output_type": "execute_result"
    }
   ],
   "source": [
    "from operator import add\n",
    "user_ratings_counts = user_marks.map(lambda x: (x[0], 1)).reduceByKey(add)\n",
    "user_ratings_counts.take(3)"
   ]
  },
  {
   "cell_type": "code",
   "execution_count": 13,
   "metadata": {
    "collapsed": false
   },
   "outputs": [
    {
     "data": {
      "text/plain": [
       "[(2, 230), (4, 104), (6, 767)]"
      ]
     },
     "execution_count": 13,
     "metadata": {},
     "output_type": "execute_result"
    }
   ],
   "source": [
    "user_ratings_sum = user_marks.map(lambda x: (x[0], x[2])).reduceByKey(add)\n",
    "user_ratings_sum.take(3)"
   ]
  },
  {
   "cell_type": "code",
   "execution_count": 14,
   "metadata": {
    "collapsed": false
   },
   "outputs": [
    {
     "data": {
      "text/plain": [
       "[(2, 3.7097), (4, 4.3333), (6, 3.6351)]"
      ]
     },
     "execution_count": 14,
     "metadata": {},
     "output_type": "execute_result"
    }
   ],
   "source": [
    "user_avg = user_ratings_sum.join(user_ratings_counts).map(lambda x: (x[0], round(float(x[1][0]) / x[1][1], 4)))\n",
    "user_avg.take(3)"
   ]
  },
  {
   "cell_type": "markdown",
   "metadata": {
    "collapsed": false
   },
   "source": [
    "####Корреляция Пирсона"
   ]
  },
  {
   "cell_type": "code",
   "execution_count": 15,
   "metadata": {
    "collapsed": false
   },
   "outputs": [
    {
     "name": "stdout",
     "output_type": "stream",
     "text": [
      "3.3618\n"
     ]
    }
   ],
   "source": [
    "# средняя оценка моего юзера\n",
    "my_user_avg = user_avg.filter(lambda x: x[0] == user_id).collect()[0][1]\n",
    "print my_user_avg"
   ]
  },
  {
   "cell_type": "code",
   "execution_count": 16,
   "metadata": {
    "collapsed": false
   },
   "outputs": [
    {
     "data": {
      "text/plain": [
       "304"
      ]
     },
     "execution_count": 16,
     "metadata": {},
     "output_type": "execute_result"
    }
   ],
   "source": [
    "# film_id, rating\n",
    "my_user_marks = user_marks.filter(lambda x: x[0] == user_id).map(lambda x: (x[1], x[2]))\n",
    "my_user_marks.count()"
   ]
  },
  {
   "cell_type": "code",
   "execution_count": 17,
   "metadata": {
    "collapsed": true
   },
   "outputs": [],
   "source": [
    "# общие фильмы и оценки\n",
    "# film_id, (rating, my_rating)\n",
    "def get_common_films(_uid):\n",
    "    return user_marks.filter(lambda x: x[0] == _uid).map(lambda x: (x[1], x[2])).join(my_user_marks)"
   ]
  },
  {
   "cell_type": "code",
   "execution_count": 18,
   "metadata": {
    "collapsed": false
   },
   "outputs": [
    {
     "data": {
      "text/plain": [
       "[(2, 3.7097), (4, 4.3333), (6, 3.6351)]"
      ]
     },
     "execution_count": 18,
     "metadata": {},
     "output_type": "execute_result"
    }
   ],
   "source": [
    "# средние оценки других пользователей\n",
    "other_user_avg = user_avg.filter(lambda x: x[0] is not user_id)\n",
    "other_user_avg.take(3)"
   ]
  },
  {
   "cell_type": "code",
   "execution_count": 19,
   "metadata": {
    "collapsed": false
   },
   "outputs": [
    {
     "name": "stdout",
     "output_type": "stream",
     "text": [
      "943\n"
     ]
    }
   ],
   "source": [
    "other_user_avg_array = other_user_avg.collect()\n",
    "up_list = []\n",
    "print len(other_user_avg_array)"
   ]
  },
  {
   "cell_type": "code",
   "execution_count": 44,
   "metadata": {
    "collapsed": false
   },
   "outputs": [
    {
     "name": "stdout",
     "output_type": "stream",
     "text": [
      "10\n",
      "21\n",
      "31\n",
      "42\n",
      "53\n",
      "63\n",
      "74\n",
      "84\n",
      "95\n"
     ]
    }
   ],
   "source": [
    "from math import sqrt\n",
    "from pyspark.mllib.stat import Statistics\n",
    "\n",
    "def per(film_item):\n",
    "    global sum1\n",
    "    global sum2\n",
    "    global sum3\n",
    "    user_film_rating = film_item[1][0]\n",
    "    my_film_rating = film_item[1][1]\n",
    "    sum1 += (my_film_rating - my_user_avg_br.value) * (user_film_rating - user_avg_rating_br.value)\n",
    "    sum2 += (my_film_rating - my_user_avg_br.value) ** 2\n",
    "    sum3 += (user_film_rating - user_avg_rating_br.value) ** 2\n",
    "\n",
    "\n",
    "result = []\n",
    "    \n",
    "# идем по всем средним оценкам пользователей\n",
    "__c = 0\n",
    "for _item in other_user_avg_array:\n",
    "    \n",
    "    __c += 1\n",
    "    \n",
    "    # пользователь\n",
    "    uid = _item[0]\n",
    "    \n",
    "    # Общие фильмы с моим пользователем\n",
    "    common_films = get_common_films(uid)\n",
    "    \n",
    "    # средние оценки по общим фильмам\n",
    "    common_films_count = common_films.count()\n",
    "    my_avg = common_films.map(lambda x: (1, x[1][1])).reduceByKey(add).collect()[0][1]\n",
    "    my_avg = round(float(my_avg) / common_films_count, 4)\n",
    "    \n",
    "    u_avg = common_films.map(lambda x: (1, x[1][0])).reduceByKey(add).collect()[0][1]\n",
    "    u_avg = round(float(u_avg) / common_films_count, 4)\n",
    "    \n",
    "#     # через mllib 2\n",
    "#     data1 = common_films.map(lambda x: x[1][0])\n",
    "#     data2 = common_films.map(lambda x: x[1][1])\n",
    "#     ml_res2 = round(Statistics.corr(data1, data2, method=\"pearson\"), 4)\n",
    "    \n",
    "    # руками 1\n",
    "    sum1 = sc.accumulator(0)\n",
    "    sum2 = sc.accumulator(0)\n",
    "    sum3 = sc.accumulator(0)\n",
    "    \n",
    "    my_user_avg_br = sc.broadcast(my_avg)\n",
    "    user_avg_rating_br = sc.broadcast(u_avg)\n",
    "    \n",
    "    common_films.foreach(per)\n",
    "    if sum2.value == 0 or sum3.value == 0:\n",
    "        pears = 0\n",
    "    else:        \n",
    "        pears = round(float(sum1.value) / (sqrt(sum2.value) * sqrt(sum3.value)), 4)\n",
    "    \n",
    "#     # руками совсем \n",
    "#     common_film_list = common_films.collect()\n",
    "#     s1 = 0\n",
    "#     s2 = 0\n",
    "#     s3 = 0\n",
    "#     for film in common_film_list:\n",
    "#         user_film_rating = film[1][0]\n",
    "#         my_film_rating = film[1][1]\n",
    "#         s1 += (my_film_rating - my_avg) * (user_film_rating - u_avg)\n",
    "#         s2 += (my_film_rating - my_avg) ** 2\n",
    "#         s3 += (user_film_rating - u_avg) ** 2\n",
    "#     pears3 = round(float(s1) / (sqrt(s2) * sqrt(s3)), 4)\n",
    "    \n",
    "    _k = min(round(float(common_films_count)/50, 4), 1)\n",
    "    new_pears = round(_k * pears, 4)\n",
    "    \n",
    "    res = (uid, pears, new_pears)\n",
    "    result.append(res)\n",
    "    \n",
    "    if __c % 100 == 0:\n",
    "        print __c * 100 / len(other_user_avg_array)\n",
    "    "
   ]
  },
  {
   "cell_type": "code",
   "execution_count": 53,
   "metadata": {
    "collapsed": false
   },
   "outputs": [
    {
     "name": "stdout",
     "output_type": "stream",
     "text": [
      "[21, 267, 776, 541, 367, 118, 177, 397, 486, 442, 457, 77, 41, 854, 276, 339, 508, 323, 94, 23, 875, 158, 5, 622, 781, 933, 49, 548, 297, 566]\n"
     ]
    }
   ],
   "source": [
    "from operator import itemgetter\n",
    "sorted_result = sorted(result, key=itemgetter(2), reverse=True)\n",
    "sorted_result_30 =  sorted_result[0:31]\n",
    "pearson_neighbours = map(lambda x: x[0], sorted_result_30)[1:]\n",
    "print pearson_neighbours"
   ]
  },
  {
   "cell_type": "code",
   "execution_count": 21,
   "metadata": {
    "collapsed": false
   },
   "outputs": [],
   "source": [
    "# сохраняем\n",
    "import json\n",
    "\n",
    "result = {\n",
    "    \"average_film_ratings\": average_film_ratings,\n",
    "    \"average_rating\": 0,\n",
    "    \"average_user_ratings\": average_user_ratings,\n",
    "    \"completeness\": completeness,\n",
    "    \"pearson_neighbours\": pearson_neighbours,\n",
    "    \"pearson_top10\": [],\n",
    "    \"predicators_positive_top10\": [],\n",
    "    \"predicators_top10\": []\n",
    "}\n",
    "\n",
    "with open('lab11.json', 'w') as f:\n",
    "    f.write(json.dumps(result))\n",
    "    f.close()"
   ]
  },
  {
   "cell_type": "code",
   "execution_count": null,
   "metadata": {
    "collapsed": true
   },
   "outputs": [],
   "source": []
  }
 ],
 "metadata": {
  "kernelspec": {
   "display_name": "Python 2",
   "language": "python",
   "name": "python2"
  },
  "language_info": {
   "name": "python",
   "version": "2.7.6"
  }
 },
 "nbformat": 4,
 "nbformat_minor": 0
}
