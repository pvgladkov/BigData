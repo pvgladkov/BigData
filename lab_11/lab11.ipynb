{
 "cells": [
  {
   "cell_type": "code",
   "execution_count": 1,
   "metadata": {
    "collapsed": false
   },
   "outputs": [
    {
     "name": "stdout",
     "output_type": "stream",
     "text": [
      "Welcome to\n",
      "      ____              __\n",
      "     / __/__  ___ _____/ /__\n",
      "    _\\ \\/ _ \\/ _ `/ __/  '_/\n",
      "   /__ / .__/\\_,_/_/ /_/\\_\\   version 1.3.0\n",
      "      /_/\n",
      "\n",
      "Using Python version 2.7.6 (default, Mar 22 2014 22:59:56)\n",
      "SparkContext available as sc, HiveContext available as sqlCtx.\n"
     ]
    }
   ],
   "source": [
    "import os\n",
    "execfile(os.path.join(os.environ[\"SPARK_HOME\"], 'python/pyspark/shell.py'))"
   ]
  },
  {
   "cell_type": "code",
   "execution_count": 2,
   "metadata": {
    "collapsed": true
   },
   "outputs": [],
   "source": [
    "# исходные данные \n",
    "user_id = 387"
   ]
  },
  {
   "cell_type": "code",
   "execution_count": 3,
   "metadata": {
    "collapsed": false
   },
   "outputs": [
    {
     "data": {
      "text/plain": [
       "u'196\\t242\\t3\\t881250949'"
      ]
     },
     "execution_count": 3,
     "metadata": {},
     "output_type": "execute_result"
    }
   ],
   "source": [
    "# файл с оценками\n",
    "# user id | item id | rating | timestamp\n",
    "user_marks_src = sc.textFile(\"/recsys/ml-100k/u.data\")\n",
    "user_marks_src.first()"
   ]
  },
  {
   "cell_type": "code",
   "execution_count": 4,
   "metadata": {
    "collapsed": false
   },
   "outputs": [
    {
     "data": {
      "text/plain": [
       "u'1|Toy Story (1995)|01-Jan-1995||http://us.imdb.com/M/title-exact?Toy%20Story%20(1995)|0|0|0|1|1|1|0|0|0|0|0|0|0|0|0|0|0|0|0'"
      ]
     },
     "execution_count": 4,
     "metadata": {},
     "output_type": "execute_result"
    }
   ],
   "source": [
    "# файл с фильмами\n",
    "film_data_src = sc.textFile(\"/recsys/ml-100k/u.item\")\n",
    "film_data_src.first()"
   ]
  },
  {
   "cell_type": "code",
   "execution_count": 5,
   "metadata": {
    "collapsed": false
   },
   "outputs": [
    {
     "data": {
      "text/plain": [
       "[(1, u'Toy Story (1995)'),\n",
       " (2, u'GoldenEye (1995)'),\n",
       " (3, u'Four Rooms (1995)'),\n",
       " (4, u'Get Shorty (1995)'),\n",
       " (5, u'Copycat (1995)')]"
      ]
     },
     "execution_count": 5,
     "metadata": {},
     "output_type": "execute_result"
    }
   ],
   "source": [
    "# id, name\n",
    "film_data = film_data_src.map(lambda x: (int(x.split('|')[0]), x.split('|')[1]))\n",
    "film_data.take(5)"
   ]
  },
  {
   "cell_type": "code",
   "execution_count": 6,
   "metadata": {
    "collapsed": false
   },
   "outputs": [
    {
     "data": {
      "text/plain": [
       "[196, 242, 3, 881250949]"
      ]
     },
     "execution_count": 6,
     "metadata": {},
     "output_type": "execute_result"
    }
   ],
   "source": [
    "# user id | item id | rating | timestamp\n",
    "user_marks = user_marks_src.map(lambda x: [int(i) for i in x.split('\\t')])\n",
    "user_marks.first()"
   ]
  },
  {
   "cell_type": "markdown",
   "metadata": {},
   "source": [
    "##Часть1. Найдем основные характеристики данных movielens"
   ]
  },
  {
   "cell_type": "markdown",
   "metadata": {},
   "source": [
    "####Количество всех пользователей и количество всех фильмов в данных"
   ]
  },
  {
   "cell_type": "code",
   "execution_count": 7,
   "metadata": {
    "collapsed": false
   },
   "outputs": [
    {
     "name": "stdout",
     "output_type": "stream",
     "text": [
      "943\n"
     ]
    }
   ],
   "source": [
    "# общее кол-во пользователей\n",
    "user_count = user_marks.map(lambda x: x[0]).distinct().count()\n",
    "print user_count"
   ]
  },
  {
   "cell_type": "code",
   "execution_count": 8,
   "metadata": {
    "collapsed": false
   },
   "outputs": [
    {
     "name": "stdout",
     "output_type": "stream",
     "text": [
      "1682\n"
     ]
    }
   ],
   "source": [
    "# кол-во фильмов\n",
    "film_count = film_data.count()\n",
    "print film_count"
   ]
  },
  {
   "cell_type": "markdown",
   "metadata": {},
   "source": [
    "####Сколько пользователь в среднем ставит рейтингов? (количество рейтингов/количество пользователей) – average_user_ratings"
   ]
  },
  {
   "cell_type": "code",
   "execution_count": 9,
   "metadata": {
    "collapsed": false
   },
   "outputs": [
    {
     "name": "stdout",
     "output_type": "stream",
     "text": [
      "106.0445\n"
     ]
    }
   ],
   "source": [
    "average_user_ratings = round(float(user_marks.count()) / user_count, 4)\n",
    "print average_user_ratings"
   ]
  },
  {
   "cell_type": "markdown",
   "metadata": {},
   "source": [
    "####Сколько фильм в среднем имеет рейтингов (количество рейтингов/количество фильмов)? – average_film_ratings"
   ]
  },
  {
   "cell_type": "code",
   "execution_count": 10,
   "metadata": {
    "collapsed": false
   },
   "outputs": [
    {
     "name": "stdout",
     "output_type": "stream",
     "text": [
      "59.453\n"
     ]
    }
   ],
   "source": [
    "average_film_ratings = round(float(user_marks.count()) / film_count, 4)\n",
    "print average_film_ratings"
   ]
  },
  {
   "cell_type": "markdown",
   "metadata": {},
   "source": [
    "####Процент заполненных ячеек в данных (количество рейтингов/(количество пользователей*количество фильмов)) – completeness"
   ]
  },
  {
   "cell_type": "code",
   "execution_count": 11,
   "metadata": {
    "collapsed": false
   },
   "outputs": [
    {
     "name": "stdout",
     "output_type": "stream",
     "text": [
      "0.063\n"
     ]
    }
   ],
   "source": [
    "completeness = round(float(user_marks.count()) / (user_count*film_count), 4)\n",
    "print completeness"
   ]
  },
  {
   "cell_type": "markdown",
   "metadata": {},
   "source": [
    "##Часть 2. User-user CF"
   ]
  },
  {
   "cell_type": "markdown",
   "metadata": {},
   "source": [
    "####Средний рейтинг для каждого пользователя"
   ]
  },
  {
   "cell_type": "code",
   "execution_count": 12,
   "metadata": {
    "collapsed": false
   },
   "outputs": [
    {
     "data": {
      "text/plain": [
       "[(2, 62), (4, 24), (6, 211)]"
      ]
     },
     "execution_count": 12,
     "metadata": {},
     "output_type": "execute_result"
    }
   ],
   "source": [
    "from operator import add, itemgetter\n",
    "user_ratings_counts = user_marks.map(lambda x: (x[0], 1)).reduceByKey(add)\n",
    "user_ratings_counts.take(3)"
   ]
  },
  {
   "cell_type": "code",
   "execution_count": 13,
   "metadata": {
    "collapsed": false
   },
   "outputs": [
    {
     "data": {
      "text/plain": [
       "[(2, 230), (4, 104), (6, 767)]"
      ]
     },
     "execution_count": 13,
     "metadata": {},
     "output_type": "execute_result"
    }
   ],
   "source": [
    "user_ratings_sum = user_marks.map(lambda x: (x[0], x[2])).reduceByKey(add)\n",
    "user_ratings_sum.take(3)"
   ]
  },
  {
   "cell_type": "code",
   "execution_count": 14,
   "metadata": {
    "collapsed": false
   },
   "outputs": [
    {
     "data": {
      "text/plain": [
       "[(2, 3.7097), (4, 4.3333), (6, 3.6351)]"
      ]
     },
     "execution_count": 14,
     "metadata": {},
     "output_type": "execute_result"
    }
   ],
   "source": [
    "user_avg = user_ratings_sum.join(user_ratings_counts).map(lambda x: (x[0], round(float(x[1][0]) / x[1][1], 4)))\n",
    "user_avg.take(3)"
   ]
  },
  {
   "cell_type": "markdown",
   "metadata": {
    "collapsed": false
   },
   "source": [
    "####Корреляция Пирсона"
   ]
  },
  {
   "cell_type": "code",
   "execution_count": 15,
   "metadata": {
    "collapsed": false
   },
   "outputs": [
    {
     "name": "stdout",
     "output_type": "stream",
     "text": [
      "3.3618\n"
     ]
    }
   ],
   "source": [
    "# средняя оценка моего юзера\n",
    "my_user_avg = user_avg.filter(lambda x: x[0] == user_id).collect()[0][1]\n",
    "print my_user_avg"
   ]
  },
  {
   "cell_type": "code",
   "execution_count": 16,
   "metadata": {
    "collapsed": false
   },
   "outputs": [
    {
     "data": {
      "text/plain": [
       "304"
      ]
     },
     "execution_count": 16,
     "metadata": {},
     "output_type": "execute_result"
    }
   ],
   "source": [
    "# film_id, rating\n",
    "my_user_marks = user_marks.filter(lambda x: x[0] == user_id).map(lambda x: (x[1], x[2]))\n",
    "my_user_marks.count()"
   ]
  },
  {
   "cell_type": "code",
   "execution_count": 17,
   "metadata": {
    "collapsed": true
   },
   "outputs": [],
   "source": [
    "# общие фильмы и оценки\n",
    "# film_id, (rating, my_rating)\n",
    "def get_common_films(_uid):\n",
    "    return user_marks.filter(lambda x: x[0] == _uid).map(lambda x: (x[1], x[2])).join(my_user_marks)"
   ]
  },
  {
   "cell_type": "code",
   "execution_count": 18,
   "metadata": {
    "collapsed": false
   },
   "outputs": [
    {
     "data": {
      "text/plain": [
       "[(2, 3.7097), (4, 4.3333), (6, 3.6351)]"
      ]
     },
     "execution_count": 18,
     "metadata": {},
     "output_type": "execute_result"
    }
   ],
   "source": [
    "# средние оценки других пользователей\n",
    "other_user_avg = user_avg.filter(lambda x: x[0] is not user_id)\n",
    "other_user_avg.take(3)"
   ]
  },
  {
   "cell_type": "code",
   "execution_count": 19,
   "metadata": {
    "collapsed": false
   },
   "outputs": [
    {
     "name": "stdout",
     "output_type": "stream",
     "text": [
      "943\n"
     ]
    }
   ],
   "source": [
    "other_user_avg_array = other_user_avg.collect()\n",
    "up_list = []\n",
    "print len(other_user_avg_array)"
   ]
  },
  {
   "cell_type": "code",
   "execution_count": 71,
   "metadata": {
    "collapsed": false
   },
   "outputs": [
    {
     "name": "stdout",
     "output_type": "stream",
     "text": [
      "943\n"
     ]
    }
   ],
   "source": [
    "# сделаем broadcast-словарь со всеми средними оценками\n",
    "all_neighbour_avg = user_avg.collect()\n",
    "all_avg_dict = {}\n",
    "for _i in all_neighbour_avg:\n",
    "    all_avg_dict[_i[0]] = _i[1]\n",
    "\n",
    "all_avg_dict_br = sc.broadcast(all_avg_dict)\n",
    "print len(all_avg_dict_br.value)"
   ]
  },
  {
   "cell_type": "code",
   "execution_count": 72,
   "metadata": {
    "collapsed": false
   },
   "outputs": [
    {
     "name": "stdout",
     "output_type": "stream",
     "text": [
      "10\n",
      "21\n",
      "31\n",
      "42\n",
      "53\n",
      "63\n",
      "74\n",
      "84\n",
      "95\n"
     ]
    }
   ],
   "source": [
    "from math import sqrt\n",
    "from pyspark.mllib.stat import Statistics\n",
    "\n",
    "def per(film_item):\n",
    "    global sum1\n",
    "    global sum2\n",
    "    global sum3\n",
    "    user_film_rating = film_item[1][0]\n",
    "    my_film_rating = film_item[1][1]\n",
    "    sum1 += (my_film_rating - my_user_avg_br.value) * (user_film_rating - user_avg_rating_br.value)\n",
    "    sum2 += (my_film_rating - my_user_avg_br.value) ** 2\n",
    "    sum3 += (user_film_rating - user_avg_rating_br.value) ** 2\n",
    "\n",
    "\n",
    "result = []\n",
    "    \n",
    "# идем по всем средним оценкам пользователей\n",
    "__c = 0\n",
    "for _item in other_user_avg_array:\n",
    "    \n",
    "    __c += 1\n",
    "    \n",
    "    # пользователь\n",
    "    uid = _item[0]\n",
    "    \n",
    "    # Общие фильмы с моим пользователем\n",
    "    common_films = get_common_films(uid)\n",
    "    \n",
    "    # средние оценки по общим фильмам\n",
    "    common_films_count = common_films.count()\n",
    "#     my_avg = common_films.map(lambda x: (1, x[1][1])).reduceByKey(add).collect()[0][1]\n",
    "#     my_avg = round(float(my_avg) / common_films_count, 4)\n",
    "    my_avg = my_user_avg\n",
    "    \n",
    "#     u_avg = common_films.map(lambda x: (1, x[1][0])).reduceByKey(add).collect()[0][1]\n",
    "#     u_avg = round(float(u_avg) / common_films_count, 4)\n",
    "    u_avg = all_avg_dict.get(uid)\n",
    "      \n",
    "    # руками 1\n",
    "    sum1 = sc.accumulator(0)\n",
    "    sum2 = sc.accumulator(0)\n",
    "    sum3 = sc.accumulator(0)\n",
    "    \n",
    "    my_user_avg_br = sc.broadcast(my_avg)\n",
    "    user_avg_rating_br = sc.broadcast(u_avg)\n",
    "    \n",
    "    common_films.foreach(per)\n",
    "    if sum2.value == 0 or sum3.value == 0:\n",
    "        pears = 0\n",
    "    else:        \n",
    "        pears = round(float(sum1.value) / (sqrt(sum2.value) * sqrt(sum3.value)), 4)\n",
    "    \n",
    "    _k = min(round(float(common_films_count)/50, 4), 1)\n",
    "    new_pears = round(_k * pears, 4)\n",
    "    \n",
    "    res = (uid, pears, new_pears)\n",
    "    result.append(res)\n",
    "    \n",
    "    if __c % 100 == 0:\n",
    "        print __c * 100 / len(other_user_avg_array)\n",
    "    "
   ]
  },
  {
   "cell_type": "code",
   "execution_count": 73,
   "metadata": {
    "collapsed": false
   },
   "outputs": [],
   "source": [
    "import cPickle\n",
    "with open('pearson_2.picle', \"w\") as _dump:\n",
    "    cPickle.dump(result, _dump, cPickle.HIGHEST_PROTOCOL)"
   ]
  },
  {
   "cell_type": "code",
   "execution_count": 84,
   "metadata": {
    "collapsed": false
   },
   "outputs": [
    {
     "name": "stdout",
     "output_type": "stream",
     "text": [
      "[267, 397, 776, 177, 367, 118, 854, 486, 77, 442, 41, 457, 339, 833, 323, 622, 21, 23, 94, 158, 766, 49, 875, 566, 297, 933, 425, 7, 781, 868]\n"
     ]
    }
   ],
   "source": [
    "sorted_result = sorted(result, key=itemgetter(2), reverse=True)\n",
    "sorted_result_30 =  sorted_result[1:31]\n",
    "pearson_neighbours = map(lambda x: x[0], sorted_result_30)\n",
    "print pearson_neighbours"
   ]
  },
  {
   "cell_type": "markdown",
   "metadata": {},
   "source": [
    "#### Прогноз оценок"
   ]
  },
  {
   "cell_type": "code",
   "execution_count": 75,
   "metadata": {
    "collapsed": false
   },
   "outputs": [
    {
     "name": "stdout",
     "output_type": "stream",
     "text": [
      "1378\n"
     ]
    }
   ],
   "source": [
    "# фильмы, которые оценил\n",
    "my_user_films_list = my_user_marks.map(lambda x: x[0]).collect()\n",
    "\n",
    "# фильмы которые не оценил\n",
    "no_rating_films = film_data.filter(lambda x: x[0] not in my_user_films_list)\n",
    "no_rating_films_list = no_rating_films.map(lambda x: x[0]).collect()\n",
    "print len(no_rating_films_list)"
   ]
  },
  {
   "cell_type": "code",
   "execution_count": 76,
   "metadata": {
    "collapsed": false
   },
   "outputs": [
    {
     "data": {
      "text/plain": [
       "[(242, (196, 3)), (302, (186, 3)), (377, (22, 1))]"
      ]
     },
     "execution_count": 76,
     "metadata": {},
     "output_type": "execute_result"
    }
   ],
   "source": [
    "# найдем оценки соседей для моих неоцененных фильмов\n",
    "no_rating_films_neighbour_rating = user_marks\\\n",
    "    .filter(lambda x: x[1] in no_rating_films_list)\\\n",
    "    .map(lambda x: (x[1], (x[0], x[2])))\n",
    "\n",
    "no_rating_films_neighbour_rating.take(3)"
   ]
  },
  {
   "cell_type": "code",
   "execution_count": 77,
   "metadata": {
    "collapsed": false
   },
   "outputs": [
    {
     "name": "stdout",
     "output_type": "stream",
     "text": [
      "1378\n"
     ]
    }
   ],
   "source": [
    "# сделаем broadcast-словарь с оценками пользователей фильмов, которые нам интересны\n",
    "neighbour_rating = no_rating_films_neighbour_rating\\\n",
    "    .groupByKey()\\\n",
    "    .map(lambda x : (x[0], list(x[1])))\\\n",
    "    .collect()\n",
    "    \n",
    "rating_dict = {}\n",
    "for films_r in neighbour_rating:\n",
    "    f_id = films_r[0]\n",
    "    rating_dict[f_id] = {}\n",
    "    for user_r in films_r[1]:\n",
    "        u_id = user_r[0]\n",
    "        rating_dict[f_id][u_id] = user_r[1]\n",
    "        \n",
    "\n",
    "rating_dict_br = sc.broadcast(rating_dict)        \n",
    "print len(rating_dict_br.value)"
   ]
  },
  {
   "cell_type": "code",
   "execution_count": 78,
   "metadata": {
    "collapsed": false
   },
   "outputs": [
    {
     "name": "stdout",
     "output_type": "stream",
     "text": [
      "{7: 3.9653, 776: 3.4667, 267: 3.9351, 781: 3.7857, 21: 2.6704, 23: 3.6358, 158: 3.8035, 933: 2.6467, 49: 2.6837, 425: 2.9559, 177: 3.6174, 566: 3.443, 442: 3.1259, 833: 3.0562, 323: 3.618, 457: 4.0253, 77: 3.6111, 397: 3.7059, 339: 4.0039, 854: 3.212, 297: 3.4375, 94: 3.6575, 868: 2.9519, 486: 3.2222, 875: 4.191, 622: 3.3904, 367: 4.1552, 118: 4.662, 41: 3.7692, 766: 3.3543}\n"
     ]
    }
   ],
   "source": [
    "# сделаем broadcast-словарь со средними оценками\n",
    "neighbour_avg = user_avg.filter(lambda x: x[0] in pearson_neighbours).collect()\n",
    "avg_dict = {}\n",
    "for _i in neighbour_avg:\n",
    "    avg_dict[_i[0]] = _i[1]\n",
    "\n",
    "avg_dict_br = sc.broadcast(avg_dict)\n",
    "print avg_dict_br.value"
   ]
  },
  {
   "cell_type": "code",
   "execution_count": 79,
   "metadata": {
    "collapsed": true
   },
   "outputs": [],
   "source": [
    "def prabably_rating(film_id):\n",
    "    s1 = 0\n",
    "    s2 = 0\n",
    "    # идем по всем соседям\n",
    "    for neighbour in sorted_result_30:\n",
    "        uid = neighbour[0]\n",
    "        p = neighbour[2]\n",
    "        # надо найти оценку пользователя, его среднюю оценку\n",
    "        user_rating = rating_dict_br.value.get(film_id, {}).get(uid, None)\n",
    "        \n",
    "        if user_rating is None:\n",
    "            continue\n",
    "        \n",
    "        user_avg_rating = avg_dict_br.value.get(uid)\n",
    "        \n",
    "        s1 += p * (user_rating - user_avg_rating)\n",
    "        s2 += abs(p)\n",
    "    if s2 == 0:\n",
    "        return (film_id, my_user_avg)\n",
    "    return (film_id, round(my_user_avg + (float(s1) / s2), 4))"
   ]
  },
  {
   "cell_type": "code",
   "execution_count": 80,
   "metadata": {
    "collapsed": false
   },
   "outputs": [
    {
     "data": {
      "text/plain": [
       "[(3, u'Four Rooms (1995)'),\n",
       " (5, u'Copycat (1995)'),\n",
       " (6, u'Shanghai Triad (Yao a yao yao dao waipo qiao) (1995)'),\n",
       " (9, u'Dead Man Walking (1995)')]"
      ]
     },
     "execution_count": 80,
     "metadata": {},
     "output_type": "execute_result"
    }
   ],
   "source": [
    "no_rating_films.take(4)"
   ]
  },
  {
   "cell_type": "code",
   "execution_count": 81,
   "metadata": {
    "collapsed": false
   },
   "outputs": [
    {
     "data": {
      "text/plain": [
       "[(922, 5.2662),\n",
       " (671, 5.1448),\n",
       " (251, 5.1396),\n",
       " (880, 5.1396),\n",
       " (887, 5.1396),\n",
       " (1137, 5.1396),\n",
       " (1142, 5.1396),\n",
       " (1405, 5.1396),\n",
       " (1598, 5.1396),\n",
       " (165, 4.9457),\n",
       " (1193, 4.9188),\n",
       " (646, 4.765)]"
      ]
     },
     "execution_count": 81,
     "metadata": {},
     "output_type": "execute_result"
    }
   ],
   "source": [
    "res = no_rating_films.map(lambda x: x[0]).map(prabably_rating).sortBy(lambda x: -x[1])\n",
    "res.take(12)"
   ]
  },
  {
   "cell_type": "code",
   "execution_count": 82,
   "metadata": {
    "collapsed": false
   },
   "outputs": [
    {
     "data": {
      "text/plain": [
       "[922, 671, 251, 880, 887, 1137, 1142, 1405, 1598, 165]"
      ]
     },
     "execution_count": 82,
     "metadata": {},
     "output_type": "execute_result"
    }
   ],
   "source": [
    "pearson_top10 = res.map(lambda x: x[0]). take(10)\n",
    "pearson_top10"
   ]
  },
  {
   "cell_type": "markdown",
   "metadata": {},
   "source": [
    "##Часть 3. Базовые предикторы"
   ]
  },
  {
   "cell_type": "markdown",
   "metadata": {},
   "source": [
    "####Глобальное среднее (average_rating) по всему датасету"
   ]
  },
  {
   "cell_type": "code",
   "execution_count": 88,
   "metadata": {
    "collapsed": false
   },
   "outputs": [
    {
     "name": "stdout",
     "output_type": "stream",
     "text": [
      "3.5299\n"
     ]
    }
   ],
   "source": [
    "average_rating_s = float(user_marks.map(lambda x: x[2]).sum()) / user_marks.map(lambda x: 1).sum()\n",
    "average_rating = round(average_rating_s, 4)\n",
    "print average_rating"
   ]
  },
  {
   "cell_type": "markdown",
   "metadata": {},
   "source": [
    "####Базовый предиктор для всех пользователей"
   ]
  },
  {
   "cell_type": "code",
   "execution_count": 101,
   "metadata": {
    "collapsed": false
   },
   "outputs": [
    {
     "data": {
      "text/plain": [
       "[(2, (11.146200000000006, 62)),\n",
       " (4, (19.282400000000003, 24)),\n",
       " (6, (22.191099999999928, 211)),\n",
       " (8, (15.735899999999987, 59))]"
      ]
     },
     "execution_count": 101,
     "metadata": {},
     "output_type": "execute_result"
    }
   ],
   "source": [
    "average_rating_br = sc.broadcast(average_rating)\n",
    "# пользователь (сумма, кол-во оценок)\n",
    "pre_marks = user_marks\\\n",
    "    .map(lambda x: (x[0], (x[2] - average_rating_br.value, 1)))\\\n",
    "    .reduceByKey(lambda a, b: (a[0]+b[0], a[1]+b[1]))\n",
    "\n",
    "pre_marks.take(4)"
   ]
  },
  {
   "cell_type": "code",
   "execution_count": 96,
   "metadata": {
    "collapsed": false
   },
   "outputs": [
    {
     "name": "stdout",
     "output_type": "stream",
     "text": [
      "[(2, 0.1548), (4, 0.5671), (6, 0.1004)] 943\n"
     ]
    }
   ],
   "source": [
    "bu_rdd = pre_marks.map(lambda x: (x[0], round(1.0/(10 + x[1][1]) * x[1][0], 4)))\n",
    "print bu_rdd.take(3), bu_rdd.count()"
   ]
  },
  {
   "cell_type": "markdown",
   "metadata": {},
   "source": [
    "####Базовый предиктор для всех фильмов"
   ]
  },
  {
   "cell_type": "code",
   "execution_count": 98,
   "metadata": {
    "collapsed": false
   },
   "outputs": [],
   "source": [
    "bu = bu_rdd.collect()\n",
    "bu_dict = {}\n",
    "for _b in bu:\n",
    "    bu_dict[_b[0]] = _b[1]\n",
    "\n",
    "bu_dict_br = sc.broadcast(bu_dict)"
   ]
  },
  {
   "cell_type": "code",
   "execution_count": 104,
   "metadata": {
    "collapsed": false
   },
   "outputs": [
    {
     "data": {
      "text/plain": [
       "[(2, (-33.23320000000001, 131)),\n",
       " (4, (-4.659500000000008, 209)),\n",
       " (6, (2.9346999999999994, 26))]"
      ]
     },
     "execution_count": 104,
     "metadata": {},
     "output_type": "execute_result"
    }
   ],
   "source": [
    "# фильм (сумма, кол-во пользователей)\n",
    "pre_marks_2 = user_marks\\\n",
    "    .map(lambda x: (x[1], (x[2] - average_rating_br.value - bu_dict_br.value.get(x[0]), 1)))\\\n",
    "    .reduceByKey(lambda a, b: (a[0]+b[0], a[1]+b[1]))\n",
    "\n",
    "pre_marks_2.take(3)"
   ]
  },
  {
   "cell_type": "code",
   "execution_count": 105,
   "metadata": {
    "collapsed": false
   },
   "outputs": [
    {
     "name": "stdout",
     "output_type": "stream",
     "text": [
      "[(2, -0.213), (4, -0.0199), (6, 0.0575)] 1682\n"
     ]
    }
   ],
   "source": [
    "bi_rdd = pre_marks_2.map(lambda x: (x[0], round(1.0/(25 + x[1][1]) * x[1][0], 4)))\n",
    "print bi_rdd.take(3), bi_rdd.count()"
   ]
  },
  {
   "cell_type": "code",
   "execution_count": 106,
   "metadata": {
    "collapsed": true
   },
   "outputs": [],
   "source": [
    "bi = bi_rdd.collect()\n",
    "bi_dict = {}\n",
    "for _b in bi:\n",
    "    bi_dict[_b[0]] = _b[1]\n",
    "\n",
    "bi_dict_br = sc.broadcast(bi_dict)"
   ]
  },
  {
   "cell_type": "markdown",
   "metadata": {},
   "source": [
    "##Часть 4. Item-item CF"
   ]
  },
  {
   "cell_type": "markdown",
   "metadata": {},
   "source": [
    "#### Cделаем табличку с рейтингами"
   ]
  },
  {
   "cell_type": "code",
   "execution_count": 108,
   "metadata": {
    "collapsed": false
   },
   "outputs": [
    {
     "data": {
      "text/plain": [
       "[(196, 242, -0.9886), (186, 302, -1.0289), (22, 377, -1.9717)]"
      ]
     },
     "execution_count": 108,
     "metadata": {},
     "output_type": "execute_result"
    }
   ],
   "source": [
    "# из пользовательских оценок вычтем предикторы\n",
    "new_user_marks = user_marks\\\n",
    "    .map(\n",
    "        lambda x: (x[0], x[1], \n",
    "                   round(x[2] - average_rating_br.value - bi_dict_br.value.get(x[1]) - bu_dict_br.value.get(x[0]), 4)\n",
    "                  )\n",
    "    )\n",
    "new_user_marks.take(3)"
   ]
  },
  {
   "cell_type": "code",
   "execution_count": 109,
   "metadata": {
    "collapsed": true
   },
   "outputs": [],
   "source": [
    "new_user_marks_list = new_user_marks.collect()"
   ]
  },
  {
   "cell_type": "code",
   "execution_count": 124,
   "metadata": {
    "collapsed": false
   },
   "outputs": [
    {
     "data": {
      "text/plain": [
       "-0.9886"
      ]
     },
     "execution_count": 124,
     "metadata": {},
     "output_type": "execute_result"
    }
   ],
   "source": [
    "from collections import defaultdict\n",
    "rating_dict = defaultdict(dict)\n",
    "for _i in new_user_marks_list:\n",
    "    _uid = _i[0]\n",
    "    _fid = _i[1]\n",
    "    _r = _i[2]\n",
    "    rating_dict[_fid][_uid] = _r\n",
    "\n",
    "rating_dict[242][196]"
   ]
  },
  {
   "cell_type": "code",
   "execution_count": 136,
   "metadata": {
    "collapsed": false
   },
   "outputs": [
    {
     "ename": "KeyboardInterrupt",
     "evalue": "",
     "output_type": "error",
     "traceback": [
      "\u001b[0;31m---------------------------------------------------------------------------\u001b[0m\n\u001b[0;31mKeyboardInterrupt\u001b[0m                         Traceback (most recent call last)",
      "\u001b[0;32m<ipython-input-136-7938787fd7aa>\u001b[0m in \u001b[0;36m<module>\u001b[0;34m()\u001b[0m\n\u001b[1;32m      1\u001b[0m \u001b[0;31m# список пользователей\u001b[0m\u001b[0;34m\u001b[0m\u001b[0;34m\u001b[0m\u001b[0m\n\u001b[0;32m----> 2\u001b[0;31m \u001b[0muser_list\u001b[0m \u001b[0;34m=\u001b[0m \u001b[0muser_marks\u001b[0m\u001b[0;34m.\u001b[0m\u001b[0mmap\u001b[0m\u001b[0;34m(\u001b[0m\u001b[0;32mlambda\u001b[0m \u001b[0mx\u001b[0m\u001b[0;34m:\u001b[0m \u001b[0mx\u001b[0m\u001b[0;34m[\u001b[0m\u001b[0;36m0\u001b[0m\u001b[0;34m]\u001b[0m\u001b[0;34m)\u001b[0m\u001b[0;34m.\u001b[0m\u001b[0mdistinct\u001b[0m\u001b[0;34m(\u001b[0m\u001b[0;34m)\u001b[0m\u001b[0;34m.\u001b[0m\u001b[0mcollect\u001b[0m\u001b[0;34m(\u001b[0m\u001b[0;34m)\u001b[0m\u001b[0;34m\u001b[0m\u001b[0m\n\u001b[0m\u001b[1;32m      3\u001b[0m \u001b[0;34m\u001b[0m\u001b[0m\n\u001b[1;32m      4\u001b[0m \u001b[0;31m# список фильмов\u001b[0m\u001b[0;34m\u001b[0m\u001b[0;34m\u001b[0m\u001b[0m\n\u001b[1;32m      5\u001b[0m \u001b[0mfilm_list\u001b[0m \u001b[0;34m=\u001b[0m \u001b[0mfilm_data\u001b[0m\u001b[0;34m.\u001b[0m\u001b[0mmap\u001b[0m\u001b[0;34m(\u001b[0m\u001b[0;32mlambda\u001b[0m \u001b[0mx\u001b[0m\u001b[0;34m:\u001b[0m \u001b[0mx\u001b[0m\u001b[0;34m[\u001b[0m\u001b[0;36m0\u001b[0m\u001b[0;34m]\u001b[0m\u001b[0;34m)\u001b[0m\u001b[0;34m.\u001b[0m\u001b[0mcollect\u001b[0m\u001b[0;34m(\u001b[0m\u001b[0;34m)\u001b[0m\u001b[0;34m\u001b[0m\u001b[0m\n",
      "\u001b[0;32m/opt/cloudera/parcels/CDH/lib/spark/python/pyspark/rdd.py\u001b[0m in \u001b[0;36mcollect\u001b[0;34m(self)\u001b[0m\n\u001b[1;32m    699\u001b[0m         \"\"\"\n\u001b[1;32m    700\u001b[0m         \u001b[0;32mwith\u001b[0m \u001b[0mSCCallSiteSync\u001b[0m\u001b[0;34m(\u001b[0m\u001b[0mself\u001b[0m\u001b[0;34m.\u001b[0m\u001b[0mcontext\u001b[0m\u001b[0;34m)\u001b[0m \u001b[0;32mas\u001b[0m \u001b[0mcss\u001b[0m\u001b[0;34m:\u001b[0m\u001b[0;34m\u001b[0m\u001b[0m\n\u001b[0;32m--> 701\u001b[0;31m             \u001b[0mbytesInJava\u001b[0m \u001b[0;34m=\u001b[0m \u001b[0mself\u001b[0m\u001b[0;34m.\u001b[0m\u001b[0m_jrdd\u001b[0m\u001b[0;34m.\u001b[0m\u001b[0mcollect\u001b[0m\u001b[0;34m(\u001b[0m\u001b[0;34m)\u001b[0m\u001b[0;34m.\u001b[0m\u001b[0miterator\u001b[0m\u001b[0;34m(\u001b[0m\u001b[0;34m)\u001b[0m\u001b[0;34m\u001b[0m\u001b[0m\n\u001b[0m\u001b[1;32m    702\u001b[0m         \u001b[0;32mreturn\u001b[0m \u001b[0mlist\u001b[0m\u001b[0;34m(\u001b[0m\u001b[0mself\u001b[0m\u001b[0;34m.\u001b[0m\u001b[0m_collect_iterator_through_file\u001b[0m\u001b[0;34m(\u001b[0m\u001b[0mbytesInJava\u001b[0m\u001b[0;34m)\u001b[0m\u001b[0;34m)\u001b[0m\u001b[0;34m\u001b[0m\u001b[0m\n\u001b[1;32m    703\u001b[0m \u001b[0;34m\u001b[0m\u001b[0m\n",
      "\u001b[0;32m/opt/cloudera/parcels/CDH/lib/spark/python/lib/py4j-0.8.2.1-src.zip/py4j/java_gateway.py\u001b[0m in \u001b[0;36m__call__\u001b[0;34m(self, *args)\u001b[0m\n\u001b[1;32m    534\u001b[0m             \u001b[0mEND_COMMAND_PART\u001b[0m\u001b[0;34m\u001b[0m\u001b[0m\n\u001b[1;32m    535\u001b[0m \u001b[0;34m\u001b[0m\u001b[0m\n\u001b[0;32m--> 536\u001b[0;31m         \u001b[0manswer\u001b[0m \u001b[0;34m=\u001b[0m \u001b[0mself\u001b[0m\u001b[0;34m.\u001b[0m\u001b[0mgateway_client\u001b[0m\u001b[0;34m.\u001b[0m\u001b[0msend_command\u001b[0m\u001b[0;34m(\u001b[0m\u001b[0mcommand\u001b[0m\u001b[0;34m)\u001b[0m\u001b[0;34m\u001b[0m\u001b[0m\n\u001b[0m\u001b[1;32m    537\u001b[0m         return_value = get_return_value(answer, self.gateway_client,\n\u001b[1;32m    538\u001b[0m                 self.target_id, self.name)\n",
      "\u001b[0;32m/opt/cloudera/parcels/CDH/lib/spark/python/lib/py4j-0.8.2.1-src.zip/py4j/java_gateway.py\u001b[0m in \u001b[0;36msend_command\u001b[0;34m(self, command, retry)\u001b[0m\n\u001b[1;32m    362\u001b[0m         \u001b[0mconnection\u001b[0m \u001b[0;34m=\u001b[0m \u001b[0mself\u001b[0m\u001b[0;34m.\u001b[0m\u001b[0m_get_connection\u001b[0m\u001b[0;34m(\u001b[0m\u001b[0;34m)\u001b[0m\u001b[0;34m\u001b[0m\u001b[0m\n\u001b[1;32m    363\u001b[0m         \u001b[0;32mtry\u001b[0m\u001b[0;34m:\u001b[0m\u001b[0;34m\u001b[0m\u001b[0m\n\u001b[0;32m--> 364\u001b[0;31m             \u001b[0mresponse\u001b[0m \u001b[0;34m=\u001b[0m \u001b[0mconnection\u001b[0m\u001b[0;34m.\u001b[0m\u001b[0msend_command\u001b[0m\u001b[0;34m(\u001b[0m\u001b[0mcommand\u001b[0m\u001b[0;34m)\u001b[0m\u001b[0;34m\u001b[0m\u001b[0m\n\u001b[0m\u001b[1;32m    365\u001b[0m             \u001b[0mself\u001b[0m\u001b[0;34m.\u001b[0m\u001b[0m_give_back_connection\u001b[0m\u001b[0;34m(\u001b[0m\u001b[0mconnection\u001b[0m\u001b[0;34m)\u001b[0m\u001b[0;34m\u001b[0m\u001b[0m\n\u001b[1;32m    366\u001b[0m         \u001b[0;32mexcept\u001b[0m \u001b[0mPy4JNetworkError\u001b[0m\u001b[0;34m:\u001b[0m\u001b[0;34m\u001b[0m\u001b[0m\n",
      "\u001b[0;32m/opt/cloudera/parcels/CDH/lib/spark/python/lib/py4j-0.8.2.1-src.zip/py4j/java_gateway.py\u001b[0m in \u001b[0;36msend_command\u001b[0;34m(self, command)\u001b[0m\n\u001b[1;32m    471\u001b[0m         \u001b[0;32mtry\u001b[0m\u001b[0;34m:\u001b[0m\u001b[0;34m\u001b[0m\u001b[0m\n\u001b[1;32m    472\u001b[0m             \u001b[0mself\u001b[0m\u001b[0;34m.\u001b[0m\u001b[0msocket\u001b[0m\u001b[0;34m.\u001b[0m\u001b[0msendall\u001b[0m\u001b[0;34m(\u001b[0m\u001b[0mcommand\u001b[0m\u001b[0;34m.\u001b[0m\u001b[0mencode\u001b[0m\u001b[0;34m(\u001b[0m\u001b[0;34m'utf-8'\u001b[0m\u001b[0;34m)\u001b[0m\u001b[0;34m)\u001b[0m\u001b[0;34m\u001b[0m\u001b[0m\n\u001b[0;32m--> 473\u001b[0;31m             \u001b[0manswer\u001b[0m \u001b[0;34m=\u001b[0m \u001b[0msmart_decode\u001b[0m\u001b[0;34m(\u001b[0m\u001b[0mself\u001b[0m\u001b[0;34m.\u001b[0m\u001b[0mstream\u001b[0m\u001b[0;34m.\u001b[0m\u001b[0mreadline\u001b[0m\u001b[0;34m(\u001b[0m\u001b[0;34m)\u001b[0m\u001b[0;34m[\u001b[0m\u001b[0;34m:\u001b[0m\u001b[0;34m-\u001b[0m\u001b[0;36m1\u001b[0m\u001b[0;34m]\u001b[0m\u001b[0;34m)\u001b[0m\u001b[0;34m\u001b[0m\u001b[0m\n\u001b[0m\u001b[1;32m    474\u001b[0m             \u001b[0mlogger\u001b[0m\u001b[0;34m.\u001b[0m\u001b[0mdebug\u001b[0m\u001b[0;34m(\u001b[0m\u001b[0;34m\"Answer received: {0}\"\u001b[0m\u001b[0;34m.\u001b[0m\u001b[0mformat\u001b[0m\u001b[0;34m(\u001b[0m\u001b[0manswer\u001b[0m\u001b[0;34m)\u001b[0m\u001b[0;34m)\u001b[0m\u001b[0;34m\u001b[0m\u001b[0m\n\u001b[1;32m    475\u001b[0m             \u001b[0;31m# Happens when a the other end is dead. There might be an empty\u001b[0m\u001b[0;34m\u001b[0m\u001b[0;34m\u001b[0m\u001b[0m\n",
      "\u001b[0;32m/usr/lib/python2.7/socket.pyc\u001b[0m in \u001b[0;36mreadline\u001b[0;34m(self, size)\u001b[0m\n\u001b[1;32m    428\u001b[0m                     \u001b[0;32mtry\u001b[0m\u001b[0;34m:\u001b[0m\u001b[0;34m\u001b[0m\u001b[0m\n\u001b[1;32m    429\u001b[0m                         \u001b[0;32mwhile\u001b[0m \u001b[0mdata\u001b[0m \u001b[0;34m!=\u001b[0m \u001b[0;34m\"\\n\"\u001b[0m\u001b[0;34m:\u001b[0m\u001b[0;34m\u001b[0m\u001b[0m\n\u001b[0;32m--> 430\u001b[0;31m                             \u001b[0mdata\u001b[0m \u001b[0;34m=\u001b[0m \u001b[0mrecv\u001b[0m\u001b[0;34m(\u001b[0m\u001b[0;36m1\u001b[0m\u001b[0;34m)\u001b[0m\u001b[0;34m\u001b[0m\u001b[0m\n\u001b[0m\u001b[1;32m    431\u001b[0m                             \u001b[0;32mif\u001b[0m \u001b[0;32mnot\u001b[0m \u001b[0mdata\u001b[0m\u001b[0;34m:\u001b[0m\u001b[0;34m\u001b[0m\u001b[0m\n\u001b[1;32m    432\u001b[0m                                 \u001b[0;32mbreak\u001b[0m\u001b[0;34m\u001b[0m\u001b[0m\n",
      "\u001b[0;31mKeyboardInterrupt\u001b[0m: "
     ]
    }
   ],
   "source": [
    "# список пользователей\n",
    "user_list = user_marks.map(lambda x: x[0]).distinct().collect()\n",
    "\n",
    "# список фильмов\n",
    "film_list = film_data.map(lambda x: x[0]).collect()\n",
    "\n",
    "# косинус для двух фильмов\n",
    "def cos(film_1, film_2):\n",
    "    s1 = 0\n",
    "    s2 = 0\n",
    "    s3 = 0\n",
    "    for u in user_list:\n",
    "        r_u1 = rating_dict.get(film_1,{}).get(u, 0)\n",
    "        r_u2 = rating_dict.get(film_2,{}).get(u, 0)\n",
    "        b_u1 = average_rating_br.value + bu_dict_br.value.get(u) + bi_dict_br.value.get(film_1)\n",
    "        b_u2 = average_rating_br.value + bu_dict_br.value.get(u) + bi_dict_br.value.get(film_2)\n",
    "        s1 += (r_u1 - b_u1) * (r_u2 - b_u2)\n",
    "        s2 += (r_u1 - b_u1) ** 2\n",
    "        s3 += (r_u2 - b_u2) ** 2\n",
    "    \n",
    "    if s2 == 0 or s3 == 0:\n",
    "        return (film_1, film_2, 0)\n",
    "    return (film_1, film_2, round(float(s1) / (sqrt(s2) * sqrt(s3)), 4))\n",
    "\n",
    "def cos_f(film):\n",
    "    for f in film_list:\n",
    "        _r.append(cos(film, f))\n",
    "    return _r"
   ]
  },
  {
   "cell_type": "code",
   "execution_count": 132,
   "metadata": {
    "collapsed": false
   },
   "outputs": [
    {
     "ename": "KeyboardInterrupt",
     "evalue": "",
     "output_type": "error",
     "traceback": [
      "\u001b[0;31m---------------------------------------------------------------------------\u001b[0m\n\u001b[0;31mKeyboardInterrupt\u001b[0m                         Traceback (most recent call last)",
      "\u001b[0;32m<ipython-input-132-87504f353936>\u001b[0m in \u001b[0;36m<module>\u001b[0;34m()\u001b[0m\n\u001b[1;32m      1\u001b[0m \u001b[0mcos_rdd\u001b[0m \u001b[0;34m=\u001b[0m \u001b[0mfilm_data\u001b[0m\u001b[0;34m.\u001b[0m\u001b[0mmap\u001b[0m\u001b[0;34m(\u001b[0m\u001b[0;32mlambda\u001b[0m \u001b[0mx\u001b[0m\u001b[0;34m:\u001b[0m \u001b[0mcos_f\u001b[0m\u001b[0;34m(\u001b[0m\u001b[0mx\u001b[0m\u001b[0;34m[\u001b[0m\u001b[0;36m0\u001b[0m\u001b[0;34m]\u001b[0m\u001b[0;34m)\u001b[0m\u001b[0;34m)\u001b[0m\u001b[0;34m\u001b[0m\u001b[0m\n\u001b[0;32m----> 2\u001b[0;31m \u001b[0mcos_rdd\u001b[0m\u001b[0;34m.\u001b[0m\u001b[0mtake\u001b[0m\u001b[0;34m(\u001b[0m\u001b[0;36m2\u001b[0m\u001b[0;34m)\u001b[0m\u001b[0;34m\u001b[0m\u001b[0m\n\u001b[0m",
      "\u001b[0;32m/opt/cloudera/parcels/CDH/lib/spark/python/pyspark/rdd.py\u001b[0m in \u001b[0;36mtake\u001b[0;34m(self, num)\u001b[0m\n\u001b[1;32m   1223\u001b[0m \u001b[0;34m\u001b[0m\u001b[0m\n\u001b[1;32m   1224\u001b[0m             \u001b[0mp\u001b[0m \u001b[0;34m=\u001b[0m \u001b[0mrange\u001b[0m\u001b[0;34m(\u001b[0m\u001b[0mpartsScanned\u001b[0m\u001b[0;34m,\u001b[0m \u001b[0mmin\u001b[0m\u001b[0;34m(\u001b[0m\u001b[0mpartsScanned\u001b[0m \u001b[0;34m+\u001b[0m \u001b[0mnumPartsToTry\u001b[0m\u001b[0;34m,\u001b[0m \u001b[0mtotalParts\u001b[0m\u001b[0;34m)\u001b[0m\u001b[0;34m)\u001b[0m\u001b[0;34m\u001b[0m\u001b[0m\n\u001b[0;32m-> 1225\u001b[0;31m             \u001b[0mres\u001b[0m \u001b[0;34m=\u001b[0m \u001b[0mself\u001b[0m\u001b[0;34m.\u001b[0m\u001b[0mcontext\u001b[0m\u001b[0;34m.\u001b[0m\u001b[0mrunJob\u001b[0m\u001b[0;34m(\u001b[0m\u001b[0mself\u001b[0m\u001b[0;34m,\u001b[0m \u001b[0mtakeUpToNumLeft\u001b[0m\u001b[0;34m,\u001b[0m \u001b[0mp\u001b[0m\u001b[0;34m,\u001b[0m \u001b[0mTrue\u001b[0m\u001b[0;34m)\u001b[0m\u001b[0;34m\u001b[0m\u001b[0m\n\u001b[0m\u001b[1;32m   1226\u001b[0m \u001b[0;34m\u001b[0m\u001b[0m\n\u001b[1;32m   1227\u001b[0m             \u001b[0mitems\u001b[0m \u001b[0;34m+=\u001b[0m \u001b[0mres\u001b[0m\u001b[0;34m\u001b[0m\u001b[0m\n",
      "\u001b[0;32m/opt/cloudera/parcels/CDH/lib/spark/python/pyspark/context.py\u001b[0m in \u001b[0;36mrunJob\u001b[0;34m(self, rdd, partitionFunc, partitions, allowLocal)\u001b[0m\n\u001b[1;32m    841\u001b[0m         \u001b[0;31m# SparkContext#runJob.\u001b[0m\u001b[0;34m\u001b[0m\u001b[0;34m\u001b[0m\u001b[0m\n\u001b[1;32m    842\u001b[0m         \u001b[0mmappedRDD\u001b[0m \u001b[0;34m=\u001b[0m \u001b[0mrdd\u001b[0m\u001b[0;34m.\u001b[0m\u001b[0mmapPartitions\u001b[0m\u001b[0;34m(\u001b[0m\u001b[0mpartitionFunc\u001b[0m\u001b[0;34m)\u001b[0m\u001b[0;34m\u001b[0m\u001b[0m\n\u001b[0;32m--> 843\u001b[0;31m         \u001b[0mit\u001b[0m \u001b[0;34m=\u001b[0m \u001b[0mself\u001b[0m\u001b[0;34m.\u001b[0m\u001b[0m_jvm\u001b[0m\u001b[0;34m.\u001b[0m\u001b[0mPythonRDD\u001b[0m\u001b[0;34m.\u001b[0m\u001b[0mrunJob\u001b[0m\u001b[0;34m(\u001b[0m\u001b[0mself\u001b[0m\u001b[0;34m.\u001b[0m\u001b[0m_jsc\u001b[0m\u001b[0;34m.\u001b[0m\u001b[0msc\u001b[0m\u001b[0;34m(\u001b[0m\u001b[0;34m)\u001b[0m\u001b[0;34m,\u001b[0m \u001b[0mmappedRDD\u001b[0m\u001b[0;34m.\u001b[0m\u001b[0m_jrdd\u001b[0m\u001b[0;34m,\u001b[0m \u001b[0mjavaPartitions\u001b[0m\u001b[0;34m,\u001b[0m \u001b[0mallowLocal\u001b[0m\u001b[0;34m)\u001b[0m\u001b[0;34m\u001b[0m\u001b[0m\n\u001b[0m\u001b[1;32m    844\u001b[0m         \u001b[0;32mreturn\u001b[0m \u001b[0mlist\u001b[0m\u001b[0;34m(\u001b[0m\u001b[0mmappedRDD\u001b[0m\u001b[0;34m.\u001b[0m\u001b[0m_collect_iterator_through_file\u001b[0m\u001b[0;34m(\u001b[0m\u001b[0mit\u001b[0m\u001b[0;34m)\u001b[0m\u001b[0;34m)\u001b[0m\u001b[0;34m\u001b[0m\u001b[0m\n\u001b[1;32m    845\u001b[0m \u001b[0;34m\u001b[0m\u001b[0m\n",
      "\u001b[0;32m/opt/cloudera/parcels/CDH/lib/spark/python/lib/py4j-0.8.2.1-src.zip/py4j/java_gateway.py\u001b[0m in \u001b[0;36m__call__\u001b[0;34m(self, *args)\u001b[0m\n\u001b[1;32m    534\u001b[0m             \u001b[0mEND_COMMAND_PART\u001b[0m\u001b[0;34m\u001b[0m\u001b[0m\n\u001b[1;32m    535\u001b[0m \u001b[0;34m\u001b[0m\u001b[0m\n\u001b[0;32m--> 536\u001b[0;31m         \u001b[0manswer\u001b[0m \u001b[0;34m=\u001b[0m \u001b[0mself\u001b[0m\u001b[0;34m.\u001b[0m\u001b[0mgateway_client\u001b[0m\u001b[0;34m.\u001b[0m\u001b[0msend_command\u001b[0m\u001b[0;34m(\u001b[0m\u001b[0mcommand\u001b[0m\u001b[0;34m)\u001b[0m\u001b[0;34m\u001b[0m\u001b[0m\n\u001b[0m\u001b[1;32m    537\u001b[0m         return_value = get_return_value(answer, self.gateway_client,\n\u001b[1;32m    538\u001b[0m                 self.target_id, self.name)\n",
      "\u001b[0;32m/opt/cloudera/parcels/CDH/lib/spark/python/lib/py4j-0.8.2.1-src.zip/py4j/java_gateway.py\u001b[0m in \u001b[0;36msend_command\u001b[0;34m(self, command, retry)\u001b[0m\n\u001b[1;32m    362\u001b[0m         \u001b[0mconnection\u001b[0m \u001b[0;34m=\u001b[0m \u001b[0mself\u001b[0m\u001b[0;34m.\u001b[0m\u001b[0m_get_connection\u001b[0m\u001b[0;34m(\u001b[0m\u001b[0;34m)\u001b[0m\u001b[0;34m\u001b[0m\u001b[0m\n\u001b[1;32m    363\u001b[0m         \u001b[0;32mtry\u001b[0m\u001b[0;34m:\u001b[0m\u001b[0;34m\u001b[0m\u001b[0m\n\u001b[0;32m--> 364\u001b[0;31m             \u001b[0mresponse\u001b[0m \u001b[0;34m=\u001b[0m \u001b[0mconnection\u001b[0m\u001b[0;34m.\u001b[0m\u001b[0msend_command\u001b[0m\u001b[0;34m(\u001b[0m\u001b[0mcommand\u001b[0m\u001b[0;34m)\u001b[0m\u001b[0;34m\u001b[0m\u001b[0m\n\u001b[0m\u001b[1;32m    365\u001b[0m             \u001b[0mself\u001b[0m\u001b[0;34m.\u001b[0m\u001b[0m_give_back_connection\u001b[0m\u001b[0;34m(\u001b[0m\u001b[0mconnection\u001b[0m\u001b[0;34m)\u001b[0m\u001b[0;34m\u001b[0m\u001b[0m\n\u001b[1;32m    366\u001b[0m         \u001b[0;32mexcept\u001b[0m \u001b[0mPy4JNetworkError\u001b[0m\u001b[0;34m:\u001b[0m\u001b[0;34m\u001b[0m\u001b[0m\n",
      "\u001b[0;32m/opt/cloudera/parcels/CDH/lib/spark/python/lib/py4j-0.8.2.1-src.zip/py4j/java_gateway.py\u001b[0m in \u001b[0;36msend_command\u001b[0;34m(self, command)\u001b[0m\n\u001b[1;32m    471\u001b[0m         \u001b[0;32mtry\u001b[0m\u001b[0;34m:\u001b[0m\u001b[0;34m\u001b[0m\u001b[0m\n\u001b[1;32m    472\u001b[0m             \u001b[0mself\u001b[0m\u001b[0;34m.\u001b[0m\u001b[0msocket\u001b[0m\u001b[0;34m.\u001b[0m\u001b[0msendall\u001b[0m\u001b[0;34m(\u001b[0m\u001b[0mcommand\u001b[0m\u001b[0;34m.\u001b[0m\u001b[0mencode\u001b[0m\u001b[0;34m(\u001b[0m\u001b[0;34m'utf-8'\u001b[0m\u001b[0;34m)\u001b[0m\u001b[0;34m)\u001b[0m\u001b[0;34m\u001b[0m\u001b[0m\n\u001b[0;32m--> 473\u001b[0;31m             \u001b[0manswer\u001b[0m \u001b[0;34m=\u001b[0m \u001b[0msmart_decode\u001b[0m\u001b[0;34m(\u001b[0m\u001b[0mself\u001b[0m\u001b[0;34m.\u001b[0m\u001b[0mstream\u001b[0m\u001b[0;34m.\u001b[0m\u001b[0mreadline\u001b[0m\u001b[0;34m(\u001b[0m\u001b[0;34m)\u001b[0m\u001b[0;34m[\u001b[0m\u001b[0;34m:\u001b[0m\u001b[0;34m-\u001b[0m\u001b[0;36m1\u001b[0m\u001b[0;34m]\u001b[0m\u001b[0;34m)\u001b[0m\u001b[0;34m\u001b[0m\u001b[0m\n\u001b[0m\u001b[1;32m    474\u001b[0m             \u001b[0mlogger\u001b[0m\u001b[0;34m.\u001b[0m\u001b[0mdebug\u001b[0m\u001b[0;34m(\u001b[0m\u001b[0;34m\"Answer received: {0}\"\u001b[0m\u001b[0;34m.\u001b[0m\u001b[0mformat\u001b[0m\u001b[0;34m(\u001b[0m\u001b[0manswer\u001b[0m\u001b[0;34m)\u001b[0m\u001b[0;34m)\u001b[0m\u001b[0;34m\u001b[0m\u001b[0m\n\u001b[1;32m    475\u001b[0m             \u001b[0;31m# Happens when a the other end is dead. There might be an empty\u001b[0m\u001b[0;34m\u001b[0m\u001b[0;34m\u001b[0m\u001b[0m\n",
      "\u001b[0;32m/usr/lib/python2.7/socket.pyc\u001b[0m in \u001b[0;36mreadline\u001b[0;34m(self, size)\u001b[0m\n\u001b[1;32m    428\u001b[0m                     \u001b[0;32mtry\u001b[0m\u001b[0;34m:\u001b[0m\u001b[0;34m\u001b[0m\u001b[0m\n\u001b[1;32m    429\u001b[0m                         \u001b[0;32mwhile\u001b[0m \u001b[0mdata\u001b[0m \u001b[0;34m!=\u001b[0m \u001b[0;34m\"\\n\"\u001b[0m\u001b[0;34m:\u001b[0m\u001b[0;34m\u001b[0m\u001b[0m\n\u001b[0;32m--> 430\u001b[0;31m                             \u001b[0mdata\u001b[0m \u001b[0;34m=\u001b[0m \u001b[0mrecv\u001b[0m\u001b[0;34m(\u001b[0m\u001b[0;36m1\u001b[0m\u001b[0;34m)\u001b[0m\u001b[0;34m\u001b[0m\u001b[0m\n\u001b[0m\u001b[1;32m    431\u001b[0m                             \u001b[0;32mif\u001b[0m \u001b[0;32mnot\u001b[0m \u001b[0mdata\u001b[0m\u001b[0;34m:\u001b[0m\u001b[0;34m\u001b[0m\u001b[0m\n\u001b[1;32m    432\u001b[0m                                 \u001b[0;32mbreak\u001b[0m\u001b[0;34m\u001b[0m\u001b[0m\n",
      "\u001b[0;31mKeyboardInterrupt\u001b[0m: "
     ]
    }
   ],
   "source": [
    "cos_rdd = film_data.foreach(lambda x: cos_f(x[0]))\n",
    "cos_rdd.take(2)"
   ]
  },
  {
   "cell_type": "markdown",
   "metadata": {},
   "source": [
    "####Для каждого фильма, по которому у данного пользователя не стоит рейтинг"
   ]
  },
  {
   "cell_type": "markdown",
   "metadata": {},
   "source": [
    "####30 ближайших фильмов-соседей для этого фильма (среди всех фильмов, а не фильмов, оцененных пользователем)"
   ]
  },
  {
   "cell_type": "code",
   "execution_count": null,
   "metadata": {
    "collapsed": true
   },
   "outputs": [],
   "source": [
    "# no_rating_films_list\n",
    "neib = cos_rdd.map(lambda x: x[0] in no_rating_films_list).collect()"
   ]
  },
  {
   "cell_type": "code",
   "execution_count": null,
   "metadata": {
    "collapsed": true
   },
   "outputs": [],
   "source": []
  },
  {
   "cell_type": "code",
   "execution_count": null,
   "metadata": {
    "collapsed": true
   },
   "outputs": [],
   "source": []
  },
  {
   "cell_type": "code",
   "execution_count": 85,
   "metadata": {
    "collapsed": false
   },
   "outputs": [],
   "source": [
    "# сохраняем\n",
    "import json\n",
    "\n",
    "result = {\n",
    "    \"average_film_ratings\": average_film_ratings,\n",
    "    \"average_rating\": average_rating,\n",
    "    \"average_user_ratings\": average_user_ratings,\n",
    "    \"completeness\": completeness,\n",
    "    \"pearson_neighbours\": pearson_neighbours,\n",
    "    \"pearson_top10\": pearson_top10,\n",
    "    \"predicators_positive_top10\": [],\n",
    "    \"predicators_top10\": []\n",
    "}\n",
    "\n",
    "with open('lab11.json', 'w') as f:\n",
    "    f.write(json.dumps(result))\n",
    "    f.close()"
   ]
  },
  {
   "cell_type": "code",
   "execution_count": null,
   "metadata": {
    "collapsed": true
   },
   "outputs": [],
   "source": []
  }
 ],
 "metadata": {
  "kernelspec": {
   "display_name": "Python 2",
   "language": "python",
   "name": "python2"
  },
  "language_info": {
   "name": "python",
   "version": "2.7.6"
  }
 },
 "nbformat": 4,
 "nbformat_minor": 0
}
