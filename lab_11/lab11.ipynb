{
 "cells": [
  {
   "cell_type": "code",
   "execution_count": 1,
   "metadata": {
    "collapsed": false
   },
   "outputs": [
    {
     "name": "stdout",
     "output_type": "stream",
     "text": [
      "Welcome to\n",
      "      ____              __\n",
      "     / __/__  ___ _____/ /__\n",
      "    _\\ \\/ _ \\/ _ `/ __/  '_/\n",
      "   /__ / .__/\\_,_/_/ /_/\\_\\   version 1.3.0\n",
      "      /_/\n",
      "\n",
      "Using Python version 2.7.6 (default, Mar 22 2014 22:59:56)\n",
      "SparkContext available as sc, HiveContext available as sqlCtx.\n"
     ]
    }
   ],
   "source": [
    "import os\n",
    "execfile(os.path.join(os.environ[\"SPARK_HOME\"], 'python/pyspark/shell.py'))"
   ]
  },
  {
   "cell_type": "code",
   "execution_count": 2,
   "metadata": {
    "collapsed": true
   },
   "outputs": [],
   "source": [
    "# исходные данные \n",
    "user_id = 387"
   ]
  },
  {
   "cell_type": "code",
   "execution_count": 3,
   "metadata": {
    "collapsed": false
   },
   "outputs": [
    {
     "data": {
      "text/plain": [
       "u'196\\t242\\t3\\t881250949'"
      ]
     },
     "execution_count": 3,
     "metadata": {},
     "output_type": "execute_result"
    }
   ],
   "source": [
    "# файл с оценками\n",
    "# user id | item id | rating | timestamp\n",
    "user_marks_src = sc.textFile(\"/recsys/ml-100k/u.data\")\n",
    "user_marks_src.first()"
   ]
  },
  {
   "cell_type": "code",
   "execution_count": 4,
   "metadata": {
    "collapsed": false
   },
   "outputs": [
    {
     "data": {
      "text/plain": [
       "u'1|Toy Story (1995)|01-Jan-1995||http://us.imdb.com/M/title-exact?Toy%20Story%20(1995)|0|0|0|1|1|1|0|0|0|0|0|0|0|0|0|0|0|0|0'"
      ]
     },
     "execution_count": 4,
     "metadata": {},
     "output_type": "execute_result"
    }
   ],
   "source": [
    "# файл с фильмами\n",
    "film_data_src = sc.textFile(\"/recsys/ml-100k/u.item\")\n",
    "film_data_src.first()"
   ]
  },
  {
   "cell_type": "code",
   "execution_count": 5,
   "metadata": {
    "collapsed": false
   },
   "outputs": [
    {
     "data": {
      "text/plain": [
       "[(1, u'Toy Story (1995)'),\n",
       " (2, u'GoldenEye (1995)'),\n",
       " (3, u'Four Rooms (1995)'),\n",
       " (4, u'Get Shorty (1995)'),\n",
       " (5, u'Copycat (1995)')]"
      ]
     },
     "execution_count": 5,
     "metadata": {},
     "output_type": "execute_result"
    }
   ],
   "source": [
    "# id, name\n",
    "film_data = film_data_src.map(lambda x: (int(x.split('|')[0]), x.split('|')[1]))\n",
    "film_data.take(5)"
   ]
  },
  {
   "cell_type": "code",
   "execution_count": 6,
   "metadata": {
    "collapsed": false
   },
   "outputs": [
    {
     "data": {
      "text/plain": [
       "[196, 242, 3, 881250949]"
      ]
     },
     "execution_count": 6,
     "metadata": {},
     "output_type": "execute_result"
    }
   ],
   "source": [
    "# user id | item id | rating | timestamp\n",
    "user_marks = user_marks_src.map(lambda x: [int(i) for i in x.split('\\t')])\n",
    "user_marks.first()"
   ]
  },
  {
   "cell_type": "markdown",
   "metadata": {},
   "source": [
    "##Часть1. Найдем основные характеристики данных movielens"
   ]
  },
  {
   "cell_type": "markdown",
   "metadata": {},
   "source": [
    "####Количество всех пользователей и количество всех фильмов в данных"
   ]
  },
  {
   "cell_type": "code",
   "execution_count": 7,
   "metadata": {
    "collapsed": false
   },
   "outputs": [
    {
     "name": "stdout",
     "output_type": "stream",
     "text": [
      "943\n"
     ]
    }
   ],
   "source": [
    "# общее кол-во пользователей\n",
    "user_count = user_marks.map(lambda x: x[0]).distinct().count()\n",
    "print user_count"
   ]
  },
  {
   "cell_type": "code",
   "execution_count": 8,
   "metadata": {
    "collapsed": false
   },
   "outputs": [
    {
     "name": "stdout",
     "output_type": "stream",
     "text": [
      "1682\n"
     ]
    }
   ],
   "source": [
    "# кол-во фильмов\n",
    "film_count = film_data.count()\n",
    "print film_count"
   ]
  },
  {
   "cell_type": "markdown",
   "metadata": {},
   "source": [
    "####Сколько пользователь в среднем ставит рейтингов? (количество рейтингов/количество пользователей) – average_user_ratings"
   ]
  },
  {
   "cell_type": "code",
   "execution_count": 9,
   "metadata": {
    "collapsed": false
   },
   "outputs": [
    {
     "name": "stdout",
     "output_type": "stream",
     "text": [
      "106.0445\n"
     ]
    }
   ],
   "source": [
    "average_user_ratings = round(float(user_marks.count()) / user_count, 4)\n",
    "print average_user_ratings"
   ]
  },
  {
   "cell_type": "markdown",
   "metadata": {},
   "source": [
    "####Сколько фильм в среднем имеет рейтингов (количество рейтингов/количество фильмов)? – average_film_ratings"
   ]
  },
  {
   "cell_type": "code",
   "execution_count": 10,
   "metadata": {
    "collapsed": false
   },
   "outputs": [
    {
     "name": "stdout",
     "output_type": "stream",
     "text": [
      "59.453\n"
     ]
    }
   ],
   "source": [
    "average_film_ratings = round(float(user_marks.count()) / film_count, 4)\n",
    "print average_film_ratings"
   ]
  },
  {
   "cell_type": "markdown",
   "metadata": {},
   "source": [
    "####Процент заполненных ячеек в данных (количество рейтингов/(количество пользователей*количество фильмов)) – completeness"
   ]
  },
  {
   "cell_type": "code",
   "execution_count": 11,
   "metadata": {
    "collapsed": false
   },
   "outputs": [
    {
     "name": "stdout",
     "output_type": "stream",
     "text": [
      "0.063\n"
     ]
    }
   ],
   "source": [
    "completeness = round(float(user_marks.count()) / (user_count*film_count), 4)\n",
    "print completeness"
   ]
  },
  {
   "cell_type": "markdown",
   "metadata": {},
   "source": [
    "##Часть 2. User-user CF"
   ]
  },
  {
   "cell_type": "markdown",
   "metadata": {},
   "source": [
    "####Средний рейтинг для каждого пользователя"
   ]
  },
  {
   "cell_type": "code",
   "execution_count": 12,
   "metadata": {
    "collapsed": false
   },
   "outputs": [
    {
     "data": {
      "text/plain": [
       "[(2, 62), (4, 24), (6, 211)]"
      ]
     },
     "execution_count": 12,
     "metadata": {},
     "output_type": "execute_result"
    }
   ],
   "source": [
    "from operator import add, itemgetter\n",
    "user_ratings_counts = user_marks.map(lambda x: (x[0], 1)).reduceByKey(add)\n",
    "user_ratings_counts.take(3)"
   ]
  },
  {
   "cell_type": "code",
   "execution_count": 13,
   "metadata": {
    "collapsed": false
   },
   "outputs": [
    {
     "data": {
      "text/plain": [
       "[(2, 230), (4, 104), (6, 767)]"
      ]
     },
     "execution_count": 13,
     "metadata": {},
     "output_type": "execute_result"
    }
   ],
   "source": [
    "user_ratings_sum = user_marks.map(lambda x: (x[0], x[2])).reduceByKey(add)\n",
    "user_ratings_sum.take(3)"
   ]
  },
  {
   "cell_type": "code",
   "execution_count": 14,
   "metadata": {
    "collapsed": false
   },
   "outputs": [
    {
     "data": {
      "text/plain": [
       "[(2, 3.7097), (4, 4.3333), (6, 3.6351)]"
      ]
     },
     "execution_count": 14,
     "metadata": {},
     "output_type": "execute_result"
    }
   ],
   "source": [
    "user_avg = user_ratings_sum.join(user_ratings_counts).map(lambda x: (x[0], round(float(x[1][0]) / x[1][1], 4)))\n",
    "user_avg.take(3)"
   ]
  },
  {
   "cell_type": "markdown",
   "metadata": {
    "collapsed": false
   },
   "source": [
    "####Корреляция Пирсона"
   ]
  },
  {
   "cell_type": "code",
   "execution_count": 15,
   "metadata": {
    "collapsed": false
   },
   "outputs": [
    {
     "name": "stdout",
     "output_type": "stream",
     "text": [
      "3.3618\n"
     ]
    }
   ],
   "source": [
    "# средняя оценка моего юзера\n",
    "my_user_avg = user_avg.filter(lambda x: x[0] == user_id).collect()[0][1]\n",
    "print my_user_avg"
   ]
  },
  {
   "cell_type": "code",
   "execution_count": 16,
   "metadata": {
    "collapsed": false
   },
   "outputs": [
    {
     "data": {
      "text/plain": [
       "304"
      ]
     },
     "execution_count": 16,
     "metadata": {},
     "output_type": "execute_result"
    }
   ],
   "source": [
    "# film_id, rating\n",
    "my_user_marks = user_marks.filter(lambda x: x[0] == user_id).map(lambda x: (x[1], x[2]))\n",
    "my_user_marks.count()"
   ]
  },
  {
   "cell_type": "code",
   "execution_count": 17,
   "metadata": {
    "collapsed": true
   },
   "outputs": [],
   "source": [
    "# общие фильмы и оценки\n",
    "# film_id, (rating, my_rating)\n",
    "def get_common_films(_uid):\n",
    "    return user_marks.filter(lambda x: x[0] == _uid).map(lambda x: (x[1], x[2])).join(my_user_marks)"
   ]
  },
  {
   "cell_type": "code",
   "execution_count": 18,
   "metadata": {
    "collapsed": false
   },
   "outputs": [
    {
     "data": {
      "text/plain": [
       "[(2, 3.7097), (4, 4.3333), (6, 3.6351)]"
      ]
     },
     "execution_count": 18,
     "metadata": {},
     "output_type": "execute_result"
    }
   ],
   "source": [
    "# средние оценки других пользователей\n",
    "other_user_avg = user_avg.filter(lambda x: x[0] is not user_id)\n",
    "other_user_avg.take(3)"
   ]
  },
  {
   "cell_type": "code",
   "execution_count": 19,
   "metadata": {
    "collapsed": false
   },
   "outputs": [
    {
     "name": "stdout",
     "output_type": "stream",
     "text": [
      "943\n"
     ]
    }
   ],
   "source": [
    "other_user_avg_array = other_user_avg.collect()\n",
    "up_list = []\n",
    "print len(other_user_avg_array)"
   ]
  },
  {
   "cell_type": "code",
   "execution_count": 20,
   "metadata": {
    "collapsed": false
   },
   "outputs": [
    {
     "name": "stdout",
     "output_type": "stream",
     "text": [
      "943\n"
     ]
    }
   ],
   "source": [
    "# сделаем broadcast-словарь со всеми средними оценками\n",
    "all_neighbour_avg = user_avg.collect()\n",
    "all_avg_dict = {}\n",
    "for _i in all_neighbour_avg:\n",
    "    all_avg_dict[_i[0]] = _i[1]\n",
    "\n",
    "all_avg_dict_br = sc.broadcast(all_avg_dict)\n",
    "print len(all_avg_dict_br.value)"
   ]
  },
  {
   "cell_type": "code",
   "execution_count": null,
   "metadata": {
    "collapsed": true
   },
   "outputs": [],
   "source": []
  },
  {
   "cell_type": "code",
   "execution_count": 21,
   "metadata": {
    "collapsed": false
   },
   "outputs": [],
   "source": [
    "from math import sqrt\n",
    "import cPickle\n",
    "from pyspark.mllib.stat import Statistics\n",
    "\n",
    "def per(film_item):\n",
    "    global sum1\n",
    "    global sum2\n",
    "    global sum3\n",
    "    user_film_rating = film_item[1][0]\n",
    "    my_film_rating = film_item[1][1]\n",
    "    sum1 += (my_film_rating - my_user_avg_br.value) * (user_film_rating - user_avg_rating_br.value)\n",
    "    sum2 += (my_film_rating - my_user_avg_br.value) ** 2\n",
    "    sum3 += (user_film_rating - user_avg_rating_br.value) ** 2\n",
    "\n",
    "result = []\n",
    "\n",
    "with open('pearson_2.picle', \"r\") as _dump:\n",
    "    result = cPickle.load(_dump)\n",
    "    \n",
    "if len(result) == 0:    \n",
    "    \n",
    "    # идем по всем средним оценкам пользователей\n",
    "    __c = 0\n",
    "    for _item in other_user_avg_array:\n",
    "\n",
    "        __c += 1\n",
    "\n",
    "        # пользователь\n",
    "        uid = _item[0]\n",
    "\n",
    "        # Общие фильмы с моим пользователем\n",
    "        common_films = get_common_films(uid)\n",
    "\n",
    "        # средние оценки по общим фильмам\n",
    "        common_films_count = common_films.count()\n",
    "    #     my_avg = common_films.map(lambda x: (1, x[1][1])).reduceByKey(add).collect()[0][1]\n",
    "    #     my_avg = round(float(my_avg) / common_films_count, 4)\n",
    "        my_avg = my_user_avg\n",
    "\n",
    "    #     u_avg = common_films.map(lambda x: (1, x[1][0])).reduceByKey(add).collect()[0][1]\n",
    "    #     u_avg = round(float(u_avg) / common_films_count, 4)\n",
    "        u_avg = all_avg_dict.get(uid)\n",
    "\n",
    "        # руками 1\n",
    "        sum1 = sc.accumulator(0)\n",
    "        sum2 = sc.accumulator(0)\n",
    "        sum3 = sc.accumulator(0)\n",
    "\n",
    "        my_user_avg_br = sc.broadcast(my_avg)\n",
    "        user_avg_rating_br = sc.broadcast(u_avg)\n",
    "\n",
    "        common_films.foreach(per)\n",
    "        if sum2.value == 0 or sum3.value == 0:\n",
    "            pears = 0\n",
    "        else:        \n",
    "            pears = round(float(sum1.value) / (sqrt(sum2.value) * sqrt(sum3.value)), 4)\n",
    "\n",
    "        _k = min(round(float(common_films_count)/50, 4), 1)\n",
    "        new_pears = round(_k * pears, 4)\n",
    "\n",
    "        res = (uid, pears, new_pears)\n",
    "        result.append(res)\n",
    "\n",
    "        if __c % 100 == 0:\n",
    "            print __c * 100 / len(other_user_avg_array)\n",
    "    \n",
    "        \n",
    "        with open('pearson_2.picle', \"w\") as _dump:\n",
    "            cPickle.dump(result, _dump, cPickle.HIGHEST_PROTOCOL)"
   ]
  },
  {
   "cell_type": "code",
   "execution_count": 22,
   "metadata": {
    "collapsed": false
   },
   "outputs": [
    {
     "name": "stdout",
     "output_type": "stream",
     "text": [
      "[267, 397, 776, 177, 367, 118, 854, 486, 77, 442, 41, 457, 339, 833, 323, 622, 21, 23, 94, 158, 766, 49, 875, 566, 297, 933, 425, 7, 781, 868]\n"
     ]
    }
   ],
   "source": [
    "sorted_result = sorted(result, key=itemgetter(2), reverse=True)\n",
    "sorted_result_30 =  sorted_result[1:31]\n",
    "pearson_neighbours = map(lambda x: x[0], sorted_result_30)\n",
    "print pearson_neighbours"
   ]
  },
  {
   "cell_type": "markdown",
   "metadata": {},
   "source": [
    "#### Прогноз оценок"
   ]
  },
  {
   "cell_type": "code",
   "execution_count": 23,
   "metadata": {
    "collapsed": false
   },
   "outputs": [
    {
     "name": "stdout",
     "output_type": "stream",
     "text": [
      "1378\n"
     ]
    }
   ],
   "source": [
    "# фильмы, которые оценил\n",
    "my_user_films_list = my_user_marks.map(lambda x: x[0]).collect()\n",
    "\n",
    "# фильмы которые не оценил\n",
    "no_rating_films = film_data.filter(lambda x: x[0] not in my_user_films_list)\n",
    "no_rating_films_list = no_rating_films.map(lambda x: x[0]).collect()\n",
    "print len(no_rating_films_list)"
   ]
  },
  {
   "cell_type": "code",
   "execution_count": 24,
   "metadata": {
    "collapsed": false
   },
   "outputs": [
    {
     "data": {
      "text/plain": [
       "[(242, (196, 3)), (302, (186, 3)), (377, (22, 1))]"
      ]
     },
     "execution_count": 24,
     "metadata": {},
     "output_type": "execute_result"
    }
   ],
   "source": [
    "# найдем оценки соседей для моих неоцененных фильмов\n",
    "no_rating_films_neighbour_rating = user_marks\\\n",
    "    .filter(lambda x: x[1] in no_rating_films_list)\\\n",
    "    .map(lambda x: (x[1], (x[0], x[2])))\n",
    "\n",
    "no_rating_films_neighbour_rating.take(3)"
   ]
  },
  {
   "cell_type": "code",
   "execution_count": 25,
   "metadata": {
    "collapsed": false
   },
   "outputs": [
    {
     "name": "stdout",
     "output_type": "stream",
     "text": [
      "1378\n"
     ]
    }
   ],
   "source": [
    "# сделаем broadcast-словарь с оценками пользователей фильмов, которые нам интересны\n",
    "neighbour_rating = no_rating_films_neighbour_rating\\\n",
    "    .groupByKey()\\\n",
    "    .map(lambda x : (x[0], list(x[1])))\\\n",
    "    .collect()\n",
    "    \n",
    "rating_dict = {}\n",
    "for films_r in neighbour_rating:\n",
    "    f_id = films_r[0]\n",
    "    rating_dict[f_id] = {}\n",
    "    for user_r in films_r[1]:\n",
    "        u_id = user_r[0]\n",
    "        rating_dict[f_id][u_id] = user_r[1]\n",
    "        \n",
    "\n",
    "rating_dict_br = sc.broadcast(rating_dict)        \n",
    "print len(rating_dict_br.value)"
   ]
  },
  {
   "cell_type": "code",
   "execution_count": 26,
   "metadata": {
    "collapsed": false
   },
   "outputs": [
    {
     "name": "stdout",
     "output_type": "stream",
     "text": [
      "{7: 3.9653, 776: 3.4667, 267: 3.9351, 781: 3.7857, 21: 2.6704, 23: 3.6358, 158: 3.8035, 933: 2.6467, 49: 2.6837, 425: 2.9559, 177: 3.6174, 566: 3.443, 442: 3.1259, 833: 3.0562, 323: 3.618, 457: 4.0253, 77: 3.6111, 397: 3.7059, 339: 4.0039, 854: 3.212, 297: 3.4375, 94: 3.6575, 868: 2.9519, 486: 3.2222, 875: 4.191, 622: 3.3904, 367: 4.1552, 118: 4.662, 41: 3.7692, 766: 3.3543}\n"
     ]
    }
   ],
   "source": [
    "# сделаем broadcast-словарь со средними оценками\n",
    "neighbour_avg = user_avg.filter(lambda x: x[0] in pearson_neighbours).collect()\n",
    "avg_dict = {}\n",
    "for _i in neighbour_avg:\n",
    "    avg_dict[_i[0]] = _i[1]\n",
    "\n",
    "avg_dict_br = sc.broadcast(avg_dict)\n",
    "print avg_dict_br.value"
   ]
  },
  {
   "cell_type": "code",
   "execution_count": 27,
   "metadata": {
    "collapsed": true
   },
   "outputs": [],
   "source": [
    "def prabably_rating(film_id):\n",
    "    s1 = 0\n",
    "    s2 = 0\n",
    "    # идем по всем соседям\n",
    "    for neighbour in sorted_result_30:\n",
    "        uid = neighbour[0]\n",
    "        p = neighbour[2]\n",
    "        # надо найти оценку пользователя, его среднюю оценку\n",
    "        user_rating = rating_dict_br.value.get(film_id, {}).get(uid, None)\n",
    "        \n",
    "        if user_rating is None:\n",
    "            continue\n",
    "        \n",
    "        user_avg_rating = avg_dict_br.value.get(uid)\n",
    "        \n",
    "        s1 += p * (user_rating - user_avg_rating)\n",
    "        s2 += abs(p)\n",
    "    if s2 == 0:\n",
    "        return (film_id, my_user_avg)\n",
    "    return (film_id, round(my_user_avg + (float(s1) / s2), 4))"
   ]
  },
  {
   "cell_type": "code",
   "execution_count": 28,
   "metadata": {
    "collapsed": false
   },
   "outputs": [
    {
     "data": {
      "text/plain": [
       "[(3, u'Four Rooms (1995)'),\n",
       " (5, u'Copycat (1995)'),\n",
       " (6, u'Shanghai Triad (Yao a yao yao dao waipo qiao) (1995)'),\n",
       " (9, u'Dead Man Walking (1995)')]"
      ]
     },
     "execution_count": 28,
     "metadata": {},
     "output_type": "execute_result"
    }
   ],
   "source": [
    "no_rating_films.take(4)"
   ]
  },
  {
   "cell_type": "code",
   "execution_count": 29,
   "metadata": {
    "collapsed": false
   },
   "outputs": [
    {
     "data": {
      "text/plain": [
       "[(922, 5.2662),\n",
       " (671, 5.1448),\n",
       " (251, 5.1396),\n",
       " (880, 5.1396),\n",
       " (887, 5.1396),\n",
       " (1137, 5.1396),\n",
       " (1142, 5.1396),\n",
       " (1405, 5.1396),\n",
       " (1598, 5.1396),\n",
       " (165, 4.9457),\n",
       " (1193, 4.9188),\n",
       " (646, 4.765)]"
      ]
     },
     "execution_count": 29,
     "metadata": {},
     "output_type": "execute_result"
    }
   ],
   "source": [
    "res = no_rating_films.map(lambda x: x[0]).map(prabably_rating).sortBy(lambda x: -x[1])\n",
    "res.take(12)"
   ]
  },
  {
   "cell_type": "code",
   "execution_count": 30,
   "metadata": {
    "collapsed": false
   },
   "outputs": [
    {
     "data": {
      "text/plain": [
       "[922, 671, 251, 880, 887, 1137, 1142, 1405, 1598, 165]"
      ]
     },
     "execution_count": 30,
     "metadata": {},
     "output_type": "execute_result"
    }
   ],
   "source": [
    "pearson_top10 = res.map(lambda x: x[0]). take(10)\n",
    "pearson_top10"
   ]
  },
  {
   "cell_type": "markdown",
   "metadata": {},
   "source": [
    "##Часть 3. Базовые предикторы"
   ]
  },
  {
   "cell_type": "markdown",
   "metadata": {},
   "source": [
    "####Глобальное среднее (average_rating) по всему датасету"
   ]
  },
  {
   "cell_type": "code",
   "execution_count": 31,
   "metadata": {
    "collapsed": false
   },
   "outputs": [
    {
     "name": "stdout",
     "output_type": "stream",
     "text": [
      "3.5299\n"
     ]
    }
   ],
   "source": [
    "average_rating_s = float(user_marks.map(lambda x: x[2]).sum()) / user_marks.map(lambda x: 1).sum()\n",
    "average_rating = round(average_rating_s, 4)\n",
    "print average_rating"
   ]
  },
  {
   "cell_type": "markdown",
   "metadata": {},
   "source": [
    "####Базовый предиктор для всех пользователей"
   ]
  },
  {
   "cell_type": "code",
   "execution_count": 32,
   "metadata": {
    "collapsed": false
   },
   "outputs": [
    {
     "data": {
      "text/plain": [
       "[(2, (11.146200000000006, 62)),\n",
       " (4, (19.282400000000003, 24)),\n",
       " (6, (22.191099999999928, 211)),\n",
       " (8, (15.735899999999987, 59))]"
      ]
     },
     "execution_count": 32,
     "metadata": {},
     "output_type": "execute_result"
    }
   ],
   "source": [
    "average_rating_br = sc.broadcast(average_rating)\n",
    "# пользователь (сумма, кол-во оценок)\n",
    "pre_marks = user_marks\\\n",
    "    .map(lambda x: (x[0], (x[2] - average_rating_br.value, 1)))\\\n",
    "    .reduceByKey(lambda a, b: (a[0]+b[0], a[1]+b[1]))\n",
    "\n",
    "pre_marks.take(4)"
   ]
  },
  {
   "cell_type": "code",
   "execution_count": 33,
   "metadata": {
    "collapsed": false
   },
   "outputs": [
    {
     "name": "stdout",
     "output_type": "stream",
     "text": [
      "[(2, 0.1548), (4, 0.5671), (6, 0.1004)] 943\n"
     ]
    }
   ],
   "source": [
    "bu_rdd = pre_marks.map(lambda x: (x[0], round(1.0/(10 + x[1][1]) * x[1][0], 4)))\n",
    "print bu_rdd.take(3), bu_rdd.count()"
   ]
  },
  {
   "cell_type": "markdown",
   "metadata": {},
   "source": [
    "####Базовый предиктор для всех фильмов"
   ]
  },
  {
   "cell_type": "code",
   "execution_count": 34,
   "metadata": {
    "collapsed": false
   },
   "outputs": [],
   "source": [
    "bu = bu_rdd.collect()\n",
    "bu_dict = {}\n",
    "for _b in bu:\n",
    "    bu_dict[_b[0]] = _b[1]\n",
    "\n",
    "bu_dict_br = sc.broadcast(bu_dict)"
   ]
  },
  {
   "cell_type": "code",
   "execution_count": 35,
   "metadata": {
    "collapsed": false
   },
   "outputs": [
    {
     "data": {
      "text/plain": [
       "[(2, (-33.23320000000001, 131)),\n",
       " (4, (-4.659500000000008, 209)),\n",
       " (6, (2.9346999999999994, 26))]"
      ]
     },
     "execution_count": 35,
     "metadata": {},
     "output_type": "execute_result"
    }
   ],
   "source": [
    "# фильм (сумма, кол-во пользователей)\n",
    "pre_marks_2 = user_marks\\\n",
    "    .map(lambda x: (x[1], (x[2] - average_rating_br.value - bu_dict_br.value.get(x[0]), 1)))\\\n",
    "    .reduceByKey(lambda a, b: (a[0]+b[0], a[1]+b[1]))\n",
    "\n",
    "pre_marks_2.take(3)"
   ]
  },
  {
   "cell_type": "code",
   "execution_count": 36,
   "metadata": {
    "collapsed": false
   },
   "outputs": [
    {
     "name": "stdout",
     "output_type": "stream",
     "text": [
      "[(2, -0.213), (4, -0.0199), (6, 0.0575)] 1682\n"
     ]
    }
   ],
   "source": [
    "bi_rdd = pre_marks_2.map(lambda x: (x[0], round(1.0/(25 + x[1][1]) * x[1][0], 4)))\n",
    "print bi_rdd.take(3), bi_rdd.count()"
   ]
  },
  {
   "cell_type": "code",
   "execution_count": 37,
   "metadata": {
    "collapsed": true
   },
   "outputs": [],
   "source": [
    "bi = bi_rdd.collect()\n",
    "bi_dict = {}\n",
    "for _b in bi:\n",
    "    bi_dict[_b[0]] = _b[1]\n",
    "\n",
    "bi_dict_br = sc.broadcast(bi_dict)"
   ]
  },
  {
   "cell_type": "markdown",
   "metadata": {},
   "source": [
    "##Часть 4. Item-item CF"
   ]
  },
  {
   "cell_type": "markdown",
   "metadata": {},
   "source": [
    "#### Cделаем табличку с рейтингами"
   ]
  },
  {
   "cell_type": "code",
   "execution_count": 38,
   "metadata": {
    "collapsed": false
   },
   "outputs": [
    {
     "data": {
      "text/plain": [
       "[(196, 242, -0.9886), (186, 302, -1.0289), (22, 377, -1.9717)]"
      ]
     },
     "execution_count": 38,
     "metadata": {},
     "output_type": "execute_result"
    }
   ],
   "source": [
    "# из пользовательских оценок вычтем предикторы\n",
    "new_user_marks = user_marks\\\n",
    "    .map(\n",
    "        lambda x: (x[0], x[1], \n",
    "                   round(x[2] - average_rating_br.value - bi_dict_br.value.get(x[1]) - bu_dict_br.value.get(x[0]), 4)\n",
    "                  )\n",
    "    )\n",
    "new_user_marks.take(3)"
   ]
  },
  {
   "cell_type": "code",
   "execution_count": 39,
   "metadata": {
    "collapsed": true
   },
   "outputs": [],
   "source": [
    "new_user_marks_list = new_user_marks.collect()"
   ]
  },
  {
   "cell_type": "code",
   "execution_count": 40,
   "metadata": {
    "collapsed": false
   },
   "outputs": [
    {
     "data": {
      "text/plain": [
       "-0.9886"
      ]
     },
     "execution_count": 40,
     "metadata": {},
     "output_type": "execute_result"
    }
   ],
   "source": [
    "from collections import defaultdict\n",
    "rating_dict = defaultdict(dict)\n",
    "for _i in new_user_marks_list:\n",
    "    _uid = _i[0]\n",
    "    _fid = _i[1]\n",
    "    _r = _i[2]\n",
    "    rating_dict[_fid][_uid] = _r\n",
    "\n",
    "rating_dict[242][196]"
   ]
  },
  {
   "cell_type": "code",
   "execution_count": 45,
   "metadata": {
    "collapsed": false
   },
   "outputs": [],
   "source": [
    "from pyspark.sql import Row\n",
    "\n",
    "# список пользователей\n",
    "user_list = user_marks.map(lambda x: x[0]).distinct().collect()\n",
    "\n",
    "# список фильмов\n",
    "film_list = film_data.map(lambda x: x[0]).collect()\n",
    "\n",
    "user_list_br = sc.broadcast(user_list)\n",
    "\n",
    "rd_br = sc.broadcast(rating_dict)\n",
    "\n",
    "# косинус для двух фильмов\n",
    "def cos(film_1, film_2):\n",
    "    s1 = 0\n",
    "    s2 = 0\n",
    "    s3 = 0\n",
    "    for u in user_list_br.value:\n",
    "        r_u1 = rd_br.value.get(film_1,{}).get(u, 0)\n",
    "        r_u2 = rd_br.value.get(film_2,{}).get(u, 0)\n",
    "#         b_u1 = average_rating_br.value + bu_dict_br.value.get(u) + bi_dict_br.value.get(film_1)\n",
    "#         b_u2 = average_rating_br.value + bu_dict_br.value.get(u) + bi_dict_br.value.get(film_2)\n",
    "#         s1 += (r_u1 - b_u1) * (r_u2 - b_u2)\n",
    "#         s2 += (r_u1 - b_u1) ** 2\n",
    "#         s3 += (r_u2 - b_u2) ** 2\n",
    "        s1 += r_u1 * r_u2\n",
    "        s2 += (r_u1) ** 2\n",
    "        s3 += (r_u2) ** 2\n",
    "    \n",
    "    if s2 == 0 or s3 == 0:\n",
    "        return 0\n",
    "    \n",
    "    return round(float(s1) / (sqrt(s2) * sqrt(s3)), 4)\n",
    "\n",
    "def cos_f(film):\n",
    "    _r = {}\n",
    "    for f in film_list:\n",
    "        _r[f] = cos(film, f)\n",
    "    return _r\n",
    "\n",
    "def cos_f_2(film):\n",
    "    _r = {}\n",
    "    _rdd = film_data.map(lambda x: {x[0]: cos(film, x[0])})\n",
    "    _local = _rdd.collect()\n",
    "    return _local"
   ]
  },
  {
   "cell_type": "code",
   "execution_count": 47,
   "metadata": {
    "collapsed": false
   },
   "outputs": [
    {
     "name": "stdout",
     "output_type": "stream",
     "text": [
      "2\n",
      "5\n",
      "8\n",
      "11\n",
      "14\n",
      "17\n",
      "20\n",
      "23\n",
      "26\n",
      "29\n",
      "32\n",
      "35\n",
      "38\n",
      "41\n",
      "44\n",
      "47\n",
      "50\n",
      "53\n",
      "56\n",
      "59\n",
      "62\n",
      "65\n",
      "68\n",
      "71\n",
      "74\n",
      "77\n",
      "80\n",
      "83\n",
      "86\n",
      "89\n",
      "92\n",
      "95\n",
      "98\n"
     ]
    }
   ],
   "source": [
    "cos_dict = {}\n",
    "\n",
    "with open('cos_dict.picle', \"r\") as _dump:\n",
    "    cos_dict = cPickle.load(_dump)\n",
    "\n",
    "\n",
    "if len(cos_dict) == 0:\n",
    "    r = {}\n",
    "    _counter = 0\n",
    "    for fid in film_list:\n",
    "        r[fid] = cos_f_2(fid)\n",
    "        _counter += 1\n",
    "        if _counter % 50 == 0:\n",
    "            print _counter * 100 / len(film_list)\n",
    "\n",
    "    # немного модифицируем\n",
    "    for fid, values in r.iteritems():\n",
    "        cos_dict[fid] = {}\n",
    "        for _cos in values:\n",
    "            f = _cos.keys()[0]\n",
    "            v = _cos.values()[0]\n",
    "            cos_dict[fid][f] = v\n",
    "\n",
    "    with open('cos_dict.picle', \"w\") as _dump:\n",
    "        cPickle.dump(cos_dict, _dump, cPickle.HIGHEST_PROTOCOL)"
   ]
  },
  {
   "cell_type": "code",
   "execution_count": 65,
   "metadata": {
    "collapsed": false
   },
   "outputs": [
    {
     "data": {
      "text/plain": [
       "<pyspark.sql.context.HiveContext at 0x7f641c8cad90>"
      ]
     },
     "execution_count": 65,
     "metadata": {},
     "output_type": "execute_result"
    }
   ],
   "source": [
    "sqlCtx"
   ]
  },
  {
   "cell_type": "markdown",
   "metadata": {},
   "source": [
    "####Для каждого фильма, по которому у данного пользователя не стоит рейтинг"
   ]
  },
  {
   "cell_type": "markdown",
   "metadata": {},
   "source": [
    "####30 ближайших фильмов-соседей для этого фильма (среди всех фильмов, а не фильмов, оцененных пользователем)"
   ]
  },
  {
   "cell_type": "code",
   "execution_count": 84,
   "metadata": {
    "collapsed": false
   },
   "outputs": [],
   "source": [
    "cos_dict_br = sc.broadcast(cos_dict)\n",
    "\n",
    "def get_similar_films(fid):\n",
    "    cos = cos_dict_br.value.get(fid, {})\n",
    "    sorted_cos = sorted(cos.items(), key=itemgetter(1), reverse=True)\n",
    "    sorted_cos_list = [x[0] for x in sorted_cos[1:31]]\n",
    "    return sorted_cos_list"
   ]
  },
  {
   "cell_type": "code",
   "execution_count": 85,
   "metadata": {
    "collapsed": false
   },
   "outputs": [],
   "source": [
    "# 30 ближайших фильмов\n",
    "neib = no_rating_films.map(lambda x: {x[0]: get_similar_films(x[0])})\n",
    "neib_local = neib.collect()"
   ]
  },
  {
   "cell_type": "code",
   "execution_count": 88,
   "metadata": {
    "collapsed": false
   },
   "outputs": [
    {
     "data": {
      "text/plain": [
       "[1230,\n",
       " 409,\n",
       " 1677,\n",
       " 282,\n",
       " 1231,\n",
       " 33,\n",
       " 1552,\n",
       " 783,\n",
       " 1659,\n",
       " 1660,\n",
       " 1476,\n",
       " 1443,\n",
       " 1052,\n",
       " 1477,\n",
       " 67,\n",
       " 1408,\n",
       " 952,\n",
       " 559,\n",
       " 1652,\n",
       " 860,\n",
       " 41,\n",
       " 388,\n",
       " 421,\n",
       " 554,\n",
       " 161,\n",
       " 1058,\n",
       " 628,\n",
       " 1518,\n",
       " 998,\n",
       " 552]"
      ]
     },
     "execution_count": 88,
     "metadata": {},
     "output_type": "execute_result"
    }
   ],
   "source": [
    "neib_local_dict = {}\n",
    "for _i in neib_local:\n",
    "    neib_local_dict[_i.keys()[0]] = _i.values()[0]\n",
    "    \n",
    "neib_local_dict[3]"
   ]
  },
  {
   "cell_type": "markdown",
   "metadata": {
    "collapsed": true
   },
   "source": [
    "####прогноз оценки пользователя по формуле"
   ]
  },
  {
   "cell_type": "code",
   "execution_count": 102,
   "metadata": {
    "collapsed": false
   },
   "outputs": [],
   "source": [
    "def prabably_rating_2(film_id, user_id, only_positive=False):\n",
    "    # первое слагаемое\n",
    "    b_ui = average_rating_br.value + bi_dict_br.value.get(film_id) + bu_dict_br.value.get(user_id)\n",
    "    \n",
    "    # соседи фильма\n",
    "    film_neib = neib_local_dict.get(film_id, [])\n",
    "    \n",
    "    # найдем множество фильмов соседей, по которым у пользователя есть оценка\n",
    "    neib_ratings = my_user_marks.filter(lambda x: x[0] in film_neib)\n",
    "    \n",
    "    # [(559, 3), (161, 1), (952, 5), (33, 3)] - [(фильм, оценка)]\n",
    "    neib_ratings_local = neib_ratings.collect()\n",
    "    \n",
    "    s1 = 0\n",
    "    s2 = 0\n",
    "    for _i in neib_ratings_local:\n",
    "        _cos = cos_dict.get(film_id, {}).get(_i[0])\n",
    "        if only_positive and _cos <= 0:\n",
    "            continue\n",
    "        b_uj = average_rating_br.value + bi_dict_br.value.get(_i[0]) + bu_dict_br.value.get(user_id)\n",
    "        s1 += _cos * (_i[1] - b_uj)\n",
    "        s2 += abs(_cos)\n",
    "    \n",
    "    _s = 0\n",
    "    if s2 is not 0:\n",
    "        _s = round(float(s1) / s2, 4)\n",
    "    \n",
    "    return b_ui + _s\n",
    "    "
   ]
  },
  {
   "cell_type": "code",
   "execution_count": 93,
   "metadata": {
    "collapsed": false
   },
   "outputs": [
    {
     "name": "stdout",
     "output_type": "stream",
     "text": [
      "3\n",
      "7\n",
      "10\n",
      "14\n",
      "18\n",
      "21\n",
      "25\n",
      "29\n",
      "32\n",
      "36\n",
      "39\n",
      "43\n",
      "47\n",
      "50\n",
      "54\n",
      "58\n",
      "61\n",
      "65\n",
      "68\n",
      "72\n",
      "76\n",
      "79\n",
      "83\n",
      "87\n",
      "90\n",
      "94\n",
      "97\n"
     ]
    }
   ],
   "source": [
    "# считаем\n",
    "res = []\n",
    "_counter = 0\n",
    "for fid in no_rating_films_list:\n",
    "    res.append((fid, prabably_rating_2(fid, user_id)))\n",
    "    _counter += 1\n",
    "    if _counter % 50 == 0:\n",
    "        print _counter*100 / len(no_rating_films_list)"
   ]
  },
  {
   "cell_type": "markdown",
   "metadata": {},
   "source": [
    "####Рекомендуйте пользователю 10 фильмов (predicators_top10) с самыми высокими оценками"
   ]
  },
  {
   "cell_type": "code",
   "execution_count": 99,
   "metadata": {
    "collapsed": false
   },
   "outputs": [
    {
     "data": {
      "text/plain": [
       "[(1603, 5.2276),\n",
       " (251, 5.1921),\n",
       " (469, 5.165699999999999),\n",
       " (1476, 5.1232),\n",
       " (1184, 5.057),\n",
       " (1512, 5.0359),\n",
       " (922, 5.0296),\n",
       " (902, 4.9955),\n",
       " (1474, 4.9802),\n",
       " (1475, 4.9780999999999995)]"
      ]
     },
     "execution_count": 99,
     "metadata": {},
     "output_type": "execute_result"
    }
   ],
   "source": [
    "sorted_prob = sorted(res, key=itemgetter(1), reverse=True)\n",
    "sorted_prob[:10]"
   ]
  },
  {
   "cell_type": "code",
   "execution_count": 100,
   "metadata": {
    "collapsed": false
   },
   "outputs": [
    {
     "data": {
      "text/plain": [
       "[1603, 251, 469, 1476, 1184, 1512, 922, 902, 1474, 1475]"
      ]
     },
     "execution_count": 100,
     "metadata": {},
     "output_type": "execute_result"
    }
   ],
   "source": [
    "predicators_top10 = [i[0] for i in sorted_prob[:10]]\n",
    "predicators_top10"
   ]
  },
  {
   "cell_type": "markdown",
   "metadata": {},
   "source": [
    "####Пересчитаем оценки, выкинув соседей с отрицательной близостью"
   ]
  },
  {
   "cell_type": "code",
   "execution_count": 103,
   "metadata": {
    "collapsed": false
   },
   "outputs": [
    {
     "name": "stdout",
     "output_type": "stream",
     "text": [
      "3\n",
      "7\n",
      "10\n",
      "14\n",
      "18\n",
      "21\n",
      "25\n",
      "29\n",
      "32\n",
      "36\n",
      "39\n",
      "43\n",
      "47\n",
      "50\n",
      "54\n",
      "58\n",
      "61\n",
      "65\n",
      "68\n",
      "72\n",
      "76\n",
      "79\n",
      "83\n",
      "87\n",
      "90\n",
      "94\n",
      "97\n"
     ]
    }
   ],
   "source": [
    "res = []\n",
    "_counter = 0\n",
    "for fid in no_rating_films_list:\n",
    "    res.append((fid, prabably_rating_2(fid, user_id, only_positive=True)))\n",
    "    _counter += 1\n",
    "    if _counter % 50 == 0:\n",
    "        print _counter*100 / len(no_rating_films_list)"
   ]
  },
  {
   "cell_type": "markdown",
   "metadata": {},
   "source": [
    "####"
   ]
  },
  {
   "cell_type": "code",
   "execution_count": 104,
   "metadata": {
    "collapsed": false
   },
   "outputs": [
    {
     "data": {
      "text/plain": [
       "[(1603, 5.2276),\n",
       " (251, 5.1921),\n",
       " (469, 5.165699999999999),\n",
       " (1476, 5.1232),\n",
       " (1184, 5.057),\n",
       " (1512, 5.0359),\n",
       " (922, 5.0296),\n",
       " (902, 4.9955),\n",
       " (1474, 4.9802),\n",
       " (1475, 4.9780999999999995)]"
      ]
     },
     "execution_count": 104,
     "metadata": {},
     "output_type": "execute_result"
    }
   ],
   "source": [
    "sorted_prob = sorted(res, key=itemgetter(1), reverse=True)\n",
    "sorted_prob[:10]"
   ]
  },
  {
   "cell_type": "code",
   "execution_count": 105,
   "metadata": {
    "collapsed": false
   },
   "outputs": [
    {
     "data": {
      "text/plain": [
       "[1603, 251, 469, 1476, 1184, 1512, 922, 902, 1474, 1475]"
      ]
     },
     "execution_count": 105,
     "metadata": {},
     "output_type": "execute_result"
    }
   ],
   "source": [
    "predicators_positive_top10 = [i[0] for i in sorted_prob[:10]]\n",
    "predicators_positive_top10"
   ]
  },
  {
   "cell_type": "code",
   "execution_count": 85,
   "metadata": {
    "collapsed": false
   },
   "outputs": [],
   "source": [
    "# сохраняем\n",
    "import json\n",
    "\n",
    "result = {\n",
    "    \"average_film_ratings\": average_film_ratings,\n",
    "    \"average_rating\": average_rating,\n",
    "    \"average_user_ratings\": average_user_ratings,\n",
    "    \"completeness\": completeness,\n",
    "    \"pearson_neighbours\": pearson_neighbours,\n",
    "    \"pearson_top10\": pearson_top10,\n",
    "    \"predicators_positive_top10\": predicators_positive_top10,\n",
    "    \"predicators_top10\": predicators_top10\n",
    "}\n",
    "\n",
    "with open('lab11.json', 'w') as f:\n",
    "    f.write(json.dumps(result))\n",
    "    f.close()"
   ]
  },
  {
   "cell_type": "code",
   "execution_count": null,
   "metadata": {
    "collapsed": true
   },
   "outputs": [],
   "source": []
  }
 ],
 "metadata": {
  "kernelspec": {
   "display_name": "Python 2",
   "language": "python",
   "name": "python2"
  },
  "language_info": {
   "name": "python",
   "version": "2.7.6"
  }
 },
 "nbformat": 4,
 "nbformat_minor": 0
}
