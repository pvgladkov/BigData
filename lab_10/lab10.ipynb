{
 "cells": [
  {
   "cell_type": "code",
   "execution_count": 1,
   "metadata": {
    "collapsed": false,
    "scrolled": true
   },
   "outputs": [
    {
     "name": "stdout",
     "output_type": "stream",
     "text": [
      "Welcome to\n",
      "      ____              __\n",
      "     / __/__  ___ _____/ /__\n",
      "    _\\ \\/ _ \\/ _ `/ __/  '_/\n",
      "   /__ / .__/\\_,_/_/ /_/\\_\\   version 1.3.0\n",
      "      /_/\n",
      "\n",
      "Using Python version 2.7.6 (default, Mar 22 2014 22:59:56)\n",
      "SparkContext available as sc, HiveContext available as sqlCtx.\n"
     ]
    }
   ],
   "source": [
    "import os\n",
    "execfile(os.path.join(os.environ[\"SPARK_HOME\"], 'python/pyspark/shell.py'))"
   ]
  },
  {
   "cell_type": "code",
   "execution_count": 2,
   "metadata": {
    "collapsed": false
   },
   "outputs": [
    {
     "data": {
      "text/plain": [
       "{u'cat': u'3/business_management|6/economics_finance',\n",
       " u'desc': u'This course introduces the basic financial statements used by most businesses, as well as the essential tools used to prepare them. This course will serve as a resource to help business students succeed in their upcoming university-level accounting classes, and as a refresher for upper division accounting students who are struggling to recall elementary concepts essential to more advanced accounting topics. Business owners will also benefit from this class by gaining essential skills necessary to organize and manage information pertinent to operating their business. At the conclusion of the class, students will understand the balance sheet, income statement, and cash flow statement. They will be able to differentiate between cash basis and accrual basis techniques, and know when each is appropriate. They\\u2019ll also understand the accounting equation, how to journalize and post transactions, how to adjust and close accounts, and how to prepare key financial reports. All material for this class is written and delivered by the professor, and can be previewed here. Students must have access to a spreadsheet program to participate.',\n",
       " u'id': 4,\n",
       " u'lang': u'en',\n",
       " u'name': u'Accounting Cycle: The Foundation of Business Measurement and Reporting',\n",
       " u'provider': u'Canvas Network'}"
      ]
     },
     "execution_count": 2,
     "metadata": {},
     "output_type": "execute_result"
    }
   ],
   "source": [
    "import json\n",
    "\n",
    "json_data = sc.textFile(\"/recsys/DO_record_per_line.json\")\n",
    "list_json = json_data.map(lambda x: json.loads(x))\n",
    "list_json.first()"
   ]
  },
  {
   "cell_type": "code",
   "execution_count": 3,
   "metadata": {
    "collapsed": false
   },
   "outputs": [
    {
     "name": "stdout",
     "output_type": "stream",
     "text": [
      "cat                  desc                 id lang name                 provider      \n",
      "3/business_manage... This course intro... 4  en   Accounting Cycle:... Canvas Network\n",
      "11/law               This online cours... 5  en   American Counter ... Canvas Network\n",
      "5/computer_scienc... This course is ta... 6  fr   Arithmétique: en ... Canvas Network\n",
      "14/social_sciences   We live in a digi... 7  en   Becoming a Dynami... Canvas Network\n",
      "2/biology_life_sc... This self-paced c... 8  en   Bioethics            Canvas Network\n",
      "9/humanities|15/m... This game-based c... 9  en   College Foundatio... Canvas Network\n",
      "14/social_sciences   What’s in your di... 10 en   Digital Literacies I Canvas Network\n",
      "14/social_sciences   The goal of the D... 11 en   Digital Literacie... Canvas Network\n",
      "14/social_sciences   Ready to explore ... 12 en   Digital Tools for... Canvas Network\n",
      "14/social_sciences   This self-paced c... 13 en   Discover Your Val... Canvas Network\n",
      "12/medicine_health   What is “interpro... 14 en   Enhancing Patient... Canvas Network\n",
      "16/languages         This course prese... 15 en   Ethics and Values... Canvas Network\n",
      "4/chemistry          Chemistry is an i... 16 en   Exploring Chemistry  Canvas Network\n",
      "8/engineering_tec... Are you consideri... 17 en   Exploring Enginee... Canvas Network\n",
      "1/arts_music_film    Princess stories ... 18 en   Fairy Tales: Orig... Canvas Network\n",
      "9/humanities         This first instal... 19 en   First Peoples to ... Canvas Network\n",
      "14/social_sciences   This course exami... 20 en   Forums for a Future  Canvas Network\n",
      "9/humanities         This course will ... 21 en   From the Gilded A... Canvas Network\n",
      "8/engineering_tec... The field of tech... 22 en   Fundamentals of S... Canvas Network\n",
      "14/social_sciences   Are you a Higher ... 23 en   Hybrid Courses: B... Canvas Network\n"
     ]
    }
   ],
   "source": [
    "df_json = sqlCtx.jsonFile(\"/recsys/DO_record_per_line.json\")\n",
    "df_json.show()"
   ]
  },
  {
   "cell_type": "code",
   "execution_count": 4,
   "metadata": {
    "collapsed": false
   },
   "outputs": [],
   "source": [
    "import nltk\n",
    "from nltk.stem.snowball import SnowballStemmer\n",
    "\"\"\"\"\n",
    "from nltk.stem.api import StemmerI\n",
    "from nltk.stem.regexp import RegexpStemmer\n",
    "from nltk.stem.lancaster import LancasterStemmer\n",
    "from nltk.stem.isri import ISRIStemmer\n",
    "from nltk.stem.porter import PorterStemmer\n",
    "from nltk.stem.wordnet import WordNetLemmatizer\n",
    "from nltk.stem.rslp import RSLPStemmer\n",
    "\"\"\"\n",
    "import re\n",
    "from pymystem3 import Mystem\n",
    "from bs4 import BeautifulSoup # удобная библиотека для обработки html-тегов, которые есть в текстах\n",
    "\n",
    "m = Mystem()\n",
    "#wnl = WordNetLemmatizer()\n",
    "swEn = nltk.corpus.stopwords.words('english')\n",
    "swRu = nltk.corpus.stopwords.words('russian')\n",
    "swEs = nltk.corpus.stopwords.words('spanish')\n",
    "reWords = re.compile(ur'[\\u0400-\\u0500a-z\\d]+')#\\u00C0-\\u00FF áéíóúñü\n",
    "\n",
    "def getWords(text,lang=\"en\",minLen=2):\n",
    "    text = BeautifulSoup(text).get_text() # удаляем html-теги\n",
    "    if lang == \"ru\":\n",
    "        words = m.lemmatize(text)\n",
    "        words = [token.lower() for token in words if any([c for c in token.strip() if c.isalpha()])]\n",
    "    else:\n",
    "        words = reWords.findall(text.lower())\n",
    "        words = [token for token in words if any([c for c in token.strip() if c.isalpha()])]\n",
    "    \n",
    "    if minLen > 0:\n",
    "        words = [word for word in words if len(word) >= minLen]\n",
    "        \n",
    "    if lang == 'en':\n",
    "        stopWords = swEn\n",
    "    elif lang == 'ru':\n",
    "        stopWords = swRu\n",
    "    elif lang == 'es':\n",
    "        stopWords = swEs\n",
    "    else:\n",
    "        stopWords = []\n",
    "    \n",
    "    if len(stopWords) > 0: \n",
    "        words = [word for word in words if word not in stopWords]\n",
    "        \n",
    "    if lang == \"en\":\n",
    "        #stemmer = PorterStemmer()\n",
    "        #stemmer = LancasterStemmer()\n",
    "        stemmer = SnowballStemmer(\"english\")\n",
    "        words = [stemmer.stem(t) for t in words]\n",
    "        #words = [wnl.lemmatize(t, pos='v') for t in words]\n",
    "        #words = [wnl.lemmatize(t) for t in words]\n",
    "    elif lang == \"es\":\n",
    "        stemmer = SnowballStemmer(\"spanish\")\n",
    "        words = [stemmer.stem(t) for t in words]\n",
    "       \n",
    "    return words\n",
    "\n",
    "def getWords2(text,lang='en',minLen=2):\n",
    "    text = BeautifulSoup(text).get_text()\n",
    "    words = reWords.findall(text.lower())\n",
    "    words = [token for token in words if any([c for c in token.strip() if c.isalpha()])]\n",
    "    if minLen > 0:\n",
    "        words = [word for word in words if len(word) >= minLen]\n",
    "        \n",
    "    if lang == 'en':\n",
    "        stopWords = swEn\n",
    "    elif lang == 'ru':\n",
    "        stopWords = swRu\n",
    "    elif lang == 'es':\n",
    "        stopWords = swEs\n",
    "    else:\n",
    "        stopWords = []    \n",
    "    if len(stopWords) > 0: \n",
    "        words = [word for word in words if word not in stopWords]\n",
    "        \n",
    "    return words\n",
    "\n",
    "def getWords3(text):\n",
    "    return reWords.findall(text.lower())\n",
    "\n",
    "from nltk.tokenize import RegexpTokenizer\n",
    "tokenizer = RegexpTokenizer(ur'[\\u0400-\\u0500a-z\\d]+')\n",
    "tokenizerBr = sc.broadcast( tokenizer )\n",
    "\n",
    "def getWords4(text):\n",
    "    return tokenizerBr.value.tokenize(text.lower())"
   ]
  },
  {
   "cell_type": "code",
   "execution_count": null,
   "metadata": {
    "collapsed": false
   },
   "outputs": [],
   "source": [
    "from pyspark.mllib.feature import HashingTF\n",
    "from pyspark.mllib.feature import IDF\n",
    "from pyspark.mllib.feature import Normalizer\n",
    "\n",
    "def calc_cosine_similarity(a,b):\n",
    "    return a.dot(b)\n",
    "\n",
    "def fchosen_doc(idnum,df_rec=None):\n",
    "    if df_rec == None:\n",
    "        df_rec = df_json[df_json.id == idnum].first()\n",
    "    return normalizer_l2.transform(idf_fit.transform(tf.transform(getWords3(df_rec[1]))))\n",
    "\n",
    "normalizer_l2 = Normalizer(p=2)\n",
    "tf, idf = HashingTF(10000), IDF()\n",
    "\n",
    "tokens = df_json.map(lambda x: getWords3(x.desc))\n",
    "doc_tf = tf.transform(tokens)\n",
    "\n",
    "idf_fit = idf.fit(doc_tf)\n",
    "tfidf = idf_fit.transform(doc_tf)\n",
    "normalized_tf_idf_vectors = normalizer_l2.transform(tfidf)"
   ]
  },
  {
   "cell_type": "code",
   "execution_count": null,
   "metadata": {
    "collapsed": false
   },
   "outputs": [],
   "source": [
    "ids = [14398, 24543, 12873, 13449, 8200, 1133]\n",
    "top11 = list()\n",
    "\n",
    "def getCat(text):\n",
    "    if text > '':\n",
    "        ok = text.split('|')\n",
    "        ok = [int(x.split('/')[0]) for x in ok]\n",
    "    else:\n",
    "        ok = []\n",
    "    return set(ok)\n",
    "     \n",
    "for idnum in ids:\n",
    "    df_rec = df_json[df_json.id == idnum].first()\n",
    "    lang = df_rec[3]\n",
    "    #cats = getCat(df_rec[0])\n",
    "    #ncats = len(cats)\n",
    "\n",
    "    chosen_doc = fchosen_doc(idnum,df_rec)\n",
    "    #chosen_doc_br = sc.broadcast(chosen_doc)\n",
    "    similarities = normalized_tf_idf_vectors.map(lambda x: calc_cosine_similarity(x, chosen_doc))\n",
    "\n",
    "    listid = df_json.map(lambda x: x.id).collect()\n",
    "    listok = similarities.collect()\n",
    "    ok = sorted(zip(listid,listok),key = lambda x: -x[1])[:11]\n",
    "\n",
    "    #ok = df_json.map(lambda x: x.id).zip(similarities).sortBy(lambda x: -x[1]).take(11)\n",
    "\n",
    "    top11.append((idnum,lang,ok))\n",
    "    print idnum"
   ]
  },
  {
   "cell_type": "code",
   "execution_count": null,
   "metadata": {
    "collapsed": false
   },
   "outputs": [],
   "source": [
    "top11"
   ]
  },
  {
   "cell_type": "code",
   "execution_count": null,
   "metadata": {
    "collapsed": false,
    "scrolled": false
   },
   "outputs": [],
   "source": [
    "import json\n",
    "\n",
    "ok = dict()\n",
    "for val in top11:\n",
    "    s = str(val[0])\n",
    "    ok[s] = map(lambda x: x[0],filter(lambda x: x[0] != val[0],val[2]))\n",
    "out = json.dumps(ok, sort_keys=False)\n",
    "print out\n",
    "f = open(r\"lab10.json\",\"w\")\n",
    "f.write(out)\n",
    "f.close()"
   ]
  },
  {
   "cell_type": "code",
   "execution_count": 15,
   "metadata": {
    "collapsed": false,
    "scrolled": true
   },
   "outputs": [
    {
     "name": "stdout",
     "output_type": "stream",
     "text": [
      "14398 en\n",
      "   14398 , 1.0 : CSS with LESS and Sass\n",
      "   23666 , 0.253505777821 : Getting Started with LESS - Beginner Crash Course\n",
      "   11263 , 0.246166898516 : Less CSS Tutorial\n",
      "   25066 , 0.242909423088 : Rapid LESS - Udemy\n",
      "   14651 , 0.234694248712 : FileMaker Pro 10 Essential Training\n",
      "   13348 , 0.22774698939 : Learning Sass - CSS Just Got Exciting. by Infinite Skills\n",
      "   25782 , 0.220259942493 : Write Clean CSS using SASS - Udemy\n",
      "   17665 , 0.213201814327 : Writing CSS with {LESS}\n",
      "   25071 , 0.21032699738 : Rapid SASS - Udemy\n",
      "   18368 , 0.209791608146 : Building High-Performance Teams\n",
      "   13665 , 0.207571901239 : The Next Step with Sass and Compass by Lisa Catalano\n",
      "24543 en\n",
      "   24543 , 1.0 : Love Your Life - Why Settle? Be Happy - Dream Builder Course\n",
      "   6174 , 0.460623659535 : How to Find True Love: Making Way for Love!\n",
      "   21009 , 0.442319945906 : You Part Two: Discover your Life Purpose - Udemy\n",
      "   11616 , 0.438798066627 : Solve Relationship Problems in 12 Easy Steps by Sarah McCrum\n",
      "   10320 , 0.435996886287 : Live your Happiest Life (Abroad) by Karlijn De Broeck\n",
      "   22612 , 0.425816857466 : Achieve Your Goals - Achieve Your Dreams! - Udemy\n",
      "   25581 , 0.425108725314 : Transform Your Life Masterclass - Udemy\n",
      "   25866 , 0.425011891508 : From Stagnant to Success: Tools to Get You Back On Track\n",
      "   25074 , 0.423238671079 : Reach your dreams w/ 7 simple steps that you can DO TODAY!\n",
      "   7660 , 0.423109910043 : 7 Steps: Vision to Action by Terry Igharoro\n",
      "   11063 , 0.421850486554 : Proven time management techniques for the busy person by Bogdan Vaida\n",
      "12873 es\n",
      "   12873 , 1.0 : Aprende a Tocar Teclado - Piano by Carlos Timana Ortega\n",
      "   24531 , 0.612929270034 : Lleva tu memoria al gimnasio - Udemy\n",
      "   20901 , 0.611770573045 : Salud y vitalidad: la clorofila - Udemy\n",
      "   17839 , 0.602165931584 : Cómo Proyectar y Construir Chimeneas de Leña by Isaura ARDILA\n",
      "   21337 , 0.601166927723 : Contar Historias para el Cambio\n",
      "   23302 , 0.601150263099 : Descubre 30 Estrategias Poderosas Para Persuadir Tus Ventas\n",
      "   22284 , 0.598003399665 : Contar Historias para el Cambio\n",
      "   18030 , 0.597768854702 : Ejercicios Preparatorios Para Hablar en Público by Luis Hernández\n",
      "   20161 , 0.597563342284 : ¿Cómo aclarar todas tus dudas fiscales? by José Antonio Apipilhuasco Ramírez\n",
      "   16794 , 0.595013159351 : Productos Notables Incluye Problemas de Examen Resueltos\n",
      "   13275 , 0.592654070511 : OpenKnowledge: Changing the Global Course of Learning\n",
      "13449 es\n",
      "   13449 , 1.0 : Gestión avanzada de datos con MongoDB by José Antonio Sánchez Ortiz\n",
      "   13152 , 0.770479609382 : Primeros pasos en MongoDB by José Antonio Sánchez Ortiz\n",
      "   25902 , 0.738901795842 : SIG aplicados al medio ambiente con arcGIS 10.\n",
      "   10737 , 0.738568736502 : Programación con PHP by Fernando Gonzales\n",
      "   10004 , 0.73688565774 : Iniciación a After Effects desde cero by Rubén Gil\n",
      "   6874 , 0.732637797884 : Fundamentos de Motion 5.1 by Jesús Hernández Ruiz\n",
      "   7944 , 0.732540356159 : Corrección y Estilo en Español\n",
      "   16866 , 0.730672271326 : Fundamentos de Premiere Pro CC 2014 by Jesús Hernández Ruiz\n",
      "   10973 , 0.710027719301 : SugarCRM: Una Guía Completa - Udemy\n",
      "   9409 , 0.708821920797 : Curso de AutoCAD Civil 3D 2014 Básico e Intermedio\n",
      "   10738 , 0.708489913582 : Programación de Excel con macros usando Visual Basic by Elio Reyes\n",
      "8200 ru\n",
      "   8200 , 1.0 : Введение в отказоустойчивые технологии высокопроизводительных вычислительных систем (суб)микронного, супрамолекулярного и нанометрового диапазона\n",
      "   18772 , 0.291685677266 : Путешествие в Париж! by Yulia Safutdinova\n",
      "   17014 , 0.278392809071 : Английский язык для менеджеров по продажам\n",
      "   17015 , 0.267599928247 : Английский язык для менеджеров по работе с клиентами\n",
      "   7630 , 0.266678218517 : Основы микроэкономики (Microeconomics Principles)\n",
      "   17009 , 0.255541362533 : Английский язык для экономистов и бухгалтеров\n",
      "   17017 , 0.255448854403 : Английский язык для путешествий\n",
      "   19613 , 0.254965458029 : Римские каникулы - с пользой, интересно и не затратно! by Yulia Safutdinova\n",
      "   7611 , 0.254148458044 : Электричество и магнетизм. Часть 1 (Electricity and Magnetism. Part 1)\n",
      "   17215 , 0.251994347715 : Электричество и магнетизм. Часть 2 (Electricity and Magnetism. Part 2)\n",
      "   20417 , 0.251422326075 : Экономика для неэкономистов (Economics for non-economists)\n",
      "1133 ru\n",
      "   1133 , 1.0 : Основы сетей передачи данных\n",
      "   1120 , 0.467182801867 : Абонентские сети доступа и технологии высокоскоростных сетей\n",
      "   51 , 0.370474142994 : Распределенные системы хранения и обработки данных\n",
      "   1057 , 0.370070965134 : ИТ-стратегия\n",
      "   798 , 0.367201948651 : Основы вычислительной математики\n",
      "   19624 , 0.359619626729 : Критические факторы успеха в ИТ-консалтинге\n",
      "   1045 , 0.35942902552 : Архитектура предприятия\n",
      "   1195 , 0.336648312724 : Развертывание Windows XP\n",
      "   852 , 0.327750695169 : Принятие выгодных финансовых решений, критерии и алгоритмы\n",
      "   1117 , 0.326263087391 : Основы локальных сетей\n",
      "   1132 , 0.325076309531 : Внедрение, управление и поддержка сетевой инфраструктуры MS Windows Server 2003\n"
     ]
    }
   ],
   "source": [
    "for x in top11:\n",
    "    print x[0],x[1]\n",
    "    for y in x[2]:\n",
    "        print '  ',y[0],',',y[1],':',df_json[df_json.id == y[0]].collect()[0][4]"
   ]
  },
  {
   "cell_type": "code",
   "execution_count": null,
   "metadata": {
    "collapsed": false
   },
   "outputs": [],
   "source": [
    "print df_json[df_json.id == 12802].collect()[0][4]"
   ]
  },
  {
   "cell_type": "code",
   "execution_count": 16,
   "metadata": {
    "collapsed": false
   },
   "outputs": [
    {
     "name": "stdout",
     "output_type": "stream",
     "text": [
      "Aprende a tocar el piano desde cero by Virtuosso Producciones\n"
     ]
    }
   ],
   "source": [
    "print df_json[df_json.id == 12658].collect()[0][4]"
   ]
  },
  {
   "cell_type": "code",
   "execution_count": null,
   "metadata": {
    "collapsed": true
   },
   "outputs": [],
   "source": []
  }
 ],
 "metadata": {
  "kernelspec": {
   "display_name": "Python 2",
   "language": "python",
   "name": "python2"
  },
  "language_info": {
   "codemirror_mode": {
    "name": "ipython",
    "version": 2
   },
   "file_extension": ".py",
   "mimetype": "text/x-python",
   "name": "python",
   "nbconvert_exporter": "python",
   "pygments_lexer": "ipython2",
   "version": "2.7.6"
  }
 },
 "nbformat": 4,
 "nbformat_minor": 0
}
