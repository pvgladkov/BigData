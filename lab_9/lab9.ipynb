{
 "cells": [
  {
   "cell_type": "code",
   "execution_count": 1,
   "metadata": {
    "collapsed": false
   },
   "outputs": [
    {
     "name": "stdout",
     "output_type": "stream",
     "text": [
      "Welcome to\n",
      "      ____              __\n",
      "     / __/__  ___ _____/ /__\n",
      "    _\\ \\/ _ \\/ _ `/ __/  '_/\n",
      "   /__ / .__/\\_,_/_/ /_/\\_\\   version 1.3.0\n",
      "      /_/\n",
      "\n",
      "Using Python version 2.7.6 (default, Mar 22 2014 22:59:56)\n",
      "SparkContext available as sc, HiveContext available as sqlCtx.\n"
     ]
    }
   ],
   "source": [
    "import os\n",
    "execfile(os.path.join(os.environ[\"SPARK_HOME\"], 'python/pyspark/shell.py'))"
   ]
  },
  {
   "cell_type": "code",
   "execution_count": 2,
   "metadata": {
    "collapsed": true
   },
   "outputs": [],
   "source": [
    "# исходные данные\n",
    "film_id = 111\n",
    "k = 50\n",
    "z = 2.576"
   ]
  },
  {
   "cell_type": "code",
   "execution_count": 3,
   "metadata": {
    "collapsed": false
   },
   "outputs": [
    {
     "data": {
      "text/plain": [
       "u'196\\t242\\t3\\t881250949'"
      ]
     },
     "execution_count": 3,
     "metadata": {},
     "output_type": "execute_result"
    }
   ],
   "source": [
    "# файл с оценками\n",
    "# user id | item id | rating | timestamp\n",
    "user_marks_src = sc.textFile(\"/recsys/ml-100k/u.data\")\n",
    "user_marks_src.first()"
   ]
  },
  {
   "cell_type": "code",
   "execution_count": 4,
   "metadata": {
    "collapsed": false
   },
   "outputs": [
    {
     "data": {
      "text/plain": [
       "u'1|Toy Story (1995)|01-Jan-1995||http://us.imdb.com/M/title-exact?Toy%20Story%20(1995)|0|0|0|1|1|1|0|0|0|0|0|0|0|0|0|0|0|0|0'"
      ]
     },
     "execution_count": 4,
     "metadata": {},
     "output_type": "execute_result"
    }
   ],
   "source": [
    "# файл с фильмами\n",
    "film_data_src = sc.textFile(\"/recsys/ml-100k/u.item\")\n",
    "film_data_src.first()"
   ]
  },
  {
   "cell_type": "code",
   "execution_count": 5,
   "metadata": {
    "collapsed": false
   },
   "outputs": [
    {
     "data": {
      "text/plain": [
       "[(1, u'Toy Story (1995)'),\n",
       " (2, u'GoldenEye (1995)'),\n",
       " (3, u'Four Rooms (1995)'),\n",
       " (4, u'Get Shorty (1995)'),\n",
       " (5, u'Copycat (1995)')]"
      ]
     },
     "execution_count": 5,
     "metadata": {},
     "output_type": "execute_result"
    }
   ],
   "source": [
    "# id, name\n",
    "film_data = film_data_src.map(lambda x: (int(x.split('|')[0]), x.split('|')[1]))\n",
    "film_data.take(5)"
   ]
  },
  {
   "cell_type": "code",
   "execution_count": 7,
   "metadata": {
    "collapsed": false
   },
   "outputs": [
    {
     "data": {
      "text/plain": [
       "[196, 242, 3, 881250949]"
      ]
     },
     "execution_count": 7,
     "metadata": {},
     "output_type": "execute_result"
    }
   ],
   "source": [
    "# user id | item id | rating | timestamp\n",
    "user_marks = user_marks_src.map(lambda x: [int(i) for i in x.split('\\t')])\n",
    "user_marks.first()"
   ]
  },
  {
   "cell_type": "markdown",
   "metadata": {},
   "source": [
    "## Рассчет общего кол-ва оценок"
   ]
  },
  {
   "cell_type": "code",
   "execution_count": 8,
   "metadata": {
    "collapsed": false
   },
   "outputs": [
    {
     "data": {
      "text/plain": [
       "[(50, 583),\n",
       " (258, 509),\n",
       " (100, 508),\n",
       " (181, 507),\n",
       " (294, 485),\n",
       " (286, 481),\n",
       " (288, 478),\n",
       " (1, 452),\n",
       " (300, 431),\n",
       " (121, 429),\n",
       " (174, 420),\n",
       " (127, 413)]"
      ]
     },
     "execution_count": 8,
     "metadata": {},
     "output_type": "execute_result"
    }
   ],
   "source": [
    "# кол-во оценок на фильм (1)\n",
    "from operator import add\n",
    "user_films = user_marks.map(lambda x: (x[1], 1)).reduceByKey(add).sortBy(lambda x: -x[1])\n",
    "user_films.take(12)"
   ]
  },
  {
   "cell_type": "code",
   "execution_count": 9,
   "metadata": {
    "collapsed": false
   },
   "outputs": [
    {
     "name": "stdout",
     "output_type": "stream",
     "text": [
      "[50, 258, 100, 181, 294, 286, 288, 1, 300, 121]\n"
     ]
    }
   ],
   "source": [
    "# top-10 фильмов по кол-ву оценок\n",
    "top10_rates = user_films.map(lambda x: x[0]).take(10)\n",
    "print top10_rates"
   ]
  },
  {
   "cell_type": "markdown",
   "metadata": {},
   "source": [
    "##Рассчет средних оценок"
   ]
  },
  {
   "cell_type": "code",
   "execution_count": 10,
   "metadata": {
    "collapsed": false
   },
   "outputs": [
    {
     "data": {
      "text/plain": [
       "[(2, 420),\n",
       " (4, 742),\n",
       " (6, 93),\n",
       " (8, 875),\n",
       " (10, 341),\n",
       " (12, 1171),\n",
       " (14, 726),\n",
       " (16, 125),\n",
       " (18, 28),\n",
       " (20, 246)]"
      ]
     },
     "execution_count": 10,
     "metadata": {},
     "output_type": "execute_result"
    }
   ],
   "source": [
    "# сумма всех оценок по фильмц\n",
    "film_mark_sum = user_marks.map(lambda x: (x[1], x[2])).reduceByKey(add)\n",
    "film_mark_sum.take(10)"
   ]
  },
  {
   "cell_type": "code",
   "execution_count": 11,
   "metadata": {
    "collapsed": false
   },
   "outputs": [
    {
     "data": {
      "text/plain": [
       "[(4, (742, 209)),\n",
       " (8, (875, 219)),\n",
       " (12, (1171, 267)),\n",
       " (16, (125, 39)),\n",
       " (20, (246, 72))]"
      ]
     },
     "execution_count": 11,
     "metadata": {},
     "output_type": "execute_result"
    }
   ],
   "source": [
    "film_avg_rating = film_mark_sum.join(user_films)\n",
    "\n",
    "# id, (sum, count)\n",
    "film_avg_rating.take(5)"
   ]
  },
  {
   "cell_type": "code",
   "execution_count": 12,
   "metadata": {
    "collapsed": false
   },
   "outputs": [
    {
     "data": {
      "text/plain": [
       "[(1536, (5.0, u'Aiqing wansui (1994)')),\n",
       " (1653, (5.0, u'Entertaining Angels: The Dorothy Day Story (1996)')),\n",
       " (814, (5.0, u'Great Day in Harlem, A (1994)')),\n",
       " (1201, (5.0, u'Marlene Dietrich: Shadow and Light (1996) ')),\n",
       " (1189, (5.0, u'Prefontaine (1997)')),\n",
       " (1467, (5.0, u'Saint of Fort Washington, The (1993)')),\n",
       " (1500, (5.0, u'Santa with Muscles (1996)')),\n",
       " (1599, (5.0, u\"Someone Else's America (1995)\")),\n",
       " (1293, (5.0, u'Star Kid (1997)')),\n",
       " (1122, (5.0, u'They Made Me a Criminal (1939)')),\n",
       " (1449, (4.625, u'Pather Panchali (1955)')),\n",
       " (408, (4.491071428571429, u'Close Shave, A (1995)'))]"
      ]
     },
     "execution_count": 12,
     "metadata": {},
     "output_type": "execute_result"
    }
   ],
   "source": [
    "film_avg = film_avg_rating.map(lambda x: (x[0], float(x[1][0])/x[1][1]))\n",
    "\n",
    "# сортировать надо по оценке и названию фильма\n",
    "film_avg_with_names = film_avg.join(film_data).sortBy(lambda x: ''.join([str(5-x[1][0]), x[1][1]]))\n",
    "film_avg_with_names.take(12)"
   ]
  },
  {
   "cell_type": "code",
   "execution_count": 13,
   "metadata": {
    "collapsed": false
   },
   "outputs": [
    {
     "name": "stdout",
     "output_type": "stream",
     "text": [
      "[1536, 1653, 814, 1201, 1189, 1467, 1500, 1599, 1293, 1122]\n"
     ]
    }
   ],
   "source": [
    "# top-10 фильмов по средней оценке\n",
    "top10_average = film_avg_with_names.map(lambda x: x[0]).take(10)\n",
    "print top10_average"
   ]
  },
  {
   "cell_type": "markdown",
   "metadata": {},
   "source": [
    "## Количество человек m, оценивших фильм положительно"
   ]
  },
  {
   "cell_type": "code",
   "execution_count": 14,
   "metadata": {
    "collapsed": false
   },
   "outputs": [
    {
     "data": {
      "text/plain": [
       "[(2, 51), (4, 122), (6, 15), (8, 155), (10, 59)]"
      ]
     },
     "execution_count": 14,
     "metadata": {},
     "output_type": "execute_result"
    }
   ],
   "source": [
    "#Оценки 4 и выше -- считаются положительными\n",
    "film_positive_count = user_marks.filter(lambda x: x[2] > 3).map(lambda x: (x[1], 1)).reduceByKey(add)\n",
    "film_positive_count.take(5)"
   ]
  },
  {
   "cell_type": "markdown",
   "metadata": {},
   "source": [
    "## Доля человек, оценивших фильм положительно"
   ]
  },
  {
   "cell_type": "code",
   "execution_count": 15,
   "metadata": {
    "collapsed": false
   },
   "outputs": [
    {
     "data": {
      "text/plain": [
       "[(4, 0.583732057416268),\n",
       " (8, 0.7077625570776256),\n",
       " (12, 0.8689138576779026),\n",
       " (16, 0.41025641025641024),\n",
       " (20, 0.5555555555555556),\n",
       " (24, 0.5172413793103449),\n",
       " (28, 0.7246376811594203),\n",
       " (32, 0.654320987654321),\n",
       " (36, 0.07692307692307693),\n",
       " (40, 0.3333333333333333)]"
      ]
     },
     "execution_count": 15,
     "metadata": {},
     "output_type": "execute_result"
    }
   ],
   "source": [
    "film_positive_persent = film_positive_count.join(user_films).map(lambda x: (x[0], float(x[1][0])/x[1][1]))\n",
    "film_positive_persent.take(10)"
   ]
  },
  {
   "cell_type": "markdown",
   "metadata": {},
   "source": [
    "## Глобальное среднее по всему датасету"
   ]
  },
  {
   "cell_type": "code",
   "execution_count": 16,
   "metadata": {
    "collapsed": false
   },
   "outputs": [
    {
     "data": {
      "text/plain": [
       "3.52986"
      ]
     },
     "execution_count": 16,
     "metadata": {},
     "output_type": "execute_result"
    }
   ],
   "source": [
    "global_avg = float(user_marks.map(lambda x: x[2]).sum()) / user_marks.map(lambda x: 1).sum()\n",
    "global_avg"
   ]
  },
  {
   "cell_type": "markdown",
   "metadata": {},
   "source": [
    "##Оценки, поправленные на нехватку данных"
   ]
  },
  {
   "cell_type": "code",
   "execution_count": 17,
   "metadata": {
    "collapsed": false
   },
   "outputs": [
    {
     "data": {
      "text/plain": [
       "[(318, 4.331876436781609),\n",
       " (64, 4.307786786786787),\n",
       " (483, 4.298610921501706),\n",
       " (50, 4.293037914691943),\n",
       " (12, 4.250766561514196),\n",
       " (603, 4.221980694980695),\n",
       " (98, 4.203393181818182),\n",
       " (127, 4.2019287257019435),\n",
       " (408, 4.194401234567901),\n",
       " (169, 4.187458333333334),\n",
       " (174, 4.175517021276596),\n",
       " (357, 4.170359872611464)]"
      ]
     },
     "execution_count": 17,
     "metadata": {},
     "output_type": "execute_result"
    }
   ],
   "source": [
    "# k = 50\n",
    "film_avg_cor = film_avg_rating.map(lambda x: (x[0], float(x[1][0] + k*global_avg)/(x[1][1] + k))).sortBy(lambda x: -x[1])\n",
    "film_avg_cor.take(12)"
   ]
  },
  {
   "cell_type": "code",
   "execution_count": 18,
   "metadata": {
    "collapsed": false
   },
   "outputs": [
    {
     "name": "stdout",
     "output_type": "stream",
     "text": [
      "[318, 64, 483, 50, 12, 603, 98, 127, 408, 169]\n"
     ]
    }
   ],
   "source": [
    "# top-10\n",
    "top10_rating = film_avg_cor.map(lambda x: x[0]).take(10)\n",
    "print top10_rating"
   ]
  },
  {
   "cell_type": "markdown",
   "metadata": {
    "collapsed": true
   },
   "source": [
    "## Нижняя и верхняя границыдоверительного интервала оценки"
   ]
  },
  {
   "cell_type": "code",
   "execution_count": 22,
   "metadata": {
    "collapsed": false
   },
   "outputs": [
    {
     "data": {
      "text/plain": [
       "[(64, 0.8457526835447277),\n",
       " (318, 0.8336980984637925),\n",
       " (98, 0.8334527970235317),\n",
       " (479, 0.8332601854479507),\n",
       " (483, 0.8262807973523965),\n",
       " (50, 0.8182013061987115),\n",
       " (603, 0.8161443229080241),\n",
       " (427, 0.8134728086457121),\n",
       " (357, 0.808875556038692),\n",
       " (12, 0.8066550869388946),\n",
       " (127, 0.7990899541880941),\n",
       " (408, 0.7945044582653329)]"
      ]
     },
     "execution_count": 22,
     "metadata": {},
     "output_type": "execute_result"
    }
   ],
   "source": [
    "#  где  n - количество рейтингов (пункт 1), p - доля людей, оценивших фильм положительно (п. 4).\n",
    "\n",
    "import math\n",
    "#z = 2.576\n",
    "def wilson(n, p, z, sign):\n",
    "    x1 = 1. / (1 + (z**2)/n)\n",
    "    x2 = p + (z**2)/(2*n) \n",
    "    x3 = p * (1 - p) / n\n",
    "    x4 = (z**2)/(4 * (n**2))\n",
    "    return x1 * (x2 + sign * z * math.sqrt(x3 + x4))\n",
    "\n",
    "\n",
    "wilson_min = user_films.join(film_positive_persent)\\\n",
    "    .map(lambda x: (x[0], wilson(x[1][0], x[1][1], z, -1)))\\\n",
    "    .sortBy(lambda x: -x[1])\n",
    "wilson_min.take(12)"
   ]
  },
  {
   "cell_type": "code",
   "execution_count": 23,
   "metadata": {
    "collapsed": false
   },
   "outputs": [
    {
     "name": "stdout",
     "output_type": "stream",
     "text": [
      "[64, 318, 98, 479, 483, 50, 603, 427, 357, 12]\n"
     ]
    }
   ],
   "source": [
    "top10_lower = wilson_min.map(lambda x: x[0]).take(10)\n",
    "print top10_lower"
   ]
  },
  {
   "cell_type": "markdown",
   "metadata": {},
   "source": [
    "## Распределение оценок"
   ]
  },
  {
   "cell_type": "code",
   "execution_count": 25,
   "metadata": {
    "collapsed": false
   },
   "outputs": [
    {
     "data": {
      "text/plain": [
       "[(1, 14), (2, 18), (3, 92), (4, 118), (5, 30)]"
      ]
     },
     "execution_count": 25,
     "metadata": {},
     "output_type": "execute_result"
    }
   ],
   "source": [
    "# распределение оценок для заданного фильма\n",
    "hist_film_c = user_marks.filter(lambda x: x[1] is film_id).map(lambda x: (x[2],1)).reduceByKey(add).sortBy(lambda x: x[0])\n",
    "hist_film_c.collect()"
   ]
  },
  {
   "cell_type": "code",
   "execution_count": 28,
   "metadata": {
    "collapsed": false
   },
   "outputs": [
    {
     "name": "stdout",
     "output_type": "stream",
     "text": [
      "[14, 18, 92, 118, 30]\n"
     ]
    }
   ],
   "source": [
    "hist_film = hist_film_c.map(lambda x: x[1]).take(5)\n",
    "print hist_film"
   ]
  },
  {
   "cell_type": "code",
   "execution_count": 29,
   "metadata": {
    "collapsed": false
   },
   "outputs": [
    {
     "data": {
      "text/plain": [
       "[(1, 6110), (2, 11370), (3, 27145), (4, 34174), (5, 21201)]"
      ]
     },
     "execution_count": 29,
     "metadata": {},
     "output_type": "execute_result"
    }
   ],
   "source": [
    "# распределение оценок для всех фильмов\n",
    "hist_film_all = user_marks.map(lambda x: (x[2],1)).reduceByKey(add).sortBy(lambda x: x[0])\n",
    "hist_film_all.collect()"
   ]
  },
  {
   "cell_type": "code",
   "execution_count": 30,
   "metadata": {
    "collapsed": false
   },
   "outputs": [
    {
     "name": "stdout",
     "output_type": "stream",
     "text": [
      "[6110, 11370, 27145, 34174, 21201]\n"
     ]
    }
   ],
   "source": [
    "hist_all = hist_film_all.map(lambda x: x[1]).take(5)\n",
    "print hist_all"
   ]
  },
  {
   "cell_type": "code",
   "execution_count": 32,
   "metadata": {
    "collapsed": true
   },
   "outputs": [],
   "source": [
    "# сохраняем\n",
    "import json\n",
    "\n",
    "result = {\n",
    "    \"top10_rates\": top10_rates,\n",
    "    \"top10_average\": top10_average,\n",
    "    \"top10_rating\": top10_rating,\n",
    "    \"top10_lower\": top10_lower,\n",
    "    \"hist_film\": hist_film,\n",
    "    \"hist_all\": hist_all\n",
    "}\n",
    "\n",
    "with open('lab9.json', 'w') as f:\n",
    "    f.write(json.dumps(result))\n",
    "    f.close()"
   ]
  },
  {
   "cell_type": "code",
   "execution_count": null,
   "metadata": {
    "collapsed": true
   },
   "outputs": [],
   "source": []
  }
 ],
 "metadata": {
  "kernelspec": {
   "display_name": "Python 2",
   "language": "python",
   "name": "python2"
  },
  "language_info": {
   "codemirror_mode": {
    "name": "ipython",
    "version": 2
   },
   "file_extension": ".py",
   "mimetype": "text/x-python",
   "name": "python",
   "nbconvert_exporter": "python",
   "pygments_lexer": "ipython2",
   "version": "2.7.6"
  }
 },
 "nbformat": 4,
 "nbformat_minor": 0
}
